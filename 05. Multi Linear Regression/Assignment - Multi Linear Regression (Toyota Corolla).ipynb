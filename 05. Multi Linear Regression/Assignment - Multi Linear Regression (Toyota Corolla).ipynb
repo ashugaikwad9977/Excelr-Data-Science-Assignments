{
 "cells": [
  {
   "cell_type": "code",
   "execution_count": 4,
   "id": "317b4b4d",
   "metadata": {},
   "outputs": [],
   "source": [
    "import pandas as pd\n",
    "import numpy as np\n",
    "import seaborn as sns\n",
    "import matplotlib.pyplot as plt\n",
    "from sklearn import metrics\n",
    "import warnings\n",
    "warnings.filterwarnings('ignore')"
   ]
  },
  {
   "cell_type": "code",
   "execution_count": 5,
   "id": "2688ae2f",
   "metadata": {},
   "outputs": [],
   "source": [
    "data=pd.read_csv('ToyotaCorolla.csv',encoding= 'unicode_escape',index_col=0)"
   ]
  },
  {
   "cell_type": "code",
   "execution_count": 6,
   "id": "4eba3b9f",
   "metadata": {},
   "outputs": [
    {
     "data": {
      "text/html": [
       "<div>\n",
       "<style scoped>\n",
       "    .dataframe tbody tr th:only-of-type {\n",
       "        vertical-align: middle;\n",
       "    }\n",
       "\n",
       "    .dataframe tbody tr th {\n",
       "        vertical-align: top;\n",
       "    }\n",
       "\n",
       "    .dataframe thead th {\n",
       "        text-align: right;\n",
       "    }\n",
       "</style>\n",
       "<table border=\"1\" class=\"dataframe\">\n",
       "  <thead>\n",
       "    <tr style=\"text-align: right;\">\n",
       "      <th></th>\n",
       "      <th>Model</th>\n",
       "      <th>Price</th>\n",
       "      <th>Age_08_04</th>\n",
       "      <th>Mfg_Month</th>\n",
       "      <th>Mfg_Year</th>\n",
       "      <th>KM</th>\n",
       "      <th>Fuel_Type</th>\n",
       "      <th>HP</th>\n",
       "      <th>Met_Color</th>\n",
       "      <th>Color</th>\n",
       "      <th>...</th>\n",
       "      <th>Central_Lock</th>\n",
       "      <th>Powered_Windows</th>\n",
       "      <th>Power_Steering</th>\n",
       "      <th>Radio</th>\n",
       "      <th>Mistlamps</th>\n",
       "      <th>Sport_Model</th>\n",
       "      <th>Backseat_Divider</th>\n",
       "      <th>Metallic_Rim</th>\n",
       "      <th>Radio_cassette</th>\n",
       "      <th>Tow_Bar</th>\n",
       "    </tr>\n",
       "    <tr>\n",
       "      <th>Id</th>\n",
       "      <th></th>\n",
       "      <th></th>\n",
       "      <th></th>\n",
       "      <th></th>\n",
       "      <th></th>\n",
       "      <th></th>\n",
       "      <th></th>\n",
       "      <th></th>\n",
       "      <th></th>\n",
       "      <th></th>\n",
       "      <th></th>\n",
       "      <th></th>\n",
       "      <th></th>\n",
       "      <th></th>\n",
       "      <th></th>\n",
       "      <th></th>\n",
       "      <th></th>\n",
       "      <th></th>\n",
       "      <th></th>\n",
       "      <th></th>\n",
       "      <th></th>\n",
       "    </tr>\n",
       "  </thead>\n",
       "  <tbody>\n",
       "    <tr>\n",
       "      <th>1</th>\n",
       "      <td>TOYOTA Corolla 2.0 D4D HATCHB TERRA 2/3-Doors</td>\n",
       "      <td>13500</td>\n",
       "      <td>23</td>\n",
       "      <td>10</td>\n",
       "      <td>2002</td>\n",
       "      <td>46986</td>\n",
       "      <td>Diesel</td>\n",
       "      <td>90</td>\n",
       "      <td>1</td>\n",
       "      <td>Blue</td>\n",
       "      <td>...</td>\n",
       "      <td>1</td>\n",
       "      <td>1</td>\n",
       "      <td>1</td>\n",
       "      <td>0</td>\n",
       "      <td>0</td>\n",
       "      <td>0</td>\n",
       "      <td>1</td>\n",
       "      <td>0</td>\n",
       "      <td>0</td>\n",
       "      <td>0</td>\n",
       "    </tr>\n",
       "    <tr>\n",
       "      <th>2</th>\n",
       "      <td>TOYOTA Corolla 2.0 D4D HATCHB TERRA 2/3-Doors</td>\n",
       "      <td>13750</td>\n",
       "      <td>23</td>\n",
       "      <td>10</td>\n",
       "      <td>2002</td>\n",
       "      <td>72937</td>\n",
       "      <td>Diesel</td>\n",
       "      <td>90</td>\n",
       "      <td>1</td>\n",
       "      <td>Silver</td>\n",
       "      <td>...</td>\n",
       "      <td>1</td>\n",
       "      <td>0</td>\n",
       "      <td>1</td>\n",
       "      <td>0</td>\n",
       "      <td>0</td>\n",
       "      <td>0</td>\n",
       "      <td>1</td>\n",
       "      <td>0</td>\n",
       "      <td>0</td>\n",
       "      <td>0</td>\n",
       "    </tr>\n",
       "    <tr>\n",
       "      <th>3</th>\n",
       "      <td>TOYOTA Corolla 2.0 D4D HATCHB TERRA 2/3-Doors</td>\n",
       "      <td>13950</td>\n",
       "      <td>24</td>\n",
       "      <td>9</td>\n",
       "      <td>2002</td>\n",
       "      <td>41711</td>\n",
       "      <td>Diesel</td>\n",
       "      <td>90</td>\n",
       "      <td>1</td>\n",
       "      <td>Blue</td>\n",
       "      <td>...</td>\n",
       "      <td>0</td>\n",
       "      <td>0</td>\n",
       "      <td>1</td>\n",
       "      <td>0</td>\n",
       "      <td>0</td>\n",
       "      <td>0</td>\n",
       "      <td>1</td>\n",
       "      <td>0</td>\n",
       "      <td>0</td>\n",
       "      <td>0</td>\n",
       "    </tr>\n",
       "    <tr>\n",
       "      <th>4</th>\n",
       "      <td>TOYOTA Corolla 2.0 D4D HATCHB TERRA 2/3-Doors</td>\n",
       "      <td>14950</td>\n",
       "      <td>26</td>\n",
       "      <td>7</td>\n",
       "      <td>2002</td>\n",
       "      <td>48000</td>\n",
       "      <td>Diesel</td>\n",
       "      <td>90</td>\n",
       "      <td>0</td>\n",
       "      <td>Black</td>\n",
       "      <td>...</td>\n",
       "      <td>0</td>\n",
       "      <td>0</td>\n",
       "      <td>1</td>\n",
       "      <td>0</td>\n",
       "      <td>0</td>\n",
       "      <td>0</td>\n",
       "      <td>1</td>\n",
       "      <td>0</td>\n",
       "      <td>0</td>\n",
       "      <td>0</td>\n",
       "    </tr>\n",
       "    <tr>\n",
       "      <th>5</th>\n",
       "      <td>TOYOTA Corolla 2.0 D4D HATCHB SOL 2/3-Doors</td>\n",
       "      <td>13750</td>\n",
       "      <td>30</td>\n",
       "      <td>3</td>\n",
       "      <td>2002</td>\n",
       "      <td>38500</td>\n",
       "      <td>Diesel</td>\n",
       "      <td>90</td>\n",
       "      <td>0</td>\n",
       "      <td>Black</td>\n",
       "      <td>...</td>\n",
       "      <td>1</td>\n",
       "      <td>1</td>\n",
       "      <td>1</td>\n",
       "      <td>0</td>\n",
       "      <td>1</td>\n",
       "      <td>0</td>\n",
       "      <td>1</td>\n",
       "      <td>0</td>\n",
       "      <td>0</td>\n",
       "      <td>0</td>\n",
       "    </tr>\n",
       "  </tbody>\n",
       "</table>\n",
       "<p>5 rows × 37 columns</p>\n",
       "</div>"
      ],
      "text/plain": [
       "                                             Model  Price  Age_08_04  \\\n",
       "Id                                                                     \n",
       "1    TOYOTA Corolla 2.0 D4D HATCHB TERRA 2/3-Doors  13500         23   \n",
       "2    TOYOTA Corolla 2.0 D4D HATCHB TERRA 2/3-Doors  13750         23   \n",
       "3    TOYOTA Corolla 2.0 D4D HATCHB TERRA 2/3-Doors  13950         24   \n",
       "4    TOYOTA Corolla 2.0 D4D HATCHB TERRA 2/3-Doors  14950         26   \n",
       "5      TOYOTA Corolla 2.0 D4D HATCHB SOL 2/3-Doors  13750         30   \n",
       "\n",
       "    Mfg_Month  Mfg_Year     KM Fuel_Type  HP  Met_Color   Color  ...  \\\n",
       "Id                                                               ...   \n",
       "1          10      2002  46986    Diesel  90          1    Blue  ...   \n",
       "2          10      2002  72937    Diesel  90          1  Silver  ...   \n",
       "3           9      2002  41711    Diesel  90          1    Blue  ...   \n",
       "4           7      2002  48000    Diesel  90          0   Black  ...   \n",
       "5           3      2002  38500    Diesel  90          0   Black  ...   \n",
       "\n",
       "    Central_Lock  Powered_Windows  Power_Steering  Radio  Mistlamps  \\\n",
       "Id                                                                    \n",
       "1              1                1               1      0          0   \n",
       "2              1                0               1      0          0   \n",
       "3              0                0               1      0          0   \n",
       "4              0                0               1      0          0   \n",
       "5              1                1               1      0          1   \n",
       "\n",
       "    Sport_Model  Backseat_Divider  Metallic_Rim  Radio_cassette  Tow_Bar  \n",
       "Id                                                                        \n",
       "1             0                 1             0               0        0  \n",
       "2             0                 1             0               0        0  \n",
       "3             0                 1             0               0        0  \n",
       "4             0                 1             0               0        0  \n",
       "5             0                 1             0               0        0  \n",
       "\n",
       "[5 rows x 37 columns]"
      ]
     },
     "execution_count": 6,
     "metadata": {},
     "output_type": "execute_result"
    }
   ],
   "source": [
    "data.head()"
   ]
  },
  {
   "cell_type": "code",
   "execution_count": 7,
   "id": "b9fa4cce",
   "metadata": {},
   "outputs": [],
   "source": [
    "data=data.loc[:,[\"Price\",\"Age_08_04\",\"KM\",\"HP\",\"cc\",\"Doors\",\"Gears\",\"Quarterly_Tax\",\"Weight\"]]"
   ]
  },
  {
   "cell_type": "code",
   "execution_count": 8,
   "id": "40e045ec",
   "metadata": {},
   "outputs": [
    {
     "data": {
      "text/html": [
       "<div>\n",
       "<style scoped>\n",
       "    .dataframe tbody tr th:only-of-type {\n",
       "        vertical-align: middle;\n",
       "    }\n",
       "\n",
       "    .dataframe tbody tr th {\n",
       "        vertical-align: top;\n",
       "    }\n",
       "\n",
       "    .dataframe thead th {\n",
       "        text-align: right;\n",
       "    }\n",
       "</style>\n",
       "<table border=\"1\" class=\"dataframe\">\n",
       "  <thead>\n",
       "    <tr style=\"text-align: right;\">\n",
       "      <th></th>\n",
       "      <th>Price</th>\n",
       "      <th>Age_08_04</th>\n",
       "      <th>KM</th>\n",
       "      <th>HP</th>\n",
       "      <th>cc</th>\n",
       "      <th>Doors</th>\n",
       "      <th>Gears</th>\n",
       "      <th>Quarterly_Tax</th>\n",
       "      <th>Weight</th>\n",
       "    </tr>\n",
       "    <tr>\n",
       "      <th>Id</th>\n",
       "      <th></th>\n",
       "      <th></th>\n",
       "      <th></th>\n",
       "      <th></th>\n",
       "      <th></th>\n",
       "      <th></th>\n",
       "      <th></th>\n",
       "      <th></th>\n",
       "      <th></th>\n",
       "    </tr>\n",
       "  </thead>\n",
       "  <tbody>\n",
       "    <tr>\n",
       "      <th>1</th>\n",
       "      <td>13500</td>\n",
       "      <td>23</td>\n",
       "      <td>46986</td>\n",
       "      <td>90</td>\n",
       "      <td>2000</td>\n",
       "      <td>3</td>\n",
       "      <td>5</td>\n",
       "      <td>210</td>\n",
       "      <td>1165</td>\n",
       "    </tr>\n",
       "    <tr>\n",
       "      <th>2</th>\n",
       "      <td>13750</td>\n",
       "      <td>23</td>\n",
       "      <td>72937</td>\n",
       "      <td>90</td>\n",
       "      <td>2000</td>\n",
       "      <td>3</td>\n",
       "      <td>5</td>\n",
       "      <td>210</td>\n",
       "      <td>1165</td>\n",
       "    </tr>\n",
       "    <tr>\n",
       "      <th>3</th>\n",
       "      <td>13950</td>\n",
       "      <td>24</td>\n",
       "      <td>41711</td>\n",
       "      <td>90</td>\n",
       "      <td>2000</td>\n",
       "      <td>3</td>\n",
       "      <td>5</td>\n",
       "      <td>210</td>\n",
       "      <td>1165</td>\n",
       "    </tr>\n",
       "    <tr>\n",
       "      <th>4</th>\n",
       "      <td>14950</td>\n",
       "      <td>26</td>\n",
       "      <td>48000</td>\n",
       "      <td>90</td>\n",
       "      <td>2000</td>\n",
       "      <td>3</td>\n",
       "      <td>5</td>\n",
       "      <td>210</td>\n",
       "      <td>1165</td>\n",
       "    </tr>\n",
       "    <tr>\n",
       "      <th>5</th>\n",
       "      <td>13750</td>\n",
       "      <td>30</td>\n",
       "      <td>38500</td>\n",
       "      <td>90</td>\n",
       "      <td>2000</td>\n",
       "      <td>3</td>\n",
       "      <td>5</td>\n",
       "      <td>210</td>\n",
       "      <td>1170</td>\n",
       "    </tr>\n",
       "    <tr>\n",
       "      <th>...</th>\n",
       "      <td>...</td>\n",
       "      <td>...</td>\n",
       "      <td>...</td>\n",
       "      <td>...</td>\n",
       "      <td>...</td>\n",
       "      <td>...</td>\n",
       "      <td>...</td>\n",
       "      <td>...</td>\n",
       "      <td>...</td>\n",
       "    </tr>\n",
       "    <tr>\n",
       "      <th>1438</th>\n",
       "      <td>7500</td>\n",
       "      <td>69</td>\n",
       "      <td>20544</td>\n",
       "      <td>86</td>\n",
       "      <td>1300</td>\n",
       "      <td>3</td>\n",
       "      <td>5</td>\n",
       "      <td>69</td>\n",
       "      <td>1025</td>\n",
       "    </tr>\n",
       "    <tr>\n",
       "      <th>1439</th>\n",
       "      <td>10845</td>\n",
       "      <td>72</td>\n",
       "      <td>19000</td>\n",
       "      <td>86</td>\n",
       "      <td>1300</td>\n",
       "      <td>3</td>\n",
       "      <td>5</td>\n",
       "      <td>69</td>\n",
       "      <td>1015</td>\n",
       "    </tr>\n",
       "    <tr>\n",
       "      <th>1440</th>\n",
       "      <td>8500</td>\n",
       "      <td>71</td>\n",
       "      <td>17016</td>\n",
       "      <td>86</td>\n",
       "      <td>1300</td>\n",
       "      <td>3</td>\n",
       "      <td>5</td>\n",
       "      <td>69</td>\n",
       "      <td>1015</td>\n",
       "    </tr>\n",
       "    <tr>\n",
       "      <th>1441</th>\n",
       "      <td>7250</td>\n",
       "      <td>70</td>\n",
       "      <td>16916</td>\n",
       "      <td>86</td>\n",
       "      <td>1300</td>\n",
       "      <td>3</td>\n",
       "      <td>5</td>\n",
       "      <td>69</td>\n",
       "      <td>1015</td>\n",
       "    </tr>\n",
       "    <tr>\n",
       "      <th>1442</th>\n",
       "      <td>6950</td>\n",
       "      <td>76</td>\n",
       "      <td>1</td>\n",
       "      <td>110</td>\n",
       "      <td>1600</td>\n",
       "      <td>5</td>\n",
       "      <td>5</td>\n",
       "      <td>19</td>\n",
       "      <td>1114</td>\n",
       "    </tr>\n",
       "  </tbody>\n",
       "</table>\n",
       "<p>1436 rows × 9 columns</p>\n",
       "</div>"
      ],
      "text/plain": [
       "      Price  Age_08_04     KM   HP    cc  Doors  Gears  Quarterly_Tax  Weight\n",
       "Id                                                                           \n",
       "1     13500         23  46986   90  2000      3      5            210    1165\n",
       "2     13750         23  72937   90  2000      3      5            210    1165\n",
       "3     13950         24  41711   90  2000      3      5            210    1165\n",
       "4     14950         26  48000   90  2000      3      5            210    1165\n",
       "5     13750         30  38500   90  2000      3      5            210    1170\n",
       "...     ...        ...    ...  ...   ...    ...    ...            ...     ...\n",
       "1438   7500         69  20544   86  1300      3      5             69    1025\n",
       "1439  10845         72  19000   86  1300      3      5             69    1015\n",
       "1440   8500         71  17016   86  1300      3      5             69    1015\n",
       "1441   7250         70  16916   86  1300      3      5             69    1015\n",
       "1442   6950         76      1  110  1600      5      5             19    1114\n",
       "\n",
       "[1436 rows x 9 columns]"
      ]
     },
     "execution_count": 8,
     "metadata": {},
     "output_type": "execute_result"
    }
   ],
   "source": [
    "data"
   ]
  },
  {
   "cell_type": "code",
   "execution_count": 9,
   "id": "dc7937e1",
   "metadata": {},
   "outputs": [],
   "source": [
    "data=data.rename({'Price':'price','Age_08_04':'age','KM':'km','HP':'hp','Doors':'doors','Gears':'gears','Quarterly_Tax':'tax','Weight':'weight'},axis=1)"
   ]
  },
  {
   "cell_type": "code",
   "execution_count": 10,
   "id": "bb60334e",
   "metadata": {},
   "outputs": [
    {
     "data": {
      "text/plain": [
       "(1436, 9)"
      ]
     },
     "execution_count": 10,
     "metadata": {},
     "output_type": "execute_result"
    }
   ],
   "source": [
    "data.shape"
   ]
  },
  {
   "cell_type": "code",
   "execution_count": 11,
   "id": "b284ecae",
   "metadata": {},
   "outputs": [
    {
     "data": {
      "text/plain": [
       "price     0\n",
       "age       0\n",
       "km        0\n",
       "hp        0\n",
       "cc        0\n",
       "doors     0\n",
       "gears     0\n",
       "tax       0\n",
       "weight    0\n",
       "dtype: int64"
      ]
     },
     "execution_count": 11,
     "metadata": {},
     "output_type": "execute_result"
    }
   ],
   "source": [
    "data.isnull().sum()"
   ]
  },
  {
   "cell_type": "code",
   "execution_count": 12,
   "id": "aa3f1509",
   "metadata": {},
   "outputs": [
    {
     "name": "stdout",
     "output_type": "stream",
     "text": [
      "<class 'pandas.core.frame.DataFrame'>\n",
      "Int64Index: 1436 entries, 1 to 1442\n",
      "Data columns (total 9 columns):\n",
      " #   Column  Non-Null Count  Dtype\n",
      "---  ------  --------------  -----\n",
      " 0   price   1436 non-null   int64\n",
      " 1   age     1436 non-null   int64\n",
      " 2   km      1436 non-null   int64\n",
      " 3   hp      1436 non-null   int64\n",
      " 4   cc      1436 non-null   int64\n",
      " 5   doors   1436 non-null   int64\n",
      " 6   gears   1436 non-null   int64\n",
      " 7   tax     1436 non-null   int64\n",
      " 8   weight  1436 non-null   int64\n",
      "dtypes: int64(9)\n",
      "memory usage: 112.2 KB\n"
     ]
    }
   ],
   "source": [
    "data.info()"
   ]
  },
  {
   "cell_type": "code",
   "execution_count": 13,
   "id": "9ce2c22d",
   "metadata": {},
   "outputs": [
    {
     "data": {
      "text/html": [
       "<div>\n",
       "<style scoped>\n",
       "    .dataframe tbody tr th:only-of-type {\n",
       "        vertical-align: middle;\n",
       "    }\n",
       "\n",
       "    .dataframe tbody tr th {\n",
       "        vertical-align: top;\n",
       "    }\n",
       "\n",
       "    .dataframe thead th {\n",
       "        text-align: right;\n",
       "    }\n",
       "</style>\n",
       "<table border=\"1\" class=\"dataframe\">\n",
       "  <thead>\n",
       "    <tr style=\"text-align: right;\">\n",
       "      <th></th>\n",
       "      <th>price</th>\n",
       "      <th>age</th>\n",
       "      <th>km</th>\n",
       "      <th>hp</th>\n",
       "      <th>cc</th>\n",
       "      <th>doors</th>\n",
       "      <th>gears</th>\n",
       "      <th>tax</th>\n",
       "      <th>weight</th>\n",
       "    </tr>\n",
       "  </thead>\n",
       "  <tbody>\n",
       "    <tr>\n",
       "      <th>count</th>\n",
       "      <td>1436.000000</td>\n",
       "      <td>1436.000000</td>\n",
       "      <td>1436.000000</td>\n",
       "      <td>1436.000000</td>\n",
       "      <td>1436.00000</td>\n",
       "      <td>1436.000000</td>\n",
       "      <td>1436.000000</td>\n",
       "      <td>1436.000000</td>\n",
       "      <td>1436.00000</td>\n",
       "    </tr>\n",
       "    <tr>\n",
       "      <th>mean</th>\n",
       "      <td>10730.824513</td>\n",
       "      <td>55.947075</td>\n",
       "      <td>68533.259749</td>\n",
       "      <td>101.502089</td>\n",
       "      <td>1576.85585</td>\n",
       "      <td>4.033426</td>\n",
       "      <td>5.026462</td>\n",
       "      <td>87.122563</td>\n",
       "      <td>1072.45961</td>\n",
       "    </tr>\n",
       "    <tr>\n",
       "      <th>std</th>\n",
       "      <td>3626.964585</td>\n",
       "      <td>18.599988</td>\n",
       "      <td>37506.448872</td>\n",
       "      <td>14.981080</td>\n",
       "      <td>424.38677</td>\n",
       "      <td>0.952677</td>\n",
       "      <td>0.188510</td>\n",
       "      <td>41.128611</td>\n",
       "      <td>52.64112</td>\n",
       "    </tr>\n",
       "    <tr>\n",
       "      <th>min</th>\n",
       "      <td>4350.000000</td>\n",
       "      <td>1.000000</td>\n",
       "      <td>1.000000</td>\n",
       "      <td>69.000000</td>\n",
       "      <td>1300.00000</td>\n",
       "      <td>2.000000</td>\n",
       "      <td>3.000000</td>\n",
       "      <td>19.000000</td>\n",
       "      <td>1000.00000</td>\n",
       "    </tr>\n",
       "    <tr>\n",
       "      <th>25%</th>\n",
       "      <td>8450.000000</td>\n",
       "      <td>44.000000</td>\n",
       "      <td>43000.000000</td>\n",
       "      <td>90.000000</td>\n",
       "      <td>1400.00000</td>\n",
       "      <td>3.000000</td>\n",
       "      <td>5.000000</td>\n",
       "      <td>69.000000</td>\n",
       "      <td>1040.00000</td>\n",
       "    </tr>\n",
       "    <tr>\n",
       "      <th>50%</th>\n",
       "      <td>9900.000000</td>\n",
       "      <td>61.000000</td>\n",
       "      <td>63389.500000</td>\n",
       "      <td>110.000000</td>\n",
       "      <td>1600.00000</td>\n",
       "      <td>4.000000</td>\n",
       "      <td>5.000000</td>\n",
       "      <td>85.000000</td>\n",
       "      <td>1070.00000</td>\n",
       "    </tr>\n",
       "    <tr>\n",
       "      <th>75%</th>\n",
       "      <td>11950.000000</td>\n",
       "      <td>70.000000</td>\n",
       "      <td>87020.750000</td>\n",
       "      <td>110.000000</td>\n",
       "      <td>1600.00000</td>\n",
       "      <td>5.000000</td>\n",
       "      <td>5.000000</td>\n",
       "      <td>85.000000</td>\n",
       "      <td>1085.00000</td>\n",
       "    </tr>\n",
       "    <tr>\n",
       "      <th>max</th>\n",
       "      <td>32500.000000</td>\n",
       "      <td>80.000000</td>\n",
       "      <td>243000.000000</td>\n",
       "      <td>192.000000</td>\n",
       "      <td>16000.00000</td>\n",
       "      <td>5.000000</td>\n",
       "      <td>6.000000</td>\n",
       "      <td>283.000000</td>\n",
       "      <td>1615.00000</td>\n",
       "    </tr>\n",
       "  </tbody>\n",
       "</table>\n",
       "</div>"
      ],
      "text/plain": [
       "              price          age             km           hp           cc  \\\n",
       "count   1436.000000  1436.000000    1436.000000  1436.000000   1436.00000   \n",
       "mean   10730.824513    55.947075   68533.259749   101.502089   1576.85585   \n",
       "std     3626.964585    18.599988   37506.448872    14.981080    424.38677   \n",
       "min     4350.000000     1.000000       1.000000    69.000000   1300.00000   \n",
       "25%     8450.000000    44.000000   43000.000000    90.000000   1400.00000   \n",
       "50%     9900.000000    61.000000   63389.500000   110.000000   1600.00000   \n",
       "75%    11950.000000    70.000000   87020.750000   110.000000   1600.00000   \n",
       "max    32500.000000    80.000000  243000.000000   192.000000  16000.00000   \n",
       "\n",
       "             doors        gears          tax      weight  \n",
       "count  1436.000000  1436.000000  1436.000000  1436.00000  \n",
       "mean      4.033426     5.026462    87.122563  1072.45961  \n",
       "std       0.952677     0.188510    41.128611    52.64112  \n",
       "min       2.000000     3.000000    19.000000  1000.00000  \n",
       "25%       3.000000     5.000000    69.000000  1040.00000  \n",
       "50%       4.000000     5.000000    85.000000  1070.00000  \n",
       "75%       5.000000     5.000000    85.000000  1085.00000  \n",
       "max       5.000000     6.000000   283.000000  1615.00000  "
      ]
     },
     "execution_count": 13,
     "metadata": {},
     "output_type": "execute_result"
    }
   ],
   "source": [
    "data.describe()\n"
   ]
  },
  {
   "cell_type": "code",
   "execution_count": 14,
   "id": "2e0b7a33",
   "metadata": {},
   "outputs": [
    {
     "data": {
      "text/plain": [
       "<AxesSubplot:>"
      ]
     },
     "execution_count": 14,
     "metadata": {},
     "output_type": "execute_result"
    },
    {
     "data": {
      "image/png": "[encoded data removed]",
      "text/plain": [
       "<Figure size 432x288 with 1 Axes>"
      ]
     },
     "metadata": {
      "needs_background": "light"
     },
     "output_type": "display_data"
    }
   ],
   "source": [
    "data['cc'].plot(kind='box')"
   ]
  },
  {
   "cell_type": "code",
   "execution_count": 15,
   "id": "8e610311",
   "metadata": {},
   "outputs": [
    {
     "data": {
      "text/plain": [
       "2000.0"
      ]
     },
     "execution_count": 15,
     "metadata": {},
     "output_type": "execute_result"
    }
   ],
   "source": [
    "data['cc'].quantile(0.999)"
   ]
  },
  {
   "cell_type": "code",
   "execution_count": 16,
   "id": "efa55d5e",
   "metadata": {},
   "outputs": [
    {
     "data": {
      "text/html": [
       "<div>\n",
       "<style scoped>\n",
       "    .dataframe tbody tr th:only-of-type {\n",
       "        vertical-align: middle;\n",
       "    }\n",
       "\n",
       "    .dataframe tbody tr th {\n",
       "        vertical-align: top;\n",
       "    }\n",
       "\n",
       "    .dataframe thead th {\n",
       "        text-align: right;\n",
       "    }\n",
       "</style>\n",
       "<table border=\"1\" class=\"dataframe\">\n",
       "  <thead>\n",
       "    <tr style=\"text-align: right;\">\n",
       "      <th></th>\n",
       "      <th>price</th>\n",
       "      <th>age</th>\n",
       "      <th>km</th>\n",
       "      <th>hp</th>\n",
       "      <th>cc</th>\n",
       "      <th>doors</th>\n",
       "      <th>gears</th>\n",
       "      <th>tax</th>\n",
       "      <th>weight</th>\n",
       "    </tr>\n",
       "    <tr>\n",
       "      <th>Id</th>\n",
       "      <th></th>\n",
       "      <th></th>\n",
       "      <th></th>\n",
       "      <th></th>\n",
       "      <th></th>\n",
       "      <th></th>\n",
       "      <th></th>\n",
       "      <th></th>\n",
       "      <th></th>\n",
       "    </tr>\n",
       "  </thead>\n",
       "  <tbody>\n",
       "    <tr>\n",
       "      <th>81</th>\n",
       "      <td>18950</td>\n",
       "      <td>25</td>\n",
       "      <td>20019</td>\n",
       "      <td>110</td>\n",
       "      <td>16000</td>\n",
       "      <td>5</td>\n",
       "      <td>5</td>\n",
       "      <td>100</td>\n",
       "      <td>1180</td>\n",
       "    </tr>\n",
       "  </tbody>\n",
       "</table>\n",
       "</div>"
      ],
      "text/plain": [
       "    price  age     km   hp     cc  doors  gears  tax  weight\n",
       "Id                                                          \n",
       "81  18950   25  20019  110  16000      5      5  100    1180"
      ]
     },
     "execution_count": 16,
     "metadata": {},
     "output_type": "execute_result"
    }
   ],
   "source": [
    "data[data['cc']>2000]"
   ]
  },
  {
   "cell_type": "code",
   "execution_count": 17,
   "id": "89e2e52b",
   "metadata": {},
   "outputs": [],
   "source": [
    "data.drop(data.index[80],inplace=True)"
   ]
  },
  {
   "cell_type": "code",
   "execution_count": 18,
   "id": "9a115f1d",
   "metadata": {},
   "outputs": [],
   "source": [
    "data.reset_index(drop=True,inplace=True)"
   ]
  },
  {
   "cell_type": "code",
   "execution_count": 19,
   "id": "c0661d60",
   "metadata": {},
   "outputs": [
    {
     "data": {
      "text/html": [
       "<div>\n",
       "<style scoped>\n",
       "    .dataframe tbody tr th:only-of-type {\n",
       "        vertical-align: middle;\n",
       "    }\n",
       "\n",
       "    .dataframe tbody tr th {\n",
       "        vertical-align: top;\n",
       "    }\n",
       "\n",
       "    .dataframe thead th {\n",
       "        text-align: right;\n",
       "    }\n",
       "</style>\n",
       "<table border=\"1\" class=\"dataframe\">\n",
       "  <thead>\n",
       "    <tr style=\"text-align: right;\">\n",
       "      <th></th>\n",
       "      <th>price</th>\n",
       "      <th>age</th>\n",
       "      <th>km</th>\n",
       "      <th>hp</th>\n",
       "      <th>cc</th>\n",
       "      <th>doors</th>\n",
       "      <th>gears</th>\n",
       "      <th>tax</th>\n",
       "      <th>weight</th>\n",
       "    </tr>\n",
       "  </thead>\n",
       "  <tbody>\n",
       "    <tr>\n",
       "      <th>75</th>\n",
       "      <td>16950</td>\n",
       "      <td>23</td>\n",
       "      <td>28000</td>\n",
       "      <td>110</td>\n",
       "      <td>1600</td>\n",
       "      <td>5</td>\n",
       "      <td>5</td>\n",
       "      <td>85</td>\n",
       "      <td>1115</td>\n",
       "    </tr>\n",
       "    <tr>\n",
       "      <th>76</th>\n",
       "      <td>18750</td>\n",
       "      <td>31</td>\n",
       "      <td>25266</td>\n",
       "      <td>110</td>\n",
       "      <td>1600</td>\n",
       "      <td>5</td>\n",
       "      <td>5</td>\n",
       "      <td>85</td>\n",
       "      <td>1130</td>\n",
       "    </tr>\n",
       "    <tr>\n",
       "      <th>77</th>\n",
       "      <td>18450</td>\n",
       "      <td>27</td>\n",
       "      <td>23489</td>\n",
       "      <td>110</td>\n",
       "      <td>1600</td>\n",
       "      <td>5</td>\n",
       "      <td>5</td>\n",
       "      <td>85</td>\n",
       "      <td>1115</td>\n",
       "    </tr>\n",
       "    <tr>\n",
       "      <th>78</th>\n",
       "      <td>16895</td>\n",
       "      <td>29</td>\n",
       "      <td>22575</td>\n",
       "      <td>110</td>\n",
       "      <td>1600</td>\n",
       "      <td>5</td>\n",
       "      <td>5</td>\n",
       "      <td>85</td>\n",
       "      <td>1115</td>\n",
       "    </tr>\n",
       "    <tr>\n",
       "      <th>79</th>\n",
       "      <td>14900</td>\n",
       "      <td>30</td>\n",
       "      <td>22000</td>\n",
       "      <td>97</td>\n",
       "      <td>1400</td>\n",
       "      <td>5</td>\n",
       "      <td>5</td>\n",
       "      <td>85</td>\n",
       "      <td>1110</td>\n",
       "    </tr>\n",
       "    <tr>\n",
       "      <th>80</th>\n",
       "      <td>17250</td>\n",
       "      <td>29</td>\n",
       "      <td>20000</td>\n",
       "      <td>110</td>\n",
       "      <td>1600</td>\n",
       "      <td>5</td>\n",
       "      <td>5</td>\n",
       "      <td>85</td>\n",
       "      <td>1115</td>\n",
       "    </tr>\n",
       "    <tr>\n",
       "      <th>81</th>\n",
       "      <td>15450</td>\n",
       "      <td>25</td>\n",
       "      <td>17003</td>\n",
       "      <td>97</td>\n",
       "      <td>1400</td>\n",
       "      <td>5</td>\n",
       "      <td>5</td>\n",
       "      <td>85</td>\n",
       "      <td>1110</td>\n",
       "    </tr>\n",
       "    <tr>\n",
       "      <th>82</th>\n",
       "      <td>17950</td>\n",
       "      <td>31</td>\n",
       "      <td>16238</td>\n",
       "      <td>110</td>\n",
       "      <td>1600</td>\n",
       "      <td>5</td>\n",
       "      <td>5</td>\n",
       "      <td>100</td>\n",
       "      <td>1180</td>\n",
       "    </tr>\n",
       "    <tr>\n",
       "      <th>83</th>\n",
       "      <td>16650</td>\n",
       "      <td>25</td>\n",
       "      <td>15414</td>\n",
       "      <td>97</td>\n",
       "      <td>1400</td>\n",
       "      <td>5</td>\n",
       "      <td>5</td>\n",
       "      <td>85</td>\n",
       "      <td>1110</td>\n",
       "    </tr>\n",
       "    <tr>\n",
       "      <th>84</th>\n",
       "      <td>17450</td>\n",
       "      <td>28</td>\n",
       "      <td>8537</td>\n",
       "      <td>110</td>\n",
       "      <td>1600</td>\n",
       "      <td>5</td>\n",
       "      <td>5</td>\n",
       "      <td>85</td>\n",
       "      <td>1130</td>\n",
       "    </tr>\n",
       "  </tbody>\n",
       "</table>\n",
       "</div>"
      ],
      "text/plain": [
       "    price  age     km   hp    cc  doors  gears  tax  weight\n",
       "75  16950   23  28000  110  1600      5      5   85    1115\n",
       "76  18750   31  25266  110  1600      5      5   85    1130\n",
       "77  18450   27  23489  110  1600      5      5   85    1115\n",
       "78  16895   29  22575  110  1600      5      5   85    1115\n",
       "79  14900   30  22000   97  1400      5      5   85    1110\n",
       "80  17250   29  20000  110  1600      5      5   85    1115\n",
       "81  15450   25  17003   97  1400      5      5   85    1110\n",
       "82  17950   31  16238  110  1600      5      5  100    1180\n",
       "83  16650   25  15414   97  1400      5      5   85    1110\n",
       "84  17450   28   8537  110  1600      5      5   85    1130"
      ]
     },
     "execution_count": 19,
     "metadata": {},
     "output_type": "execute_result"
    }
   ],
   "source": [
    "data.iloc[75:85,:]"
   ]
  },
  {
   "cell_type": "code",
   "execution_count": 20,
   "id": "5e7c124a",
   "metadata": {},
   "outputs": [
    {
     "data": {
      "text/html": [
       "<div>\n",
       "<style scoped>\n",
       "    .dataframe tbody tr th:only-of-type {\n",
       "        vertical-align: middle;\n",
       "    }\n",
       "\n",
       "    .dataframe tbody tr th {\n",
       "        vertical-align: top;\n",
       "    }\n",
       "\n",
       "    .dataframe thead th {\n",
       "        text-align: right;\n",
       "    }\n",
       "</style>\n",
       "<table border=\"1\" class=\"dataframe\">\n",
       "  <thead>\n",
       "    <tr style=\"text-align: right;\">\n",
       "      <th></th>\n",
       "      <th>price</th>\n",
       "      <th>age</th>\n",
       "      <th>km</th>\n",
       "      <th>hp</th>\n",
       "      <th>cc</th>\n",
       "      <th>doors</th>\n",
       "      <th>gears</th>\n",
       "      <th>tax</th>\n",
       "      <th>weight</th>\n",
       "    </tr>\n",
       "  </thead>\n",
       "  <tbody>\n",
       "    <tr>\n",
       "      <th>count</th>\n",
       "      <td>1435.000000</td>\n",
       "      <td>1435.000000</td>\n",
       "      <td>1435.000000</td>\n",
       "      <td>1435.000000</td>\n",
       "      <td>1435.000000</td>\n",
       "      <td>1435.000000</td>\n",
       "      <td>1435.000000</td>\n",
       "      <td>1435.000000</td>\n",
       "      <td>1435.000000</td>\n",
       "    </tr>\n",
       "    <tr>\n",
       "      <th>mean</th>\n",
       "      <td>10725.096864</td>\n",
       "      <td>55.968641</td>\n",
       "      <td>68567.067596</td>\n",
       "      <td>101.496167</td>\n",
       "      <td>1566.804878</td>\n",
       "      <td>4.032753</td>\n",
       "      <td>5.026481</td>\n",
       "      <td>87.113589</td>\n",
       "      <td>1072.384669</td>\n",
       "    </tr>\n",
       "    <tr>\n",
       "      <th>std</th>\n",
       "      <td>3621.726584</td>\n",
       "      <td>18.588504</td>\n",
       "      <td>37497.629827</td>\n",
       "      <td>14.984621</td>\n",
       "      <td>187.245640</td>\n",
       "      <td>0.952667</td>\n",
       "      <td>0.188575</td>\n",
       "      <td>41.141543</td>\n",
       "      <td>52.582788</td>\n",
       "    </tr>\n",
       "    <tr>\n",
       "      <th>min</th>\n",
       "      <td>4350.000000</td>\n",
       "      <td>1.000000</td>\n",
       "      <td>1.000000</td>\n",
       "      <td>69.000000</td>\n",
       "      <td>1300.000000</td>\n",
       "      <td>2.000000</td>\n",
       "      <td>3.000000</td>\n",
       "      <td>19.000000</td>\n",
       "      <td>1000.000000</td>\n",
       "    </tr>\n",
       "    <tr>\n",
       "      <th>25%</th>\n",
       "      <td>8450.000000</td>\n",
       "      <td>44.000000</td>\n",
       "      <td>43000.000000</td>\n",
       "      <td>90.000000</td>\n",
       "      <td>1400.000000</td>\n",
       "      <td>3.000000</td>\n",
       "      <td>5.000000</td>\n",
       "      <td>69.000000</td>\n",
       "      <td>1040.000000</td>\n",
       "    </tr>\n",
       "    <tr>\n",
       "      <th>50%</th>\n",
       "      <td>9900.000000</td>\n",
       "      <td>61.000000</td>\n",
       "      <td>63451.000000</td>\n",
       "      <td>110.000000</td>\n",
       "      <td>1600.000000</td>\n",
       "      <td>4.000000</td>\n",
       "      <td>5.000000</td>\n",
       "      <td>85.000000</td>\n",
       "      <td>1070.000000</td>\n",
       "    </tr>\n",
       "    <tr>\n",
       "      <th>75%</th>\n",
       "      <td>11950.000000</td>\n",
       "      <td>70.000000</td>\n",
       "      <td>87041.500000</td>\n",
       "      <td>110.000000</td>\n",
       "      <td>1600.000000</td>\n",
       "      <td>5.000000</td>\n",
       "      <td>5.000000</td>\n",
       "      <td>85.000000</td>\n",
       "      <td>1085.000000</td>\n",
       "    </tr>\n",
       "    <tr>\n",
       "      <th>max</th>\n",
       "      <td>32500.000000</td>\n",
       "      <td>80.000000</td>\n",
       "      <td>243000.000000</td>\n",
       "      <td>192.000000</td>\n",
       "      <td>2000.000000</td>\n",
       "      <td>5.000000</td>\n",
       "      <td>6.000000</td>\n",
       "      <td>283.000000</td>\n",
       "      <td>1615.000000</td>\n",
       "    </tr>\n",
       "  </tbody>\n",
       "</table>\n",
       "</div>"
      ],
      "text/plain": [
       "              price          age             km           hp           cc  \\\n",
       "count   1435.000000  1435.000000    1435.000000  1435.000000  1435.000000   \n",
       "mean   10725.096864    55.968641   68567.067596   101.496167  1566.804878   \n",
       "std     3621.726584    18.588504   37497.629827    14.984621   187.245640   \n",
       "min     4350.000000     1.000000       1.000000    69.000000  1300.000000   \n",
       "25%     8450.000000    44.000000   43000.000000    90.000000  1400.000000   \n",
       "50%     9900.000000    61.000000   63451.000000   110.000000  1600.000000   \n",
       "75%    11950.000000    70.000000   87041.500000   110.000000  1600.000000   \n",
       "max    32500.000000    80.000000  243000.000000   192.000000  2000.000000   \n",
       "\n",
       "             doors        gears          tax       weight  \n",
       "count  1435.000000  1435.000000  1435.000000  1435.000000  \n",
       "mean      4.032753     5.026481    87.113589  1072.384669  \n",
       "std       0.952667     0.188575    41.141543    52.582788  \n",
       "min       2.000000     3.000000    19.000000  1000.000000  \n",
       "25%       3.000000     5.000000    69.000000  1040.000000  \n",
       "50%       4.000000     5.000000    85.000000  1070.000000  \n",
       "75%       5.000000     5.000000    85.000000  1085.000000  \n",
       "max       5.000000     6.000000   283.000000  1615.000000  "
      ]
     },
     "execution_count": 20,
     "metadata": {},
     "output_type": "execute_result"
    }
   ],
   "source": [
    "data.describe()"
   ]
  },
  {
   "cell_type": "code",
   "execution_count": 21,
   "id": "687ce1be",
   "metadata": {},
   "outputs": [
    {
     "data": {
      "text/plain": [
       "{'whiskers': [<matplotlib.lines.Line2D at 0x28b9aaebfa0>,\n",
       "  <matplotlib.lines.Line2D at 0x28b9aafb2b0>],\n",
       " 'caps': [<matplotlib.lines.Line2D at 0x28b9aafb580>,\n",
       "  <matplotlib.lines.Line2D at 0x28b9aafb850>],\n",
       " 'boxes': [<matplotlib.lines.Line2D at 0x28b9aaebcd0>],\n",
       " 'medians': [<matplotlib.lines.Line2D at 0x28b9aafbb20>],\n",
       " 'fliers': [<matplotlib.lines.Line2D at 0x28b9aafbdf0>],\n",
       " 'means': []}"
      ]
     },
     "execution_count": 21,
     "metadata": {},
     "output_type": "execute_result"
    },
    {
     "data": {
      "image/png": "[encoded data removed]",
      "text/plain": [
       "<Figure size 432x288 with 1 Axes>"
      ]
     },
     "metadata": {
      "needs_background": "light"
     },
     "output_type": "display_data"
    }
   ],
   "source": [
    "plt.boxplot(data=data,x='tax')"
   ]
  },
  {
   "cell_type": "code",
   "execution_count": 22,
   "id": "b08e2135",
   "metadata": {},
   "outputs": [
    {
     "data": {
      "text/html": [
       "<div>\n",
       "<style scoped>\n",
       "    .dataframe tbody tr th:only-of-type {\n",
       "        vertical-align: middle;\n",
       "    }\n",
       "\n",
       "    .dataframe tbody tr th {\n",
       "        vertical-align: top;\n",
       "    }\n",
       "\n",
       "    .dataframe thead th {\n",
       "        text-align: right;\n",
       "    }\n",
       "</style>\n",
       "<table border=\"1\" class=\"dataframe\">\n",
       "  <thead>\n",
       "    <tr style=\"text-align: right;\">\n",
       "      <th></th>\n",
       "      <th>price</th>\n",
       "      <th>age</th>\n",
       "      <th>km</th>\n",
       "      <th>hp</th>\n",
       "      <th>cc</th>\n",
       "      <th>doors</th>\n",
       "      <th>gears</th>\n",
       "      <th>tax</th>\n",
       "      <th>weight</th>\n",
       "    </tr>\n",
       "  </thead>\n",
       "  <tbody>\n",
       "    <tr>\n",
       "      <th>0</th>\n",
       "      <td>13500</td>\n",
       "      <td>23</td>\n",
       "      <td>46986</td>\n",
       "      <td>90</td>\n",
       "      <td>2000</td>\n",
       "      <td>3</td>\n",
       "      <td>5</td>\n",
       "      <td>210</td>\n",
       "      <td>1165</td>\n",
       "    </tr>\n",
       "    <tr>\n",
       "      <th>1</th>\n",
       "      <td>13750</td>\n",
       "      <td>23</td>\n",
       "      <td>72937</td>\n",
       "      <td>90</td>\n",
       "      <td>2000</td>\n",
       "      <td>3</td>\n",
       "      <td>5</td>\n",
       "      <td>210</td>\n",
       "      <td>1165</td>\n",
       "    </tr>\n",
       "    <tr>\n",
       "      <th>2</th>\n",
       "      <td>13950</td>\n",
       "      <td>24</td>\n",
       "      <td>41711</td>\n",
       "      <td>90</td>\n",
       "      <td>2000</td>\n",
       "      <td>3</td>\n",
       "      <td>5</td>\n",
       "      <td>210</td>\n",
       "      <td>1165</td>\n",
       "    </tr>\n",
       "    <tr>\n",
       "      <th>3</th>\n",
       "      <td>14950</td>\n",
       "      <td>26</td>\n",
       "      <td>48000</td>\n",
       "      <td>90</td>\n",
       "      <td>2000</td>\n",
       "      <td>3</td>\n",
       "      <td>5</td>\n",
       "      <td>210</td>\n",
       "      <td>1165</td>\n",
       "    </tr>\n",
       "    <tr>\n",
       "      <th>4</th>\n",
       "      <td>13750</td>\n",
       "      <td>30</td>\n",
       "      <td>38500</td>\n",
       "      <td>90</td>\n",
       "      <td>2000</td>\n",
       "      <td>3</td>\n",
       "      <td>5</td>\n",
       "      <td>210</td>\n",
       "      <td>1170</td>\n",
       "    </tr>\n",
       "    <tr>\n",
       "      <th>...</th>\n",
       "      <td>...</td>\n",
       "      <td>...</td>\n",
       "      <td>...</td>\n",
       "      <td>...</td>\n",
       "      <td>...</td>\n",
       "      <td>...</td>\n",
       "      <td>...</td>\n",
       "      <td>...</td>\n",
       "      <td>...</td>\n",
       "    </tr>\n",
       "    <tr>\n",
       "      <th>1430</th>\n",
       "      <td>7500</td>\n",
       "      <td>69</td>\n",
       "      <td>20544</td>\n",
       "      <td>86</td>\n",
       "      <td>1300</td>\n",
       "      <td>3</td>\n",
       "      <td>5</td>\n",
       "      <td>69</td>\n",
       "      <td>1025</td>\n",
       "    </tr>\n",
       "    <tr>\n",
       "      <th>1431</th>\n",
       "      <td>10845</td>\n",
       "      <td>72</td>\n",
       "      <td>19000</td>\n",
       "      <td>86</td>\n",
       "      <td>1300</td>\n",
       "      <td>3</td>\n",
       "      <td>5</td>\n",
       "      <td>69</td>\n",
       "      <td>1015</td>\n",
       "    </tr>\n",
       "    <tr>\n",
       "      <th>1432</th>\n",
       "      <td>8500</td>\n",
       "      <td>71</td>\n",
       "      <td>17016</td>\n",
       "      <td>86</td>\n",
       "      <td>1300</td>\n",
       "      <td>3</td>\n",
       "      <td>5</td>\n",
       "      <td>69</td>\n",
       "      <td>1015</td>\n",
       "    </tr>\n",
       "    <tr>\n",
       "      <th>1433</th>\n",
       "      <td>7250</td>\n",
       "      <td>70</td>\n",
       "      <td>16916</td>\n",
       "      <td>86</td>\n",
       "      <td>1300</td>\n",
       "      <td>3</td>\n",
       "      <td>5</td>\n",
       "      <td>69</td>\n",
       "      <td>1015</td>\n",
       "    </tr>\n",
       "    <tr>\n",
       "      <th>1434</th>\n",
       "      <td>6950</td>\n",
       "      <td>76</td>\n",
       "      <td>1</td>\n",
       "      <td>110</td>\n",
       "      <td>1600</td>\n",
       "      <td>5</td>\n",
       "      <td>5</td>\n",
       "      <td>19</td>\n",
       "      <td>1114</td>\n",
       "    </tr>\n",
       "  </tbody>\n",
       "</table>\n",
       "<p>1435 rows × 9 columns</p>\n",
       "</div>"
      ],
      "text/plain": [
       "      price  age     km   hp    cc  doors  gears  tax  weight\n",
       "0     13500   23  46986   90  2000      3      5  210    1165\n",
       "1     13750   23  72937   90  2000      3      5  210    1165\n",
       "2     13950   24  41711   90  2000      3      5  210    1165\n",
       "3     14950   26  48000   90  2000      3      5  210    1165\n",
       "4     13750   30  38500   90  2000      3      5  210    1170\n",
       "...     ...  ...    ...  ...   ...    ...    ...  ...     ...\n",
       "1430   7500   69  20544   86  1300      3      5   69    1025\n",
       "1431  10845   72  19000   86  1300      3      5   69    1015\n",
       "1432   8500   71  17016   86  1300      3      5   69    1015\n",
       "1433   7250   70  16916   86  1300      3      5   69    1015\n",
       "1434   6950   76      1  110  1600      5      5   19    1114\n",
       "\n",
       "[1435 rows x 9 columns]"
      ]
     },
     "execution_count": 22,
     "metadata": {},
     "output_type": "execute_result"
    }
   ],
   "source": [
    "data"
   ]
  },
  {
   "cell_type": "markdown",
   "id": "28918c9c",
   "metadata": {},
   "source": [
    "# IQR Method"
   ]
  },
  {
   "cell_type": "code",
   "execution_count": 23,
   "id": "062c5e12",
   "metadata": {},
   "outputs": [
    {
     "data": {
      "text/plain": [
       "<AxesSubplot:xlabel='tax'>"
      ]
     },
     "execution_count": 23,
     "metadata": {},
     "output_type": "execute_result"
    },
    {
     "data": {
      "image/png": "[encoded data removed]",
      "text/plain": [
       "<Figure size 432x288 with 1 Axes>"
      ]
     },
     "metadata": {
      "needs_background": "light"
     },
     "output_type": "display_data"
    }
   ],
   "source": [
    "sns.boxplot(data['tax'])"
   ]
  },
  {
   "cell_type": "code",
   "execution_count": 24,
   "id": "bed65203",
   "metadata": {},
   "outputs": [],
   "source": [
    "q1=data['tax'].quantile(.25)\n",
    "q3=data['tax'].quantile(.75)\n",
    "iqr=q3-q1"
   ]
  },
  {
   "cell_type": "code",
   "execution_count": 25,
   "id": "32078948",
   "metadata": {},
   "outputs": [
    {
     "data": {
      "text/plain": [
       "(109.0, 45.0)"
      ]
     },
     "execution_count": 25,
     "metadata": {},
     "output_type": "execute_result"
    }
   ],
   "source": [
    "upper_limit=q3+(1.5* iqr)\n",
    "lower_limit=q1-(1.5* iqr)\n",
    "upper_limit,lower_limit"
   ]
  },
  {
   "cell_type": "code",
   "execution_count": 26,
   "id": "9ef0a550",
   "metadata": {},
   "outputs": [
    {
     "data": {
      "text/html": [
       "<div>\n",
       "<style scoped>\n",
       "    .dataframe tbody tr th:only-of-type {\n",
       "        vertical-align: middle;\n",
       "    }\n",
       "\n",
       "    .dataframe tbody tr th {\n",
       "        vertical-align: top;\n",
       "    }\n",
       "\n",
       "    .dataframe thead th {\n",
       "        text-align: right;\n",
       "    }\n",
       "</style>\n",
       "<table border=\"1\" class=\"dataframe\">\n",
       "  <thead>\n",
       "    <tr style=\"text-align: right;\">\n",
       "      <th></th>\n",
       "      <th>price</th>\n",
       "      <th>age</th>\n",
       "      <th>km</th>\n",
       "      <th>hp</th>\n",
       "      <th>cc</th>\n",
       "      <th>doors</th>\n",
       "      <th>gears</th>\n",
       "      <th>tax</th>\n",
       "      <th>weight</th>\n",
       "    </tr>\n",
       "  </thead>\n",
       "  <tbody>\n",
       "    <tr>\n",
       "      <th>8</th>\n",
       "      <td>21500</td>\n",
       "      <td>27</td>\n",
       "      <td>19700</td>\n",
       "      <td>192</td>\n",
       "      <td>1800</td>\n",
       "      <td>3</td>\n",
       "      <td>5</td>\n",
       "      <td>100</td>\n",
       "      <td>1185</td>\n",
       "    </tr>\n",
       "    <tr>\n",
       "      <th>10</th>\n",
       "      <td>20950</td>\n",
       "      <td>25</td>\n",
       "      <td>31461</td>\n",
       "      <td>192</td>\n",
       "      <td>1800</td>\n",
       "      <td>3</td>\n",
       "      <td>6</td>\n",
       "      <td>100</td>\n",
       "      <td>1185</td>\n",
       "    </tr>\n",
       "    <tr>\n",
       "      <th>11</th>\n",
       "      <td>19950</td>\n",
       "      <td>22</td>\n",
       "      <td>43610</td>\n",
       "      <td>192</td>\n",
       "      <td>1800</td>\n",
       "      <td>3</td>\n",
       "      <td>6</td>\n",
       "      <td>100</td>\n",
       "      <td>1185</td>\n",
       "    </tr>\n",
       "    <tr>\n",
       "      <th>12</th>\n",
       "      <td>19600</td>\n",
       "      <td>25</td>\n",
       "      <td>32189</td>\n",
       "      <td>192</td>\n",
       "      <td>1800</td>\n",
       "      <td>3</td>\n",
       "      <td>6</td>\n",
       "      <td>100</td>\n",
       "      <td>1185</td>\n",
       "    </tr>\n",
       "    <tr>\n",
       "      <th>13</th>\n",
       "      <td>21500</td>\n",
       "      <td>31</td>\n",
       "      <td>23000</td>\n",
       "      <td>192</td>\n",
       "      <td>1800</td>\n",
       "      <td>3</td>\n",
       "      <td>6</td>\n",
       "      <td>100</td>\n",
       "      <td>1185</td>\n",
       "    </tr>\n",
       "    <tr>\n",
       "      <th>...</th>\n",
       "      <td>...</td>\n",
       "      <td>...</td>\n",
       "      <td>...</td>\n",
       "      <td>...</td>\n",
       "      <td>...</td>\n",
       "      <td>...</td>\n",
       "      <td>...</td>\n",
       "      <td>...</td>\n",
       "      <td>...</td>\n",
       "    </tr>\n",
       "    <tr>\n",
       "      <th>1429</th>\n",
       "      <td>8450</td>\n",
       "      <td>80</td>\n",
       "      <td>23000</td>\n",
       "      <td>86</td>\n",
       "      <td>1300</td>\n",
       "      <td>3</td>\n",
       "      <td>5</td>\n",
       "      <td>69</td>\n",
       "      <td>1015</td>\n",
       "    </tr>\n",
       "    <tr>\n",
       "      <th>1430</th>\n",
       "      <td>7500</td>\n",
       "      <td>69</td>\n",
       "      <td>20544</td>\n",
       "      <td>86</td>\n",
       "      <td>1300</td>\n",
       "      <td>3</td>\n",
       "      <td>5</td>\n",
       "      <td>69</td>\n",
       "      <td>1025</td>\n",
       "    </tr>\n",
       "    <tr>\n",
       "      <th>1431</th>\n",
       "      <td>10845</td>\n",
       "      <td>72</td>\n",
       "      <td>19000</td>\n",
       "      <td>86</td>\n",
       "      <td>1300</td>\n",
       "      <td>3</td>\n",
       "      <td>5</td>\n",
       "      <td>69</td>\n",
       "      <td>1015</td>\n",
       "    </tr>\n",
       "    <tr>\n",
       "      <th>1432</th>\n",
       "      <td>8500</td>\n",
       "      <td>71</td>\n",
       "      <td>17016</td>\n",
       "      <td>86</td>\n",
       "      <td>1300</td>\n",
       "      <td>3</td>\n",
       "      <td>5</td>\n",
       "      <td>69</td>\n",
       "      <td>1015</td>\n",
       "    </tr>\n",
       "    <tr>\n",
       "      <th>1433</th>\n",
       "      <td>7250</td>\n",
       "      <td>70</td>\n",
       "      <td>16916</td>\n",
       "      <td>86</td>\n",
       "      <td>1300</td>\n",
       "      <td>3</td>\n",
       "      <td>5</td>\n",
       "      <td>69</td>\n",
       "      <td>1015</td>\n",
       "    </tr>\n",
       "  </tbody>\n",
       "</table>\n",
       "<p>1211 rows × 9 columns</p>\n",
       "</div>"
      ],
      "text/plain": [
       "      price  age     km   hp    cc  doors  gears  tax  weight\n",
       "8     21500   27  19700  192  1800      3      5  100    1185\n",
       "10    20950   25  31461  192  1800      3      6  100    1185\n",
       "11    19950   22  43610  192  1800      3      6  100    1185\n",
       "12    19600   25  32189  192  1800      3      6  100    1185\n",
       "13    21500   31  23000  192  1800      3      6  100    1185\n",
       "...     ...  ...    ...  ...   ...    ...    ...  ...     ...\n",
       "1429   8450   80  23000   86  1300      3      5   69    1015\n",
       "1430   7500   69  20544   86  1300      3      5   69    1025\n",
       "1431  10845   72  19000   86  1300      3      5   69    1015\n",
       "1432   8500   71  17016   86  1300      3      5   69    1015\n",
       "1433   7250   70  16916   86  1300      3      5   69    1015\n",
       "\n",
       "[1211 rows x 9 columns]"
      ]
     },
     "execution_count": 26,
     "metadata": {},
     "output_type": "execute_result"
    }
   ],
   "source": [
    "data=data.loc[(data['tax']<upper_limit) & (data['tax']>lower_limit)]\n",
    "data"
   ]
  },
  {
   "cell_type": "code",
   "execution_count": 27,
   "id": "42c816aa",
   "metadata": {},
   "outputs": [
    {
     "data": {
      "text/plain": [
       "<AxesSubplot:>"
      ]
     },
     "execution_count": 27,
     "metadata": {},
     "output_type": "execute_result"
    },
    {
     "data": {
      "image/png": "[encoded data removed]",
      "text/plain": [
       "<Figure size 432x288 with 1 Axes>"
      ]
     },
     "metadata": {
      "needs_background": "light"
     },
     "output_type": "display_data"
    }
   ],
   "source": [
    "data['tax'].plot(kind='box')"
   ]
  },
  {
   "cell_type": "code",
   "execution_count": 28,
   "id": "1cdfb7af",
   "metadata": {},
   "outputs": [
    {
     "data": {
      "text/html": [
       "<div>\n",
       "<style scoped>\n",
       "    .dataframe tbody tr th:only-of-type {\n",
       "        vertical-align: middle;\n",
       "    }\n",
       "\n",
       "    .dataframe tbody tr th {\n",
       "        vertical-align: top;\n",
       "    }\n",
       "\n",
       "    .dataframe thead th {\n",
       "        text-align: right;\n",
       "    }\n",
       "</style>\n",
       "<table border=\"1\" class=\"dataframe\">\n",
       "  <thead>\n",
       "    <tr style=\"text-align: right;\">\n",
       "      <th></th>\n",
       "      <th>price</th>\n",
       "      <th>age</th>\n",
       "      <th>km</th>\n",
       "      <th>hp</th>\n",
       "      <th>cc</th>\n",
       "      <th>doors</th>\n",
       "      <th>gears</th>\n",
       "      <th>tax</th>\n",
       "      <th>weight</th>\n",
       "    </tr>\n",
       "  </thead>\n",
       "  <tbody>\n",
       "    <tr>\n",
       "      <th>count</th>\n",
       "      <td>1211.000000</td>\n",
       "      <td>1211.000000</td>\n",
       "      <td>1211.000000</td>\n",
       "      <td>1211.000000</td>\n",
       "      <td>1211.000000</td>\n",
       "      <td>1211.000000</td>\n",
       "      <td>1211.000000</td>\n",
       "      <td>1211.000000</td>\n",
       "      <td>1211.000000</td>\n",
       "    </tr>\n",
       "    <tr>\n",
       "      <th>mean</th>\n",
       "      <td>10614.738233</td>\n",
       "      <td>56.746491</td>\n",
       "      <td>63781.911643</td>\n",
       "      <td>103.777044</td>\n",
       "      <td>1522.649050</td>\n",
       "      <td>4.020644</td>\n",
       "      <td>5.030553</td>\n",
       "      <td>77.492981</td>\n",
       "      <td>1061.502064</td>\n",
       "    </tr>\n",
       "    <tr>\n",
       "      <th>std</th>\n",
       "      <td>3316.364017</td>\n",
       "      <td>17.918299</td>\n",
       "      <td>31290.614430</td>\n",
       "      <td>13.048980</td>\n",
       "      <td>137.420113</td>\n",
       "      <td>0.951938</td>\n",
       "      <td>0.203014</td>\n",
       "      <td>8.496606</td>\n",
       "      <td>35.023708</td>\n",
       "    </tr>\n",
       "    <tr>\n",
       "      <th>min</th>\n",
       "      <td>4350.000000</td>\n",
       "      <td>2.000000</td>\n",
       "      <td>1.000000</td>\n",
       "      <td>69.000000</td>\n",
       "      <td>1300.000000</td>\n",
       "      <td>3.000000</td>\n",
       "      <td>3.000000</td>\n",
       "      <td>64.000000</td>\n",
       "      <td>1000.000000</td>\n",
       "    </tr>\n",
       "    <tr>\n",
       "      <th>25%</th>\n",
       "      <td>8497.500000</td>\n",
       "      <td>46.000000</td>\n",
       "      <td>41236.500000</td>\n",
       "      <td>97.000000</td>\n",
       "      <td>1400.000000</td>\n",
       "      <td>3.000000</td>\n",
       "      <td>5.000000</td>\n",
       "      <td>69.000000</td>\n",
       "      <td>1035.000000</td>\n",
       "    </tr>\n",
       "    <tr>\n",
       "      <th>50%</th>\n",
       "      <td>9900.000000</td>\n",
       "      <td>61.000000</td>\n",
       "      <td>61149.000000</td>\n",
       "      <td>110.000000</td>\n",
       "      <td>1600.000000</td>\n",
       "      <td>4.000000</td>\n",
       "      <td>5.000000</td>\n",
       "      <td>85.000000</td>\n",
       "      <td>1060.000000</td>\n",
       "    </tr>\n",
       "    <tr>\n",
       "      <th>75%</th>\n",
       "      <td>11750.000000</td>\n",
       "      <td>70.000000</td>\n",
       "      <td>82062.000000</td>\n",
       "      <td>110.000000</td>\n",
       "      <td>1600.000000</td>\n",
       "      <td>5.000000</td>\n",
       "      <td>5.000000</td>\n",
       "      <td>85.000000</td>\n",
       "      <td>1075.000000</td>\n",
       "    </tr>\n",
       "    <tr>\n",
       "      <th>max</th>\n",
       "      <td>24500.000000</td>\n",
       "      <td>80.000000</td>\n",
       "      <td>203254.000000</td>\n",
       "      <td>192.000000</td>\n",
       "      <td>2000.000000</td>\n",
       "      <td>5.000000</td>\n",
       "      <td>6.000000</td>\n",
       "      <td>100.000000</td>\n",
       "      <td>1320.000000</td>\n",
       "    </tr>\n",
       "  </tbody>\n",
       "</table>\n",
       "</div>"
      ],
      "text/plain": [
       "              price          age             km           hp           cc  \\\n",
       "count   1211.000000  1211.000000    1211.000000  1211.000000  1211.000000   \n",
       "mean   10614.738233    56.746491   63781.911643   103.777044  1522.649050   \n",
       "std     3316.364017    17.918299   31290.614430    13.048980   137.420113   \n",
       "min     4350.000000     2.000000       1.000000    69.000000  1300.000000   \n",
       "25%     8497.500000    46.000000   41236.500000    97.000000  1400.000000   \n",
       "50%     9900.000000    61.000000   61149.000000   110.000000  1600.000000   \n",
       "75%    11750.000000    70.000000   82062.000000   110.000000  1600.000000   \n",
       "max    24500.000000    80.000000  203254.000000   192.000000  2000.000000   \n",
       "\n",
       "             doors        gears          tax       weight  \n",
       "count  1211.000000  1211.000000  1211.000000  1211.000000  \n",
       "mean      4.020644     5.030553    77.492981  1061.502064  \n",
       "std       0.951938     0.203014     8.496606    35.023708  \n",
       "min       3.000000     3.000000    64.000000  1000.000000  \n",
       "25%       3.000000     5.000000    69.000000  1035.000000  \n",
       "50%       4.000000     5.000000    85.000000  1060.000000  \n",
       "75%       5.000000     5.000000    85.000000  1075.000000  \n",
       "max       5.000000     6.000000   100.000000  1320.000000  "
      ]
     },
     "execution_count": 28,
     "metadata": {},
     "output_type": "execute_result"
    }
   ],
   "source": [
    "data.describe()"
   ]
  },
  {
   "cell_type": "code",
   "execution_count": 29,
   "id": "ab4ba1f4",
   "metadata": {},
   "outputs": [
    {
     "data": {
      "text/plain": [
       "<AxesSubplot:>"
      ]
     },
     "execution_count": 29,
     "metadata": {},
     "output_type": "execute_result"
    },
    {
     "data": {
      "image/png": "[encoded data removed]",
      "text/plain": [
       "<Figure size 432x288 with 1 Axes>"
      ]
     },
     "metadata": {
      "needs_background": "light"
     },
     "output_type": "display_data"
    }
   ],
   "source": [
    "data['hp'].plot(kind='box')"
   ]
  },
  {
   "cell_type": "code",
   "execution_count": 30,
   "id": "e0d502ca",
   "metadata": {},
   "outputs": [],
   "source": [
    "q1=data['hp'].quantile(.25)\n",
    "q3=data['hp'].quantile(.75)\n",
    "iqr=q3-q1"
   ]
  },
  {
   "cell_type": "code",
   "execution_count": 31,
   "id": "ac626d62",
   "metadata": {},
   "outputs": [
    {
     "data": {
      "text/plain": [
       "(129.5, 77.5)"
      ]
     },
     "execution_count": 31,
     "metadata": {},
     "output_type": "execute_result"
    }
   ],
   "source": [
    "upper_limit=q3+(1.5*iqr)\n",
    "lower_limit=q1-(1.5*iqr)\n",
    "upper_limit,lower_limit"
   ]
  },
  {
   "cell_type": "code",
   "execution_count": 32,
   "id": "af7e4140",
   "metadata": {},
   "outputs": [],
   "source": [
    "data=data.loc[(data['hp']<upper_limit) & (data['hp']>lower_limit)]"
   ]
  },
  {
   "cell_type": "code",
   "execution_count": 33,
   "id": "8a44a607",
   "metadata": {},
   "outputs": [
    {
     "data": {
      "text/plain": [
       "<AxesSubplot:>"
      ]
     },
     "execution_count": 33,
     "metadata": {},
     "output_type": "execute_result"
    },
    {
     "data": {
      "image/png": "[encoded data removed]",
      "text/plain": [
       "<Figure size 432x288 with 1 Axes>"
      ]
     },
     "metadata": {
      "needs_background": "light"
     },
     "output_type": "display_data"
    }
   ],
   "source": [
    "data['hp'].plot(kind='box')"
   ]
  },
  {
   "cell_type": "code",
   "execution_count": 34,
   "id": "1b7f1075",
   "metadata": {},
   "outputs": [
    {
     "data": {
      "text/plain": [
       "<AxesSubplot:>"
      ]
     },
     "execution_count": 34,
     "metadata": {},
     "output_type": "execute_result"
    },
    {
     "data": {
      "image/png": "[encoded data removed]",
      "text/plain": [
       "<Figure size 432x288 with 1 Axes>"
      ]
     },
     "metadata": {
      "needs_background": "light"
     },
     "output_type": "display_data"
    }
   ],
   "source": [
    "data.plot(kind='box')"
   ]
  },
  {
   "cell_type": "code",
   "execution_count": 35,
   "id": "c067ead4",
   "metadata": {},
   "outputs": [],
   "source": [
    "q1=data['price'].quantile(.25)\n",
    "q3=data['price'].quantile(.75)\n",
    "iqr=q3-q1"
   ]
  },
  {
   "cell_type": "code",
   "execution_count": 36,
   "id": "9c122b2a",
   "metadata": {},
   "outputs": [
    {
     "data": {
      "text/plain": [
       "(16625.0, 3625.0)"
      ]
     },
     "execution_count": 36,
     "metadata": {},
     "output_type": "execute_result"
    }
   ],
   "source": [
    "upper=q3+(1.5*iqr)\n",
    "lower=q1-(1.5*iqr)\n",
    "upper,lower"
   ]
  },
  {
   "cell_type": "code",
   "execution_count": 37,
   "id": "cad1fbbe",
   "metadata": {},
   "outputs": [],
   "source": [
    "data=data.loc[(data['price']<upper) & (data['price']>lower)]"
   ]
  },
  {
   "cell_type": "code",
   "execution_count": 38,
   "id": "f2973174",
   "metadata": {},
   "outputs": [
    {
     "data": {
      "text/html": [
       "<div>\n",
       "<style scoped>\n",
       "    .dataframe tbody tr th:only-of-type {\n",
       "        vertical-align: middle;\n",
       "    }\n",
       "\n",
       "    .dataframe tbody tr th {\n",
       "        vertical-align: top;\n",
       "    }\n",
       "\n",
       "    .dataframe thead th {\n",
       "        text-align: right;\n",
       "    }\n",
       "</style>\n",
       "<table border=\"1\" class=\"dataframe\">\n",
       "  <thead>\n",
       "    <tr style=\"text-align: right;\">\n",
       "      <th></th>\n",
       "      <th>price</th>\n",
       "      <th>age</th>\n",
       "      <th>km</th>\n",
       "      <th>hp</th>\n",
       "      <th>cc</th>\n",
       "      <th>doors</th>\n",
       "      <th>gears</th>\n",
       "      <th>tax</th>\n",
       "      <th>weight</th>\n",
       "    </tr>\n",
       "  </thead>\n",
       "  <tbody>\n",
       "    <tr>\n",
       "      <th>20</th>\n",
       "      <td>15950</td>\n",
       "      <td>30</td>\n",
       "      <td>67660</td>\n",
       "      <td>110</td>\n",
       "      <td>1600</td>\n",
       "      <td>3</td>\n",
       "      <td>5</td>\n",
       "      <td>85</td>\n",
       "      <td>1105</td>\n",
       "    </tr>\n",
       "    <tr>\n",
       "      <th>22</th>\n",
       "      <td>15950</td>\n",
       "      <td>28</td>\n",
       "      <td>56349</td>\n",
       "      <td>110</td>\n",
       "      <td>1600</td>\n",
       "      <td>3</td>\n",
       "      <td>5</td>\n",
       "      <td>85</td>\n",
       "      <td>1120</td>\n",
       "    </tr>\n",
       "    <tr>\n",
       "      <th>24</th>\n",
       "      <td>16250</td>\n",
       "      <td>29</td>\n",
       "      <td>25813</td>\n",
       "      <td>110</td>\n",
       "      <td>1600</td>\n",
       "      <td>3</td>\n",
       "      <td>5</td>\n",
       "      <td>85</td>\n",
       "      <td>1120</td>\n",
       "    </tr>\n",
       "    <tr>\n",
       "      <th>25</th>\n",
       "      <td>15950</td>\n",
       "      <td>25</td>\n",
       "      <td>28450</td>\n",
       "      <td>110</td>\n",
       "      <td>1600</td>\n",
       "      <td>3</td>\n",
       "      <td>5</td>\n",
       "      <td>85</td>\n",
       "      <td>1120</td>\n",
       "    </tr>\n",
       "    <tr>\n",
       "      <th>27</th>\n",
       "      <td>15750</td>\n",
       "      <td>29</td>\n",
       "      <td>41415</td>\n",
       "      <td>110</td>\n",
       "      <td>1600</td>\n",
       "      <td>3</td>\n",
       "      <td>5</td>\n",
       "      <td>85</td>\n",
       "      <td>1120</td>\n",
       "    </tr>\n",
       "    <tr>\n",
       "      <th>...</th>\n",
       "      <td>...</td>\n",
       "      <td>...</td>\n",
       "      <td>...</td>\n",
       "      <td>...</td>\n",
       "      <td>...</td>\n",
       "      <td>...</td>\n",
       "      <td>...</td>\n",
       "      <td>...</td>\n",
       "      <td>...</td>\n",
       "    </tr>\n",
       "    <tr>\n",
       "      <th>1429</th>\n",
       "      <td>8450</td>\n",
       "      <td>80</td>\n",
       "      <td>23000</td>\n",
       "      <td>86</td>\n",
       "      <td>1300</td>\n",
       "      <td>3</td>\n",
       "      <td>5</td>\n",
       "      <td>69</td>\n",
       "      <td>1015</td>\n",
       "    </tr>\n",
       "    <tr>\n",
       "      <th>1430</th>\n",
       "      <td>7500</td>\n",
       "      <td>69</td>\n",
       "      <td>20544</td>\n",
       "      <td>86</td>\n",
       "      <td>1300</td>\n",
       "      <td>3</td>\n",
       "      <td>5</td>\n",
       "      <td>69</td>\n",
       "      <td>1025</td>\n",
       "    </tr>\n",
       "    <tr>\n",
       "      <th>1431</th>\n",
       "      <td>10845</td>\n",
       "      <td>72</td>\n",
       "      <td>19000</td>\n",
       "      <td>86</td>\n",
       "      <td>1300</td>\n",
       "      <td>3</td>\n",
       "      <td>5</td>\n",
       "      <td>69</td>\n",
       "      <td>1015</td>\n",
       "    </tr>\n",
       "    <tr>\n",
       "      <th>1432</th>\n",
       "      <td>8500</td>\n",
       "      <td>71</td>\n",
       "      <td>17016</td>\n",
       "      <td>86</td>\n",
       "      <td>1300</td>\n",
       "      <td>3</td>\n",
       "      <td>5</td>\n",
       "      <td>69</td>\n",
       "      <td>1015</td>\n",
       "    </tr>\n",
       "    <tr>\n",
       "      <th>1433</th>\n",
       "      <td>7250</td>\n",
       "      <td>70</td>\n",
       "      <td>16916</td>\n",
       "      <td>86</td>\n",
       "      <td>1300</td>\n",
       "      <td>3</td>\n",
       "      <td>5</td>\n",
       "      <td>69</td>\n",
       "      <td>1015</td>\n",
       "    </tr>\n",
       "  </tbody>\n",
       "</table>\n",
       "<p>1105 rows × 9 columns</p>\n",
       "</div>"
      ],
      "text/plain": [
       "      price  age     km   hp    cc  doors  gears  tax  weight\n",
       "20    15950   30  67660  110  1600      3      5   85    1105\n",
       "22    15950   28  56349  110  1600      3      5   85    1120\n",
       "24    16250   29  25813  110  1600      3      5   85    1120\n",
       "25    15950   25  28450  110  1600      3      5   85    1120\n",
       "27    15750   29  41415  110  1600      3      5   85    1120\n",
       "...     ...  ...    ...  ...   ...    ...    ...  ...     ...\n",
       "1429   8450   80  23000   86  1300      3      5   69    1015\n",
       "1430   7500   69  20544   86  1300      3      5   69    1025\n",
       "1431  10845   72  19000   86  1300      3      5   69    1015\n",
       "1432   8500   71  17016   86  1300      3      5   69    1015\n",
       "1433   7250   70  16916   86  1300      3      5   69    1015\n",
       "\n",
       "[1105 rows x 9 columns]"
      ]
     },
     "execution_count": 38,
     "metadata": {},
     "output_type": "execute_result"
    }
   ],
   "source": [
    "data"
   ]
  },
  {
   "cell_type": "code",
   "execution_count": 39,
   "id": "fd3ca9d4",
   "metadata": {},
   "outputs": [
    {
     "data": {
      "text/plain": [
       "<AxesSubplot:>"
      ]
     },
     "execution_count": 39,
     "metadata": {},
     "output_type": "execute_result"
    },
    {
     "data": {
      "image/png": "[encoded data removed]",
      "text/plain": [
       "<Figure size 432x288 with 1 Axes>"
      ]
     },
     "metadata": {
      "needs_background": "light"
     },
     "output_type": "display_data"
    }
   ],
   "source": [
    "data['price'].plot(kind='box')"
   ]
  },
  {
   "cell_type": "code",
   "execution_count": 40,
   "id": "b0fd430a",
   "metadata": {},
   "outputs": [
    {
     "data": {
      "text/html": [
       "<div>\n",
       "<style scoped>\n",
       "    .dataframe tbody tr th:only-of-type {\n",
       "        vertical-align: middle;\n",
       "    }\n",
       "\n",
       "    .dataframe tbody tr th {\n",
       "        vertical-align: top;\n",
       "    }\n",
       "\n",
       "    .dataframe thead th {\n",
       "        text-align: right;\n",
       "    }\n",
       "</style>\n",
       "<table border=\"1\" class=\"dataframe\">\n",
       "  <thead>\n",
       "    <tr style=\"text-align: right;\">\n",
       "      <th></th>\n",
       "      <th>price</th>\n",
       "      <th>age</th>\n",
       "      <th>km</th>\n",
       "      <th>hp</th>\n",
       "      <th>cc</th>\n",
       "      <th>doors</th>\n",
       "      <th>gears</th>\n",
       "      <th>tax</th>\n",
       "      <th>weight</th>\n",
       "    </tr>\n",
       "  </thead>\n",
       "  <tbody>\n",
       "    <tr>\n",
       "      <th>count</th>\n",
       "      <td>1105.000000</td>\n",
       "      <td>1105.000000</td>\n",
       "      <td>1105.000000</td>\n",
       "      <td>1105.000000</td>\n",
       "      <td>1105.000000</td>\n",
       "      <td>1105.000000</td>\n",
       "      <td>1105.000000</td>\n",
       "      <td>1105.000000</td>\n",
       "      <td>1105.000000</td>\n",
       "    </tr>\n",
       "    <tr>\n",
       "      <th>mean</th>\n",
       "      <td>9927.760181</td>\n",
       "      <td>59.883258</td>\n",
       "      <td>66403.236199</td>\n",
       "      <td>103.153846</td>\n",
       "      <td>1511.884163</td>\n",
       "      <td>3.990045</td>\n",
       "      <td>5.027149</td>\n",
       "      <td>76.841629</td>\n",
       "      <td>1054.836199</td>\n",
       "    </tr>\n",
       "    <tr>\n",
       "      <th>std</th>\n",
       "      <td>2171.466595</td>\n",
       "      <td>14.615790</td>\n",
       "      <td>28685.013481</td>\n",
       "      <td>9.890700</td>\n",
       "      <td>129.819883</td>\n",
       "      <td>0.951206</td>\n",
       "      <td>0.197781</td>\n",
       "      <td>8.039491</td>\n",
       "      <td>27.101048</td>\n",
       "    </tr>\n",
       "    <tr>\n",
       "      <th>min</th>\n",
       "      <td>5250.000000</td>\n",
       "      <td>14.000000</td>\n",
       "      <td>1.000000</td>\n",
       "      <td>86.000000</td>\n",
       "      <td>1300.000000</td>\n",
       "      <td>3.000000</td>\n",
       "      <td>3.000000</td>\n",
       "      <td>64.000000</td>\n",
       "      <td>1000.000000</td>\n",
       "    </tr>\n",
       "    <tr>\n",
       "      <th>25%</th>\n",
       "      <td>8450.000000</td>\n",
       "      <td>50.000000</td>\n",
       "      <td>45850.000000</td>\n",
       "      <td>97.000000</td>\n",
       "      <td>1400.000000</td>\n",
       "      <td>3.000000</td>\n",
       "      <td>5.000000</td>\n",
       "      <td>69.000000</td>\n",
       "      <td>1035.000000</td>\n",
       "    </tr>\n",
       "    <tr>\n",
       "      <th>50%</th>\n",
       "      <td>9750.000000</td>\n",
       "      <td>62.000000</td>\n",
       "      <td>63135.000000</td>\n",
       "      <td>110.000000</td>\n",
       "      <td>1600.000000</td>\n",
       "      <td>4.000000</td>\n",
       "      <td>5.000000</td>\n",
       "      <td>69.000000</td>\n",
       "      <td>1050.000000</td>\n",
       "    </tr>\n",
       "    <tr>\n",
       "      <th>75%</th>\n",
       "      <td>10950.000000</td>\n",
       "      <td>71.000000</td>\n",
       "      <td>83133.000000</td>\n",
       "      <td>110.000000</td>\n",
       "      <td>1600.000000</td>\n",
       "      <td>5.000000</td>\n",
       "      <td>5.000000</td>\n",
       "      <td>85.000000</td>\n",
       "      <td>1075.000000</td>\n",
       "    </tr>\n",
       "    <tr>\n",
       "      <th>max</th>\n",
       "      <td>16500.000000</td>\n",
       "      <td>80.000000</td>\n",
       "      <td>194545.000000</td>\n",
       "      <td>116.000000</td>\n",
       "      <td>2000.000000</td>\n",
       "      <td>5.000000</td>\n",
       "      <td>6.000000</td>\n",
       "      <td>100.000000</td>\n",
       "      <td>1260.000000</td>\n",
       "    </tr>\n",
       "  </tbody>\n",
       "</table>\n",
       "</div>"
      ],
      "text/plain": [
       "              price          age             km           hp           cc  \\\n",
       "count   1105.000000  1105.000000    1105.000000  1105.000000  1105.000000   \n",
       "mean    9927.760181    59.883258   66403.236199   103.153846  1511.884163   \n",
       "std     2171.466595    14.615790   28685.013481     9.890700   129.819883   \n",
       "min     5250.000000    14.000000       1.000000    86.000000  1300.000000   \n",
       "25%     8450.000000    50.000000   45850.000000    97.000000  1400.000000   \n",
       "50%     9750.000000    62.000000   63135.000000   110.000000  1600.000000   \n",
       "75%    10950.000000    71.000000   83133.000000   110.000000  1600.000000   \n",
       "max    16500.000000    80.000000  194545.000000   116.000000  2000.000000   \n",
       "\n",
       "             doors        gears          tax       weight  \n",
       "count  1105.000000  1105.000000  1105.000000  1105.000000  \n",
       "mean      3.990045     5.027149    76.841629  1054.836199  \n",
       "std       0.951206     0.197781     8.039491    27.101048  \n",
       "min       3.000000     3.000000    64.000000  1000.000000  \n",
       "25%       3.000000     5.000000    69.000000  1035.000000  \n",
       "50%       4.000000     5.000000    69.000000  1050.000000  \n",
       "75%       5.000000     5.000000    85.000000  1075.000000  \n",
       "max       5.000000     6.000000   100.000000  1260.000000  "
      ]
     },
     "execution_count": 40,
     "metadata": {},
     "output_type": "execute_result"
    }
   ],
   "source": [
    "data.describe()"
   ]
  },
  {
   "cell_type": "code",
   "execution_count": 41,
   "id": "ea0022d5",
   "metadata": {},
   "outputs": [
    {
     "data": {
      "text/plain": [
       "<AxesSubplot:>"
      ]
     },
     "execution_count": 41,
     "metadata": {},
     "output_type": "execute_result"
    },
    {
     "data": {
      "image/png": "[encoded data removed]",
      "text/plain": [
       "<Figure size 432x288 with 1 Axes>"
      ]
     },
     "metadata": {
      "needs_background": "light"
     },
     "output_type": "display_data"
    }
   ],
   "source": [
    "data.plot(kind='box')"
   ]
  },
  {
   "cell_type": "code",
   "execution_count": 42,
   "id": "03254292",
   "metadata": {},
   "outputs": [],
   "source": [
    "q1=data['km'].quantile(.25)\n",
    "q3=data['km'].quantile(.75)\n",
    "iqr=q3-q1"
   ]
  },
  {
   "cell_type": "code",
   "execution_count": 43,
   "id": "0d5dcba7",
   "metadata": {},
   "outputs": [
    {
     "data": {
      "text/plain": [
       "(139057.5, -10074.5)"
      ]
     },
     "execution_count": 43,
     "metadata": {},
     "output_type": "execute_result"
    }
   ],
   "source": [
    "upper=q3+(1.5*iqr)\n",
    "lower=q1-(1.5*iqr)\n",
    "upper,lower"
   ]
  },
  {
   "cell_type": "code",
   "execution_count": 44,
   "id": "f31d71d7",
   "metadata": {},
   "outputs": [],
   "source": [
    "data=data.loc[(data['km']<upper) & (data['km']>lower)]"
   ]
  },
  {
   "cell_type": "code",
   "execution_count": 45,
   "id": "3ccb1eee",
   "metadata": {},
   "outputs": [
    {
     "data": {
      "text/plain": [
       "<AxesSubplot:>"
      ]
     },
     "execution_count": 45,
     "metadata": {},
     "output_type": "execute_result"
    },
    {
     "data": {
      "image/png": "[encoded data removed]",
      "text/plain": [
       "<Figure size 432x288 with 1 Axes>"
      ]
     },
     "metadata": {
      "needs_background": "light"
     },
     "output_type": "display_data"
    }
   ],
   "source": [
    "data['km'].plot(kind='box')"
   ]
  },
  {
   "cell_type": "code",
   "execution_count": 46,
   "id": "e8b07cea",
   "metadata": {},
   "outputs": [
    {
     "data": {
      "text/plain": [
       "<AxesSubplot:>"
      ]
     },
     "execution_count": 46,
     "metadata": {},
     "output_type": "execute_result"
    },
    {
     "data": {
      "image/png": "[encoded data removed]",
      "text/plain": [
       "<Figure size 432x288 with 1 Axes>"
      ]
     },
     "metadata": {
      "needs_background": "light"
     },
     "output_type": "display_data"
    }
   ],
   "source": [
    "data['weight'].plot(kind='box')"
   ]
  },
  {
   "cell_type": "code",
   "execution_count": 47,
   "id": "190c34db",
   "metadata": {},
   "outputs": [
    {
     "data": {
      "text/plain": [
       "(1135.0, 975.0)"
      ]
     },
     "execution_count": 47,
     "metadata": {},
     "output_type": "execute_result"
    }
   ],
   "source": [
    "q1=data['weight'].quantile(.25)\n",
    "q3=data['weight'].quantile(.75)\n",
    "iqr=q3-q1\n",
    "upper=q3+(1.5*iqr)\n",
    "lower=q1-(1.5*iqr)\n",
    "upper,lower"
   ]
  },
  {
   "cell_type": "code",
   "execution_count": 48,
   "id": "993e24ae",
   "metadata": {},
   "outputs": [],
   "source": [
    "data=data.loc[(data['weight']<upper) & (data['weight']>lower)]"
   ]
  },
  {
   "cell_type": "code",
   "execution_count": 49,
   "id": "223a844e",
   "metadata": {},
   "outputs": [
    {
     "data": {
      "text/plain": [
       "<AxesSubplot:>"
      ]
     },
     "execution_count": 49,
     "metadata": {},
     "output_type": "execute_result"
    },
    {
     "data": {
      "image/png": "[encoded data removed]",
      "text/plain": [
       "<Figure size 432x288 with 1 Axes>"
      ]
     },
     "metadata": {
      "needs_background": "light"
     },
     "output_type": "display_data"
    }
   ],
   "source": [
    "data['weight'].plot(kind='box')"
   ]
  },
  {
   "cell_type": "code",
   "execution_count": 50,
   "id": "dcae3f09",
   "metadata": {},
   "outputs": [
    {
     "data": {
      "text/plain": [
       "<AxesSubplot:>"
      ]
     },
     "execution_count": 50,
     "metadata": {},
     "output_type": "execute_result"
    },
    {
     "data": {
      "image/png": "[encoded data removed]",
      "text/plain": [
       "<Figure size 432x288 with 1 Axes>"
      ]
     },
     "metadata": {
      "needs_background": "light"
     },
     "output_type": "display_data"
    }
   ],
   "source": [
    "data.plot(kind='box')"
   ]
  },
  {
   "cell_type": "code",
   "execution_count": 51,
   "id": "6fc6b5cb",
   "metadata": {},
   "outputs": [
    {
     "data": {
      "text/html": [
       "<div>\n",
       "<style scoped>\n",
       "    .dataframe tbody tr th:only-of-type {\n",
       "        vertical-align: middle;\n",
       "    }\n",
       "\n",
       "    .dataframe tbody tr th {\n",
       "        vertical-align: top;\n",
       "    }\n",
       "\n",
       "    .dataframe thead th {\n",
       "        text-align: right;\n",
       "    }\n",
       "</style>\n",
       "<table border=\"1\" class=\"dataframe\">\n",
       "  <thead>\n",
       "    <tr style=\"text-align: right;\">\n",
       "      <th></th>\n",
       "      <th>price</th>\n",
       "      <th>age</th>\n",
       "      <th>km</th>\n",
       "      <th>hp</th>\n",
       "      <th>cc</th>\n",
       "      <th>doors</th>\n",
       "      <th>gears</th>\n",
       "      <th>tax</th>\n",
       "      <th>weight</th>\n",
       "    </tr>\n",
       "  </thead>\n",
       "  <tbody>\n",
       "    <tr>\n",
       "      <th>count</th>\n",
       "      <td>1082.000000</td>\n",
       "      <td>1082.000000</td>\n",
       "      <td>1082.000000</td>\n",
       "      <td>1082.000000</td>\n",
       "      <td>1082.000000</td>\n",
       "      <td>1082.000000</td>\n",
       "      <td>1082.000000</td>\n",
       "      <td>1082.000000</td>\n",
       "      <td>1082.000000</td>\n",
       "    </tr>\n",
       "    <tr>\n",
       "      <th>mean</th>\n",
       "      <td>9980.207948</td>\n",
       "      <td>59.722736</td>\n",
       "      <td>64774.915896</td>\n",
       "      <td>103.263401</td>\n",
       "      <td>1511.397412</td>\n",
       "      <td>3.994455</td>\n",
       "      <td>5.025878</td>\n",
       "      <td>76.928835</td>\n",
       "      <td>1054.486137</td>\n",
       "    </tr>\n",
       "    <tr>\n",
       "      <th>std</th>\n",
       "      <td>2143.264423</td>\n",
       "      <td>14.618264</td>\n",
       "      <td>26051.637068</td>\n",
       "      <td>9.822850</td>\n",
       "      <td>126.876097</td>\n",
       "      <td>0.951150</td>\n",
       "      <td>0.195404</td>\n",
       "      <td>8.001129</td>\n",
       "      <td>25.321618</td>\n",
       "    </tr>\n",
       "    <tr>\n",
       "      <th>min</th>\n",
       "      <td>5250.000000</td>\n",
       "      <td>14.000000</td>\n",
       "      <td>5309.000000</td>\n",
       "      <td>86.000000</td>\n",
       "      <td>1300.000000</td>\n",
       "      <td>3.000000</td>\n",
       "      <td>3.000000</td>\n",
       "      <td>69.000000</td>\n",
       "      <td>1000.000000</td>\n",
       "    </tr>\n",
       "    <tr>\n",
       "      <th>25%</th>\n",
       "      <td>8460.000000</td>\n",
       "      <td>50.000000</td>\n",
       "      <td>45517.500000</td>\n",
       "      <td>97.000000</td>\n",
       "      <td>1400.000000</td>\n",
       "      <td>3.000000</td>\n",
       "      <td>5.000000</td>\n",
       "      <td>69.000000</td>\n",
       "      <td>1035.000000</td>\n",
       "    </tr>\n",
       "    <tr>\n",
       "      <th>50%</th>\n",
       "      <td>9750.000000</td>\n",
       "      <td>62.000000</td>\n",
       "      <td>62457.500000</td>\n",
       "      <td>110.000000</td>\n",
       "      <td>1600.000000</td>\n",
       "      <td>4.000000</td>\n",
       "      <td>5.000000</td>\n",
       "      <td>69.000000</td>\n",
       "      <td>1050.000000</td>\n",
       "    </tr>\n",
       "    <tr>\n",
       "      <th>75%</th>\n",
       "      <td>10950.000000</td>\n",
       "      <td>71.000000</td>\n",
       "      <td>82000.000000</td>\n",
       "      <td>110.000000</td>\n",
       "      <td>1600.000000</td>\n",
       "      <td>5.000000</td>\n",
       "      <td>5.000000</td>\n",
       "      <td>85.000000</td>\n",
       "      <td>1075.000000</td>\n",
       "    </tr>\n",
       "    <tr>\n",
       "      <th>max</th>\n",
       "      <td>16500.000000</td>\n",
       "      <td>80.000000</td>\n",
       "      <td>138500.000000</td>\n",
       "      <td>116.000000</td>\n",
       "      <td>1600.000000</td>\n",
       "      <td>5.000000</td>\n",
       "      <td>6.000000</td>\n",
       "      <td>85.000000</td>\n",
       "      <td>1130.000000</td>\n",
       "    </tr>\n",
       "  </tbody>\n",
       "</table>\n",
       "</div>"
      ],
      "text/plain": [
       "              price          age             km           hp           cc  \\\n",
       "count   1082.000000  1082.000000    1082.000000  1082.000000  1082.000000   \n",
       "mean    9980.207948    59.722736   64774.915896   103.263401  1511.397412   \n",
       "std     2143.264423    14.618264   26051.637068     9.822850   126.876097   \n",
       "min     5250.000000    14.000000    5309.000000    86.000000  1300.000000   \n",
       "25%     8460.000000    50.000000   45517.500000    97.000000  1400.000000   \n",
       "50%     9750.000000    62.000000   62457.500000   110.000000  1600.000000   \n",
       "75%    10950.000000    71.000000   82000.000000   110.000000  1600.000000   \n",
       "max    16500.000000    80.000000  138500.000000   116.000000  1600.000000   \n",
       "\n",
       "             doors        gears          tax       weight  \n",
       "count  1082.000000  1082.000000  1082.000000  1082.000000  \n",
       "mean      3.994455     5.025878    76.928835  1054.486137  \n",
       "std       0.951150     0.195404     8.001129    25.321618  \n",
       "min       3.000000     3.000000    69.000000  1000.000000  \n",
       "25%       3.000000     5.000000    69.000000  1035.000000  \n",
       "50%       4.000000     5.000000    69.000000  1050.000000  \n",
       "75%       5.000000     5.000000    85.000000  1075.000000  \n",
       "max       5.000000     6.000000    85.000000  1130.000000  "
      ]
     },
     "execution_count": 51,
     "metadata": {},
     "output_type": "execute_result"
    }
   ],
   "source": [
    "data.describe()"
   ]
  },
  {
   "cell_type": "code",
   "execution_count": 52,
   "id": "86cd1c2d",
   "metadata": {},
   "outputs": [
    {
     "data": {
      "text/plain": [
       "(136723.75, -9206.25)"
      ]
     },
     "execution_count": 52,
     "metadata": {},
     "output_type": "execute_result"
    }
   ],
   "source": [
    "q1=data['km'].quantile(.25)\n",
    "q3=data['km'].quantile(.75)\n",
    "iqr=q3-q1\n",
    "upper=q3+(1.5*iqr)\n",
    "lower=q1-(1.5*iqr)\n",
    "upper,lower"
   ]
  },
  {
   "cell_type": "code",
   "execution_count": 53,
   "id": "b765c77b",
   "metadata": {},
   "outputs": [
    {
     "data": {
      "text/plain": [
       "<AxesSubplot:>"
      ]
     },
     "execution_count": 53,
     "metadata": {},
     "output_type": "execute_result"
    },
    {
     "data": {
      "image/png": "[encoded data removed]",
      "text/plain": [
       "<Figure size 432x288 with 1 Axes>"
      ]
     },
     "metadata": {
      "needs_background": "light"
     },
     "output_type": "display_data"
    }
   ],
   "source": [
    "data['km'].plot(kind='box')"
   ]
  },
  {
   "cell_type": "code",
   "execution_count": 54,
   "id": "6e498154",
   "metadata": {},
   "outputs": [],
   "source": [
    "data=data.loc[(data['km']<upper) & (data['km']>lower)]"
   ]
  },
  {
   "cell_type": "code",
   "execution_count": 55,
   "id": "936c8076",
   "metadata": {},
   "outputs": [
    {
     "data": {
      "text/plain": [
       "<AxesSubplot:>"
      ]
     },
     "execution_count": 55,
     "metadata": {},
     "output_type": "execute_result"
    },
    {
     "data": {
      "image/png": "[encoded data removed]",
      "text/plain": [
       "<Figure size 432x288 with 1 Axes>"
      ]
     },
     "metadata": {
      "needs_background": "light"
     },
     "output_type": "display_data"
    }
   ],
   "source": [
    "data.plot(kind='box')"
   ]
  },
  {
   "cell_type": "code",
   "execution_count": 56,
   "id": "134b54e8",
   "metadata": {},
   "outputs": [
    {
     "data": {
      "text/plain": [
       "(14700.0, 4700.0)"
      ]
     },
     "execution_count": 56,
     "metadata": {},
     "output_type": "execute_result"
    }
   ],
   "source": [
    "q1=data['price'].quantile(.25)\n",
    "q3=data['price'].quantile(.75)\n",
    "iqr=q3-q1\n",
    "upper=q3+(1.5*iqr)\n",
    "lower=q1-(1.5*iqr)\n",
    "upper,lower"
   ]
  },
  {
   "cell_type": "code",
   "execution_count": 57,
   "id": "4d62f60a",
   "metadata": {},
   "outputs": [
    {
     "data": {
      "text/plain": [
       "<AxesSubplot:>"
      ]
     },
     "execution_count": 57,
     "metadata": {},
     "output_type": "execute_result"
    },
    {
     "data": {
      "image/png": "[encoded data removed]",
      "text/plain": [
       "<Figure size 432x288 with 1 Axes>"
      ]
     },
     "metadata": {
      "needs_background": "light"
     },
     "output_type": "display_data"
    }
   ],
   "source": [
    "data['price'].plot(kind='box')"
   ]
  },
  {
   "cell_type": "code",
   "execution_count": 58,
   "id": "425e38a1",
   "metadata": {},
   "outputs": [],
   "source": [
    "data=data.loc[data['price']<upper]"
   ]
  },
  {
   "cell_type": "code",
   "execution_count": 59,
   "id": "582401a6",
   "metadata": {},
   "outputs": [
    {
     "data": {
      "text/plain": [
       "<AxesSubplot:>"
      ]
     },
     "execution_count": 59,
     "metadata": {},
     "output_type": "execute_result"
    },
    {
     "data": {
      "image/png": "[encoded data removed]",
      "text/plain": [
       "<Figure size 432x288 with 1 Axes>"
      ]
     },
     "metadata": {
      "needs_background": "light"
     },
     "output_type": "display_data"
    }
   ],
   "source": [
    "data['price'].plot(kind='box')"
   ]
  },
  {
   "cell_type": "code",
   "execution_count": 60,
   "id": "8878a0fd",
   "metadata": {},
   "outputs": [
    {
     "data": {
      "text/plain": [
       "<AxesSubplot:>"
      ]
     },
     "execution_count": 60,
     "metadata": {},
     "output_type": "execute_result"
    },
    {
     "data": {
      "image/png": "[encoded data removed]",
      "text/plain": [
       "<Figure size 432x288 with 1 Axes>"
      ]
     },
     "metadata": {
      "needs_background": "light"
     },
     "output_type": "display_data"
    }
   ],
   "source": [
    "data.plot(kind='box')"
   ]
  },
  {
   "cell_type": "code",
   "execution_count": 61,
   "id": "f99b1f38",
   "metadata": {},
   "outputs": [
    {
     "data": {
      "text/html": [
       "<div>\n",
       "<style scoped>\n",
       "    .dataframe tbody tr th:only-of-type {\n",
       "        vertical-align: middle;\n",
       "    }\n",
       "\n",
       "    .dataframe tbody tr th {\n",
       "        vertical-align: top;\n",
       "    }\n",
       "\n",
       "    .dataframe thead th {\n",
       "        text-align: right;\n",
       "    }\n",
       "</style>\n",
       "<table border=\"1\" class=\"dataframe\">\n",
       "  <thead>\n",
       "    <tr style=\"text-align: right;\">\n",
       "      <th></th>\n",
       "      <th>price</th>\n",
       "      <th>age</th>\n",
       "      <th>km</th>\n",
       "      <th>hp</th>\n",
       "      <th>cc</th>\n",
       "      <th>doors</th>\n",
       "      <th>gears</th>\n",
       "      <th>tax</th>\n",
       "      <th>weight</th>\n",
       "    </tr>\n",
       "  </thead>\n",
       "  <tbody>\n",
       "    <tr>\n",
       "      <th>count</th>\n",
       "      <td>1031.000000</td>\n",
       "      <td>1031.000000</td>\n",
       "      <td>1031.000000</td>\n",
       "      <td>1031.000000</td>\n",
       "      <td>1031.000000</td>\n",
       "      <td>1031.000000</td>\n",
       "      <td>1031.000000</td>\n",
       "      <td>1031.000000</td>\n",
       "      <td>1031.000000</td>\n",
       "    </tr>\n",
       "    <tr>\n",
       "      <th>mean</th>\n",
       "      <td>9709.899127</td>\n",
       "      <td>61.317168</td>\n",
       "      <td>66095.276431</td>\n",
       "      <td>103.394762</td>\n",
       "      <td>1514.095053</td>\n",
       "      <td>3.993210</td>\n",
       "      <td>5.026188</td>\n",
       "      <td>76.560621</td>\n",
       "      <td>1052.166828</td>\n",
       "    </tr>\n",
       "    <tr>\n",
       "      <th>std</th>\n",
       "      <td>1779.593270</td>\n",
       "      <td>12.817437</td>\n",
       "      <td>25436.469987</td>\n",
       "      <td>9.948134</td>\n",
       "      <td>127.702509</td>\n",
       "      <td>0.948659</td>\n",
       "      <td>0.197786</td>\n",
       "      <td>7.989432</td>\n",
       "      <td>23.255760</td>\n",
       "    </tr>\n",
       "    <tr>\n",
       "      <th>min</th>\n",
       "      <td>5250.000000</td>\n",
       "      <td>22.000000</td>\n",
       "      <td>5309.000000</td>\n",
       "      <td>86.000000</td>\n",
       "      <td>1300.000000</td>\n",
       "      <td>3.000000</td>\n",
       "      <td>3.000000</td>\n",
       "      <td>69.000000</td>\n",
       "      <td>1000.000000</td>\n",
       "    </tr>\n",
       "    <tr>\n",
       "      <th>25%</th>\n",
       "      <td>8450.000000</td>\n",
       "      <td>52.000000</td>\n",
       "      <td>47355.000000</td>\n",
       "      <td>97.000000</td>\n",
       "      <td>1400.000000</td>\n",
       "      <td>3.000000</td>\n",
       "      <td>5.000000</td>\n",
       "      <td>69.000000</td>\n",
       "      <td>1035.000000</td>\n",
       "    </tr>\n",
       "    <tr>\n",
       "      <th>50%</th>\n",
       "      <td>9500.000000</td>\n",
       "      <td>63.000000</td>\n",
       "      <td>64000.000000</td>\n",
       "      <td>110.000000</td>\n",
       "      <td>1600.000000</td>\n",
       "      <td>4.000000</td>\n",
       "      <td>5.000000</td>\n",
       "      <td>69.000000</td>\n",
       "      <td>1050.000000</td>\n",
       "    </tr>\n",
       "    <tr>\n",
       "      <th>75%</th>\n",
       "      <td>10950.000000</td>\n",
       "      <td>72.000000</td>\n",
       "      <td>82770.000000</td>\n",
       "      <td>110.000000</td>\n",
       "      <td>1600.000000</td>\n",
       "      <td>5.000000</td>\n",
       "      <td>5.000000</td>\n",
       "      <td>85.000000</td>\n",
       "      <td>1075.000000</td>\n",
       "    </tr>\n",
       "    <tr>\n",
       "      <th>max</th>\n",
       "      <td>14350.000000</td>\n",
       "      <td>80.000000</td>\n",
       "      <td>134539.000000</td>\n",
       "      <td>116.000000</td>\n",
       "      <td>1600.000000</td>\n",
       "      <td>5.000000</td>\n",
       "      <td>6.000000</td>\n",
       "      <td>85.000000</td>\n",
       "      <td>1115.000000</td>\n",
       "    </tr>\n",
       "  </tbody>\n",
       "</table>\n",
       "</div>"
      ],
      "text/plain": [
       "              price          age             km           hp           cc  \\\n",
       "count   1031.000000  1031.000000    1031.000000  1031.000000  1031.000000   \n",
       "mean    9709.899127    61.317168   66095.276431   103.394762  1514.095053   \n",
       "std     1779.593270    12.817437   25436.469987     9.948134   127.702509   \n",
       "min     5250.000000    22.000000    5309.000000    86.000000  1300.000000   \n",
       "25%     8450.000000    52.000000   47355.000000    97.000000  1400.000000   \n",
       "50%     9500.000000    63.000000   64000.000000   110.000000  1600.000000   \n",
       "75%    10950.000000    72.000000   82770.000000   110.000000  1600.000000   \n",
       "max    14350.000000    80.000000  134539.000000   116.000000  1600.000000   \n",
       "\n",
       "             doors        gears          tax       weight  \n",
       "count  1031.000000  1031.000000  1031.000000  1031.000000  \n",
       "mean      3.993210     5.026188    76.560621  1052.166828  \n",
       "std       0.948659     0.197786     7.989432    23.255760  \n",
       "min       3.000000     3.000000    69.000000  1000.000000  \n",
       "25%       3.000000     5.000000    69.000000  1035.000000  \n",
       "50%       4.000000     5.000000    69.000000  1050.000000  \n",
       "75%       5.000000     5.000000    85.000000  1075.000000  \n",
       "max       5.000000     6.000000    85.000000  1115.000000  "
      ]
     },
     "execution_count": 61,
     "metadata": {},
     "output_type": "execute_result"
    }
   ],
   "source": [
    "data.describe()"
   ]
  },
  {
   "cell_type": "code",
   "execution_count": 62,
   "id": "87f0ac83",
   "metadata": {},
   "outputs": [
    {
     "data": {
      "text/plain": [
       "(5.0, 5.0)"
      ]
     },
     "execution_count": 62,
     "metadata": {},
     "output_type": "execute_result"
    }
   ],
   "source": [
    "q1=data[\"gears\"].quantile(.25)\n",
    "q3=data[\"gears\"].quantile(.75)\n",
    "iqr=q3-q1\n",
    "upper=q3+(1.5*iqr)\n",
    "lower=q1-(1.5*iqr)\n",
    "upper,lower"
   ]
  },
  {
   "cell_type": "code",
   "execution_count": 63,
   "id": "c6a77874",
   "metadata": {},
   "outputs": [],
   "source": [
    "#data1=data.loc[(data['gears']<upper) & (data['gears']>lower)]"
   ]
  },
  {
   "cell_type": "code",
   "execution_count": 64,
   "id": "db91bc45",
   "metadata": {},
   "outputs": [],
   "source": [
    "#data1"
   ]
  },
  {
   "cell_type": "code",
   "execution_count": 65,
   "id": "6bcef157",
   "metadata": {},
   "outputs": [],
   "source": [
    "#data.to_csv(\"ToyotaCorolla_cleaned.csv\")"
   ]
  },
  {
   "cell_type": "code",
   "execution_count": 66,
   "id": "396d444b",
   "metadata": {},
   "outputs": [
    {
     "data": {
      "text/html": [
       "<div>\n",
       "<style scoped>\n",
       "    .dataframe tbody tr th:only-of-type {\n",
       "        vertical-align: middle;\n",
       "    }\n",
       "\n",
       "    .dataframe tbody tr th {\n",
       "        vertical-align: top;\n",
       "    }\n",
       "\n",
       "    .dataframe thead th {\n",
       "        text-align: right;\n",
       "    }\n",
       "</style>\n",
       "<table border=\"1\" class=\"dataframe\">\n",
       "  <thead>\n",
       "    <tr style=\"text-align: right;\">\n",
       "      <th></th>\n",
       "      <th>price</th>\n",
       "      <th>age</th>\n",
       "      <th>km</th>\n",
       "      <th>hp</th>\n",
       "      <th>cc</th>\n",
       "      <th>doors</th>\n",
       "      <th>gears</th>\n",
       "      <th>tax</th>\n",
       "      <th>weight</th>\n",
       "    </tr>\n",
       "  </thead>\n",
       "  <tbody>\n",
       "    <tr>\n",
       "      <th>955</th>\n",
       "      <td>10950</td>\n",
       "      <td>58</td>\n",
       "      <td>51421</td>\n",
       "      <td>110</td>\n",
       "      <td>1600</td>\n",
       "      <td>5</td>\n",
       "      <td>3</td>\n",
       "      <td>85</td>\n",
       "      <td>1105</td>\n",
       "    </tr>\n",
       "    <tr>\n",
       "      <th>990</th>\n",
       "      <td>7950</td>\n",
       "      <td>58</td>\n",
       "      <td>43000</td>\n",
       "      <td>110</td>\n",
       "      <td>1600</td>\n",
       "      <td>4</td>\n",
       "      <td>3</td>\n",
       "      <td>72</td>\n",
       "      <td>1114</td>\n",
       "    </tr>\n",
       "    <tr>\n",
       "      <th>1425</th>\n",
       "      <td>9950</td>\n",
       "      <td>78</td>\n",
       "      <td>30964</td>\n",
       "      <td>110</td>\n",
       "      <td>1600</td>\n",
       "      <td>3</td>\n",
       "      <td>4</td>\n",
       "      <td>85</td>\n",
       "      <td>1080</td>\n",
       "    </tr>\n",
       "  </tbody>\n",
       "</table>\n",
       "</div>"
      ],
      "text/plain": [
       "      price  age     km   hp    cc  doors  gears  tax  weight\n",
       "955   10950   58  51421  110  1600      5      3   85    1105\n",
       "990    7950   58  43000  110  1600      4      3   72    1114\n",
       "1425   9950   78  30964  110  1600      3      4   85    1080"
      ]
     },
     "execution_count": 66,
     "metadata": {},
     "output_type": "execute_result"
    }
   ],
   "source": [
    "data.loc[data[\"gears\"]<=4]"
   ]
  },
  {
   "cell_type": "code",
   "execution_count": 67,
   "id": "98dabca1",
   "metadata": {
    "scrolled": true
   },
   "outputs": [
    {
     "data": {
      "text/html": [
       "<div>\n",
       "<style scoped>\n",
       "    .dataframe tbody tr th:only-of-type {\n",
       "        vertical-align: middle;\n",
       "    }\n",
       "\n",
       "    .dataframe tbody tr th {\n",
       "        vertical-align: top;\n",
       "    }\n",
       "\n",
       "    .dataframe thead th {\n",
       "        text-align: right;\n",
       "    }\n",
       "</style>\n",
       "<table border=\"1\" class=\"dataframe\">\n",
       "  <thead>\n",
       "    <tr style=\"text-align: right;\">\n",
       "      <th></th>\n",
       "      <th>price</th>\n",
       "      <th>age</th>\n",
       "      <th>km</th>\n",
       "      <th>hp</th>\n",
       "      <th>cc</th>\n",
       "      <th>doors</th>\n",
       "      <th>gears</th>\n",
       "      <th>tax</th>\n",
       "      <th>weight</th>\n",
       "    </tr>\n",
       "  </thead>\n",
       "  <tbody>\n",
       "    <tr>\n",
       "      <th>443</th>\n",
       "      <td>11750</td>\n",
       "      <td>48</td>\n",
       "      <td>75045</td>\n",
       "      <td>110</td>\n",
       "      <td>1600</td>\n",
       "      <td>3</td>\n",
       "      <td>6</td>\n",
       "      <td>85</td>\n",
       "      <td>1055</td>\n",
       "    </tr>\n",
       "    <tr>\n",
       "      <th>460</th>\n",
       "      <td>11950</td>\n",
       "      <td>49</td>\n",
       "      <td>69659</td>\n",
       "      <td>86</td>\n",
       "      <td>1300</td>\n",
       "      <td>3</td>\n",
       "      <td>6</td>\n",
       "      <td>69</td>\n",
       "      <td>1025</td>\n",
       "    </tr>\n",
       "    <tr>\n",
       "      <th>585</th>\n",
       "      <td>9950</td>\n",
       "      <td>55</td>\n",
       "      <td>29650</td>\n",
       "      <td>86</td>\n",
       "      <td>1300</td>\n",
       "      <td>3</td>\n",
       "      <td>6</td>\n",
       "      <td>69</td>\n",
       "      <td>1025</td>\n",
       "    </tr>\n",
       "    <tr>\n",
       "      <th>642</th>\n",
       "      <td>10950</td>\n",
       "      <td>57</td>\n",
       "      <td>118833</td>\n",
       "      <td>110</td>\n",
       "      <td>1600</td>\n",
       "      <td>3</td>\n",
       "      <td>6</td>\n",
       "      <td>85</td>\n",
       "      <td>1065</td>\n",
       "    </tr>\n",
       "    <tr>\n",
       "      <th>658</th>\n",
       "      <td>10500</td>\n",
       "      <td>66</td>\n",
       "      <td>112000</td>\n",
       "      <td>110</td>\n",
       "      <td>1600</td>\n",
       "      <td>3</td>\n",
       "      <td>6</td>\n",
       "      <td>85</td>\n",
       "      <td>1065</td>\n",
       "    </tr>\n",
       "    <tr>\n",
       "      <th>660</th>\n",
       "      <td>9750</td>\n",
       "      <td>65</td>\n",
       "      <td>111769</td>\n",
       "      <td>110</td>\n",
       "      <td>1600</td>\n",
       "      <td>3</td>\n",
       "      <td>6</td>\n",
       "      <td>85</td>\n",
       "      <td>1065</td>\n",
       "    </tr>\n",
       "    <tr>\n",
       "      <th>682</th>\n",
       "      <td>8950</td>\n",
       "      <td>63</td>\n",
       "      <td>101469</td>\n",
       "      <td>110</td>\n",
       "      <td>1600</td>\n",
       "      <td>3</td>\n",
       "      <td>6</td>\n",
       "      <td>85</td>\n",
       "      <td>1065</td>\n",
       "    </tr>\n",
       "    <tr>\n",
       "      <th>690</th>\n",
       "      <td>9950</td>\n",
       "      <td>61</td>\n",
       "      <td>97648</td>\n",
       "      <td>110</td>\n",
       "      <td>1600</td>\n",
       "      <td>3</td>\n",
       "      <td>6</td>\n",
       "      <td>85</td>\n",
       "      <td>1065</td>\n",
       "    </tr>\n",
       "    <tr>\n",
       "      <th>708</th>\n",
       "      <td>9450</td>\n",
       "      <td>65</td>\n",
       "      <td>92226</td>\n",
       "      <td>110</td>\n",
       "      <td>1600</td>\n",
       "      <td>3</td>\n",
       "      <td>6</td>\n",
       "      <td>85</td>\n",
       "      <td>1065</td>\n",
       "    </tr>\n",
       "    <tr>\n",
       "      <th>729</th>\n",
       "      <td>11500</td>\n",
       "      <td>65</td>\n",
       "      <td>85889</td>\n",
       "      <td>110</td>\n",
       "      <td>1600</td>\n",
       "      <td>3</td>\n",
       "      <td>6</td>\n",
       "      <td>85</td>\n",
       "      <td>1065</td>\n",
       "    </tr>\n",
       "    <tr>\n",
       "      <th>740</th>\n",
       "      <td>10450</td>\n",
       "      <td>62</td>\n",
       "      <td>82421</td>\n",
       "      <td>110</td>\n",
       "      <td>1600</td>\n",
       "      <td>3</td>\n",
       "      <td>6</td>\n",
       "      <td>85</td>\n",
       "      <td>1065</td>\n",
       "    </tr>\n",
       "    <tr>\n",
       "      <th>746</th>\n",
       "      <td>10950</td>\n",
       "      <td>65</td>\n",
       "      <td>81192</td>\n",
       "      <td>110</td>\n",
       "      <td>1600</td>\n",
       "      <td>3</td>\n",
       "      <td>6</td>\n",
       "      <td>85</td>\n",
       "      <td>1065</td>\n",
       "    </tr>\n",
       "    <tr>\n",
       "      <th>752</th>\n",
       "      <td>9950</td>\n",
       "      <td>59</td>\n",
       "      <td>80430</td>\n",
       "      <td>110</td>\n",
       "      <td>1600</td>\n",
       "      <td>3</td>\n",
       "      <td>6</td>\n",
       "      <td>85</td>\n",
       "      <td>1065</td>\n",
       "    </tr>\n",
       "    <tr>\n",
       "      <th>785</th>\n",
       "      <td>9950</td>\n",
       "      <td>67</td>\n",
       "      <td>75429</td>\n",
       "      <td>110</td>\n",
       "      <td>1600</td>\n",
       "      <td>3</td>\n",
       "      <td>6</td>\n",
       "      <td>85</td>\n",
       "      <td>1065</td>\n",
       "    </tr>\n",
       "    <tr>\n",
       "      <th>800</th>\n",
       "      <td>9995</td>\n",
       "      <td>61</td>\n",
       "      <td>73894</td>\n",
       "      <td>110</td>\n",
       "      <td>1600</td>\n",
       "      <td>3</td>\n",
       "      <td>6</td>\n",
       "      <td>85</td>\n",
       "      <td>1065</td>\n",
       "    </tr>\n",
       "    <tr>\n",
       "      <th>810</th>\n",
       "      <td>9500</td>\n",
       "      <td>59</td>\n",
       "      <td>71366</td>\n",
       "      <td>110</td>\n",
       "      <td>1600</td>\n",
       "      <td>3</td>\n",
       "      <td>6</td>\n",
       "      <td>85</td>\n",
       "      <td>1065</td>\n",
       "    </tr>\n",
       "    <tr>\n",
       "      <th>826</th>\n",
       "      <td>9650</td>\n",
       "      <td>67</td>\n",
       "      <td>69000</td>\n",
       "      <td>110</td>\n",
       "      <td>1600</td>\n",
       "      <td>3</td>\n",
       "      <td>6</td>\n",
       "      <td>85</td>\n",
       "      <td>1065</td>\n",
       "    </tr>\n",
       "    <tr>\n",
       "      <th>827</th>\n",
       "      <td>9950</td>\n",
       "      <td>68</td>\n",
       "      <td>68865</td>\n",
       "      <td>110</td>\n",
       "      <td>1600</td>\n",
       "      <td>3</td>\n",
       "      <td>6</td>\n",
       "      <td>85</td>\n",
       "      <td>1065</td>\n",
       "    </tr>\n",
       "    <tr>\n",
       "      <th>834</th>\n",
       "      <td>9750</td>\n",
       "      <td>67</td>\n",
       "      <td>67762</td>\n",
       "      <td>110</td>\n",
       "      <td>1600</td>\n",
       "      <td>3</td>\n",
       "      <td>6</td>\n",
       "      <td>85</td>\n",
       "      <td>1065</td>\n",
       "    </tr>\n",
       "    <tr>\n",
       "      <th>837</th>\n",
       "      <td>9950</td>\n",
       "      <td>59</td>\n",
       "      <td>67010</td>\n",
       "      <td>110</td>\n",
       "      <td>1600</td>\n",
       "      <td>3</td>\n",
       "      <td>6</td>\n",
       "      <td>85</td>\n",
       "      <td>1065</td>\n",
       "    </tr>\n",
       "    <tr>\n",
       "      <th>841</th>\n",
       "      <td>10500</td>\n",
       "      <td>61</td>\n",
       "      <td>66259</td>\n",
       "      <td>110</td>\n",
       "      <td>1600</td>\n",
       "      <td>3</td>\n",
       "      <td>6</td>\n",
       "      <td>85</td>\n",
       "      <td>1065</td>\n",
       "    </tr>\n",
       "    <tr>\n",
       "      <th>845</th>\n",
       "      <td>10750</td>\n",
       "      <td>63</td>\n",
       "      <td>65896</td>\n",
       "      <td>110</td>\n",
       "      <td>1600</td>\n",
       "      <td>3</td>\n",
       "      <td>6</td>\n",
       "      <td>85</td>\n",
       "      <td>1065</td>\n",
       "    </tr>\n",
       "    <tr>\n",
       "      <th>872</th>\n",
       "      <td>9750</td>\n",
       "      <td>68</td>\n",
       "      <td>62292</td>\n",
       "      <td>110</td>\n",
       "      <td>1600</td>\n",
       "      <td>3</td>\n",
       "      <td>6</td>\n",
       "      <td>85</td>\n",
       "      <td>1065</td>\n",
       "    </tr>\n",
       "    <tr>\n",
       "      <th>912</th>\n",
       "      <td>12950</td>\n",
       "      <td>67</td>\n",
       "      <td>58058</td>\n",
       "      <td>110</td>\n",
       "      <td>1600</td>\n",
       "      <td>3</td>\n",
       "      <td>6</td>\n",
       "      <td>85</td>\n",
       "      <td>1065</td>\n",
       "    </tr>\n",
       "    <tr>\n",
       "      <th>914</th>\n",
       "      <td>10495</td>\n",
       "      <td>62</td>\n",
       "      <td>58000</td>\n",
       "      <td>110</td>\n",
       "      <td>1600</td>\n",
       "      <td>3</td>\n",
       "      <td>6</td>\n",
       "      <td>85</td>\n",
       "      <td>1065</td>\n",
       "    </tr>\n",
       "    <tr>\n",
       "      <th>919</th>\n",
       "      <td>9995</td>\n",
       "      <td>61</td>\n",
       "      <td>57169</td>\n",
       "      <td>110</td>\n",
       "      <td>1600</td>\n",
       "      <td>3</td>\n",
       "      <td>6</td>\n",
       "      <td>85</td>\n",
       "      <td>1065</td>\n",
       "    </tr>\n",
       "    <tr>\n",
       "      <th>920</th>\n",
       "      <td>9950</td>\n",
       "      <td>63</td>\n",
       "      <td>57124</td>\n",
       "      <td>110</td>\n",
       "      <td>1600</td>\n",
       "      <td>3</td>\n",
       "      <td>6</td>\n",
       "      <td>85</td>\n",
       "      <td>1065</td>\n",
       "    </tr>\n",
       "    <tr>\n",
       "      <th>938</th>\n",
       "      <td>10250</td>\n",
       "      <td>60</td>\n",
       "      <td>54554</td>\n",
       "      <td>110</td>\n",
       "      <td>1600</td>\n",
       "      <td>3</td>\n",
       "      <td>6</td>\n",
       "      <td>85</td>\n",
       "      <td>1065</td>\n",
       "    </tr>\n",
       "    <tr>\n",
       "      <th>963</th>\n",
       "      <td>10950</td>\n",
       "      <td>65</td>\n",
       "      <td>49942</td>\n",
       "      <td>110</td>\n",
       "      <td>1600</td>\n",
       "      <td>3</td>\n",
       "      <td>6</td>\n",
       "      <td>85</td>\n",
       "      <td>1065</td>\n",
       "    </tr>\n",
       "    <tr>\n",
       "      <th>1013</th>\n",
       "      <td>10450</td>\n",
       "      <td>65</td>\n",
       "      <td>36000</td>\n",
       "      <td>110</td>\n",
       "      <td>1600</td>\n",
       "      <td>3</td>\n",
       "      <td>6</td>\n",
       "      <td>85</td>\n",
       "      <td>1065</td>\n",
       "    </tr>\n",
       "    <tr>\n",
       "      <th>1014</th>\n",
       "      <td>10950</td>\n",
       "      <td>62</td>\n",
       "      <td>35512</td>\n",
       "      <td>110</td>\n",
       "      <td>1600</td>\n",
       "      <td>3</td>\n",
       "      <td>6</td>\n",
       "      <td>85</td>\n",
       "      <td>1065</td>\n",
       "    </tr>\n",
       "    <tr>\n",
       "      <th>1025</th>\n",
       "      <td>10750</td>\n",
       "      <td>60</td>\n",
       "      <td>31480</td>\n",
       "      <td>110</td>\n",
       "      <td>1600</td>\n",
       "      <td>3</td>\n",
       "      <td>6</td>\n",
       "      <td>85</td>\n",
       "      <td>1065</td>\n",
       "    </tr>\n",
       "  </tbody>\n",
       "</table>\n",
       "</div>"
      ],
      "text/plain": [
       "      price  age      km   hp    cc  doors  gears  tax  weight\n",
       "443   11750   48   75045  110  1600      3      6   85    1055\n",
       "460   11950   49   69659   86  1300      3      6   69    1025\n",
       "585    9950   55   29650   86  1300      3      6   69    1025\n",
       "642   10950   57  118833  110  1600      3      6   85    1065\n",
       "658   10500   66  112000  110  1600      3      6   85    1065\n",
       "660    9750   65  111769  110  1600      3      6   85    1065\n",
       "682    8950   63  101469  110  1600      3      6   85    1065\n",
       "690    9950   61   97648  110  1600      3      6   85    1065\n",
       "708    9450   65   92226  110  1600      3      6   85    1065\n",
       "729   11500   65   85889  110  1600      3      6   85    1065\n",
       "740   10450   62   82421  110  1600      3      6   85    1065\n",
       "746   10950   65   81192  110  1600      3      6   85    1065\n",
       "752    9950   59   80430  110  1600      3      6   85    1065\n",
       "785    9950   67   75429  110  1600      3      6   85    1065\n",
       "800    9995   61   73894  110  1600      3      6   85    1065\n",
       "810    9500   59   71366  110  1600      3      6   85    1065\n",
       "826    9650   67   69000  110  1600      3      6   85    1065\n",
       "827    9950   68   68865  110  1600      3      6   85    1065\n",
       "834    9750   67   67762  110  1600      3      6   85    1065\n",
       "837    9950   59   67010  110  1600      3      6   85    1065\n",
       "841   10500   61   66259  110  1600      3      6   85    1065\n",
       "845   10750   63   65896  110  1600      3      6   85    1065\n",
       "872    9750   68   62292  110  1600      3      6   85    1065\n",
       "912   12950   67   58058  110  1600      3      6   85    1065\n",
       "914   10495   62   58000  110  1600      3      6   85    1065\n",
       "919    9995   61   57169  110  1600      3      6   85    1065\n",
       "920    9950   63   57124  110  1600      3      6   85    1065\n",
       "938   10250   60   54554  110  1600      3      6   85    1065\n",
       "963   10950   65   49942  110  1600      3      6   85    1065\n",
       "1013  10450   65   36000  110  1600      3      6   85    1065\n",
       "1014  10950   62   35512  110  1600      3      6   85    1065\n",
       "1025  10750   60   31480  110  1600      3      6   85    1065"
      ]
     },
     "execution_count": 67,
     "metadata": {},
     "output_type": "execute_result"
    }
   ],
   "source": [
    "data1=data.loc[data[\"gears\"]==6]\n",
    "data1"
   ]
  },
  {
   "cell_type": "code",
   "execution_count": 68,
   "id": "05737d8c",
   "metadata": {},
   "outputs": [],
   "source": [
    "data.drop(data.index[[630,663,1022]],inplace=True)\n"
   ]
  },
  {
   "cell_type": "code",
   "execution_count": 69,
   "id": "df771569",
   "metadata": {},
   "outputs": [
    {
     "data": {
      "text/plain": [
       "(1028, 9)"
      ]
     },
     "execution_count": 69,
     "metadata": {},
     "output_type": "execute_result"
    }
   ],
   "source": [
    "data.shape"
   ]
  },
  {
   "cell_type": "code",
   "execution_count": 70,
   "id": "cc4b384d",
   "metadata": {},
   "outputs": [],
   "source": [
    "data.reset_index(drop=True,inplace=True)"
   ]
  },
  {
   "cell_type": "code",
   "execution_count": 71,
   "id": "f9290e70",
   "metadata": {},
   "outputs": [
    {
     "data": {
      "text/plain": [
       "(1028, 9)"
      ]
     },
     "execution_count": 71,
     "metadata": {},
     "output_type": "execute_result"
    }
   ],
   "source": [
    "data.shape"
   ]
  },
  {
   "cell_type": "code",
   "execution_count": 72,
   "id": "ffb8214f",
   "metadata": {},
   "outputs": [
    {
     "data": {
      "text/plain": [
       "<AxesSubplot:>"
      ]
     },
     "execution_count": 72,
     "metadata": {},
     "output_type": "execute_result"
    },
    {
     "data": {
      "image/png": "[encoded data removed]",
      "text/plain": [
       "<Figure size 432x288 with 1 Axes>"
      ]
     },
     "metadata": {
      "needs_background": "light"
     },
     "output_type": "display_data"
    }
   ],
   "source": [
    "data.plot(kind='box')"
   ]
  },
  {
   "cell_type": "code",
   "execution_count": 73,
   "id": "2ab512db",
   "metadata": {},
   "outputs": [
    {
     "data": {
      "text/plain": [
       "<AxesSubplot:>"
      ]
     },
     "execution_count": 73,
     "metadata": {},
     "output_type": "execute_result"
    },
    {
     "data": {
      "image/png": "[encoded data removed]",
      "text/plain": [
       "<Figure size 432x288 with 1 Axes>"
      ]
     },
     "metadata": {
      "needs_background": "light"
     },
     "output_type": "display_data"
    }
   ],
   "source": [
    "data[\"gears\"].plot(kind='box')"
   ]
  },
  {
   "cell_type": "code",
   "execution_count": 74,
   "id": "2c92c91c",
   "metadata": {},
   "outputs": [],
   "source": [
    "#data.to_excel(\"ToyotaCrallo_cleaned_final.xlsx\")"
   ]
  },
  {
   "cell_type": "code",
   "execution_count": 75,
   "id": "c468dc87",
   "metadata": {},
   "outputs": [],
   "source": [
    "from sklearn.model_selection import train_test_split"
   ]
  },
  {
   "cell_type": "code",
   "execution_count": 76,
   "id": "c507441c",
   "metadata": {},
   "outputs": [
    {
     "data": {
      "text/html": [
       "<div>\n",
       "<style scoped>\n",
       "    .dataframe tbody tr th:only-of-type {\n",
       "        vertical-align: middle;\n",
       "    }\n",
       "\n",
       "    .dataframe tbody tr th {\n",
       "        vertical-align: top;\n",
       "    }\n",
       "\n",
       "    .dataframe thead th {\n",
       "        text-align: right;\n",
       "    }\n",
       "</style>\n",
       "<table border=\"1\" class=\"dataframe\">\n",
       "  <thead>\n",
       "    <tr style=\"text-align: right;\">\n",
       "      <th></th>\n",
       "      <th>price</th>\n",
       "      <th>age</th>\n",
       "      <th>km</th>\n",
       "      <th>hp</th>\n",
       "      <th>cc</th>\n",
       "      <th>doors</th>\n",
       "      <th>gears</th>\n",
       "      <th>tax</th>\n",
       "      <th>weight</th>\n",
       "    </tr>\n",
       "  </thead>\n",
       "  <tbody>\n",
       "    <tr>\n",
       "      <th>price</th>\n",
       "      <td>1.000000</td>\n",
       "      <td>-0.813032</td>\n",
       "      <td>-0.475843</td>\n",
       "      <td>0.221537</td>\n",
       "      <td>0.191060</td>\n",
       "      <td>0.223534</td>\n",
       "      <td>0.068630</td>\n",
       "      <td>0.333105</td>\n",
       "      <td>0.315905</td>\n",
       "    </tr>\n",
       "    <tr>\n",
       "      <th>age</th>\n",
       "      <td>-0.813032</td>\n",
       "      <td>1.000000</td>\n",
       "      <td>0.429697</td>\n",
       "      <td>-0.115284</td>\n",
       "      <td>-0.070639</td>\n",
       "      <td>-0.116152</td>\n",
       "      <td>0.010122</td>\n",
       "      <td>-0.168904</td>\n",
       "      <td>-0.130097</td>\n",
       "    </tr>\n",
       "    <tr>\n",
       "      <th>km</th>\n",
       "      <td>-0.475843</td>\n",
       "      <td>0.429697</td>\n",
       "      <td>1.000000</td>\n",
       "      <td>0.048256</td>\n",
       "      <td>0.068937</td>\n",
       "      <td>0.001240</td>\n",
       "      <td>0.032283</td>\n",
       "      <td>-0.016506</td>\n",
       "      <td>0.032329</td>\n",
       "    </tr>\n",
       "    <tr>\n",
       "      <th>hp</th>\n",
       "      <td>0.221537</td>\n",
       "      <td>-0.115284</td>\n",
       "      <td>0.048256</td>\n",
       "      <td>1.000000</td>\n",
       "      <td>0.994406</td>\n",
       "      <td>0.192052</td>\n",
       "      <td>0.092303</td>\n",
       "      <td>0.474046</td>\n",
       "      <td>0.681621</td>\n",
       "    </tr>\n",
       "    <tr>\n",
       "      <th>cc</th>\n",
       "      <td>0.191060</td>\n",
       "      <td>-0.070639</td>\n",
       "      <td>0.068937</td>\n",
       "      <td>0.994406</td>\n",
       "      <td>1.000000</td>\n",
       "      <td>0.192150</td>\n",
       "      <td>0.094582</td>\n",
       "      <td>0.470712</td>\n",
       "      <td>0.688094</td>\n",
       "    </tr>\n",
       "    <tr>\n",
       "      <th>doors</th>\n",
       "      <td>0.223534</td>\n",
       "      <td>-0.116152</td>\n",
       "      <td>0.001240</td>\n",
       "      <td>0.192052</td>\n",
       "      <td>0.192150</td>\n",
       "      <td>1.000000</td>\n",
       "      <td>-0.187679</td>\n",
       "      <td>0.618969</td>\n",
       "      <td>0.603131</td>\n",
       "    </tr>\n",
       "    <tr>\n",
       "      <th>gears</th>\n",
       "      <td>0.068630</td>\n",
       "      <td>0.010122</td>\n",
       "      <td>0.032283</td>\n",
       "      <td>0.092303</td>\n",
       "      <td>0.094582</td>\n",
       "      <td>-0.187679</td>\n",
       "      <td>1.000000</td>\n",
       "      <td>0.167218</td>\n",
       "      <td>0.078752</td>\n",
       "    </tr>\n",
       "    <tr>\n",
       "      <th>tax</th>\n",
       "      <td>0.333105</td>\n",
       "      <td>-0.168904</td>\n",
       "      <td>-0.016506</td>\n",
       "      <td>0.474046</td>\n",
       "      <td>0.470712</td>\n",
       "      <td>0.618969</td>\n",
       "      <td>0.167218</td>\n",
       "      <td>1.000000</td>\n",
       "      <td>0.843675</td>\n",
       "    </tr>\n",
       "    <tr>\n",
       "      <th>weight</th>\n",
       "      <td>0.315905</td>\n",
       "      <td>-0.130097</td>\n",
       "      <td>0.032329</td>\n",
       "      <td>0.681621</td>\n",
       "      <td>0.688094</td>\n",
       "      <td>0.603131</td>\n",
       "      <td>0.078752</td>\n",
       "      <td>0.843675</td>\n",
       "      <td>1.000000</td>\n",
       "    </tr>\n",
       "  </tbody>\n",
       "</table>\n",
       "</div>"
      ],
      "text/plain": [
       "           price       age        km        hp        cc     doors     gears  \\\n",
       "price   1.000000 -0.813032 -0.475843  0.221537  0.191060  0.223534  0.068630   \n",
       "age    -0.813032  1.000000  0.429697 -0.115284 -0.070639 -0.116152  0.010122   \n",
       "km     -0.475843  0.429697  1.000000  0.048256  0.068937  0.001240  0.032283   \n",
       "hp      0.221537 -0.115284  0.048256  1.000000  0.994406  0.192052  0.092303   \n",
       "cc      0.191060 -0.070639  0.068937  0.994406  1.000000  0.192150  0.094582   \n",
       "doors   0.223534 -0.116152  0.001240  0.192052  0.192150  1.000000 -0.187679   \n",
       "gears   0.068630  0.010122  0.032283  0.092303  0.094582 -0.187679  1.000000   \n",
       "tax     0.333105 -0.168904 -0.016506  0.474046  0.470712  0.618969  0.167218   \n",
       "weight  0.315905 -0.130097  0.032329  0.681621  0.688094  0.603131  0.078752   \n",
       "\n",
       "             tax    weight  \n",
       "price   0.333105  0.315905  \n",
       "age    -0.168904 -0.130097  \n",
       "km     -0.016506  0.032329  \n",
       "hp      0.474046  0.681621  \n",
       "cc      0.470712  0.688094  \n",
       "doors   0.618969  0.603131  \n",
       "gears   0.167218  0.078752  \n",
       "tax     1.000000  0.843675  \n",
       "weight  0.843675  1.000000  "
      ]
     },
     "execution_count": 76,
     "metadata": {},
     "output_type": "execute_result"
    }
   ],
   "source": [
    "data.corr()"
   ]
  },
  {
   "cell_type": "code",
   "execution_count": 77,
   "id": "0d01d952",
   "metadata": {},
   "outputs": [
    {
     "data": {
      "text/plain": [
       "<seaborn.axisgrid.PairGrid at 0x28b9c9b8940>"
      ]
     },
     "execution_count": 77,
     "metadata": {},
     "output_type": "execute_result"
    },
    {
     "data": {
      "image/png": "[encoded data removed]",
      "text/plain": [
       "<Figure size 1620x1620 with 90 Axes>"
      ]
     },
     "metadata": {
      "needs_background": "light"
     },
     "output_type": "display_data"
    }
   ],
   "source": [
    "sns.pairplot(data)"
   ]
  },
  {
   "cell_type": "code",
   "execution_count": 78,
   "id": "16b3e0a9",
   "metadata": {},
   "outputs": [],
   "source": [
    "x=data.iloc[:,[1,2,8]]\n",
    "y=data.iloc[:,[0]]"
   ]
  },
  {
   "cell_type": "code",
   "execution_count": 79,
   "id": "c8425748",
   "metadata": {},
   "outputs": [],
   "source": [
    "from sklearn.linear_model import LinearRegression"
   ]
  },
  {
   "cell_type": "code",
   "execution_count": 80,
   "id": "a6d5e3fb",
   "metadata": {},
   "outputs": [],
   "source": [
    "x_train,x_test,y_train,y_test=train_test_split(x,y, test_size=.30,random_state=9)"
   ]
  },
  {
   "cell_type": "code",
   "execution_count": 81,
   "id": "00a2b04c",
   "metadata": {},
   "outputs": [],
   "source": [
    "lr=LinearRegression()\n",
    "model=lr.fit(x_train,y_train)"
   ]
  },
  {
   "cell_type": "code",
   "execution_count": 82,
   "id": "ef563a50",
   "metadata": {},
   "outputs": [
    {
     "data": {
      "text/plain": [
       "0.7300743603618163"
      ]
     },
     "execution_count": 82,
     "metadata": {},
     "output_type": "execute_result"
    }
   ],
   "source": [
    "model.score(x_train,y_train)"
   ]
  },
  {
   "cell_type": "code",
   "execution_count": 83,
   "id": "64911f17",
   "metadata": {},
   "outputs": [
    {
     "data": {
      "text/plain": [
       "array([[-9.70359343e+01, -1.37436968e-02,  1.68924619e+01]])"
      ]
     },
     "execution_count": 83,
     "metadata": {},
     "output_type": "execute_result"
    }
   ],
   "source": [
    "model.coef_"
   ]
  },
  {
   "cell_type": "code",
   "execution_count": 84,
   "id": "2db3e2eb",
   "metadata": {},
   "outputs": [
    {
     "data": {
      "text/plain": [
       "array([-1194.82154938])"
      ]
     },
     "execution_count": 84,
     "metadata": {},
     "output_type": "execute_result"
    }
   ],
   "source": [
    "model.intercept_"
   ]
  },
  {
   "cell_type": "code",
   "execution_count": 85,
   "id": "cb2f3808",
   "metadata": {},
   "outputs": [],
   "source": [
    "prediction=model.predict(x_train)"
   ]
  },
  {
   "cell_type": "code",
   "execution_count": 86,
   "id": "fcc20421",
   "metadata": {},
   "outputs": [
    {
     "data": {
      "text/plain": [
       "0.73482368190555"
      ]
     },
     "execution_count": 86,
     "metadata": {},
     "output_type": "execute_result"
    }
   ],
   "source": [
    "model.score(x_test,y_test)"
   ]
  },
  {
   "cell_type": "code",
   "execution_count": 87,
   "id": "45959304",
   "metadata": {},
   "outputs": [
    {
     "data": {
      "text/html": [
       "<div>\n",
       "<style scoped>\n",
       "    .dataframe tbody tr th:only-of-type {\n",
       "        vertical-align: middle;\n",
       "    }\n",
       "\n",
       "    .dataframe tbody tr th {\n",
       "        vertical-align: top;\n",
       "    }\n",
       "\n",
       "    .dataframe thead th {\n",
       "        text-align: right;\n",
       "    }\n",
       "</style>\n",
       "<table border=\"1\" class=\"dataframe\">\n",
       "  <thead>\n",
       "    <tr style=\"text-align: right;\">\n",
       "      <th></th>\n",
       "      <th>price</th>\n",
       "      <th>age</th>\n",
       "      <th>km</th>\n",
       "      <th>hp</th>\n",
       "      <th>cc</th>\n",
       "      <th>doors</th>\n",
       "      <th>gears</th>\n",
       "      <th>tax</th>\n",
       "      <th>weight</th>\n",
       "    </tr>\n",
       "  </thead>\n",
       "  <tbody>\n",
       "    <tr>\n",
       "      <th>1023</th>\n",
       "      <td>8450</td>\n",
       "      <td>80</td>\n",
       "      <td>23000</td>\n",
       "      <td>86</td>\n",
       "      <td>1300</td>\n",
       "      <td>3</td>\n",
       "      <td>5</td>\n",
       "      <td>69</td>\n",
       "      <td>1015</td>\n",
       "    </tr>\n",
       "    <tr>\n",
       "      <th>1024</th>\n",
       "      <td>7500</td>\n",
       "      <td>69</td>\n",
       "      <td>20544</td>\n",
       "      <td>86</td>\n",
       "      <td>1300</td>\n",
       "      <td>3</td>\n",
       "      <td>5</td>\n",
       "      <td>69</td>\n",
       "      <td>1025</td>\n",
       "    </tr>\n",
       "    <tr>\n",
       "      <th>1025</th>\n",
       "      <td>10845</td>\n",
       "      <td>72</td>\n",
       "      <td>19000</td>\n",
       "      <td>86</td>\n",
       "      <td>1300</td>\n",
       "      <td>3</td>\n",
       "      <td>5</td>\n",
       "      <td>69</td>\n",
       "      <td>1015</td>\n",
       "    </tr>\n",
       "    <tr>\n",
       "      <th>1026</th>\n",
       "      <td>8500</td>\n",
       "      <td>71</td>\n",
       "      <td>17016</td>\n",
       "      <td>86</td>\n",
       "      <td>1300</td>\n",
       "      <td>3</td>\n",
       "      <td>5</td>\n",
       "      <td>69</td>\n",
       "      <td>1015</td>\n",
       "    </tr>\n",
       "    <tr>\n",
       "      <th>1027</th>\n",
       "      <td>7250</td>\n",
       "      <td>70</td>\n",
       "      <td>16916</td>\n",
       "      <td>86</td>\n",
       "      <td>1300</td>\n",
       "      <td>3</td>\n",
       "      <td>5</td>\n",
       "      <td>69</td>\n",
       "      <td>1015</td>\n",
       "    </tr>\n",
       "  </tbody>\n",
       "</table>\n",
       "</div>"
      ],
      "text/plain": [
       "      price  age     km  hp    cc  doors  gears  tax  weight\n",
       "1023   8450   80  23000  86  1300      3      5   69    1015\n",
       "1024   7500   69  20544  86  1300      3      5   69    1025\n",
       "1025  10845   72  19000  86  1300      3      5   69    1015\n",
       "1026   8500   71  17016  86  1300      3      5   69    1015\n",
       "1027   7250   70  16916  86  1300      3      5   69    1015"
      ]
     },
     "execution_count": 87,
     "metadata": {},
     "output_type": "execute_result"
    }
   ],
   "source": [
    "data.tail()"
   ]
  },
  {
   "cell_type": "code",
   "execution_count": 88,
   "id": "cb7893a9",
   "metadata": {},
   "outputs": [
    {
     "data": {
      "text/plain": [
       "0.7300743603618163"
      ]
     },
     "execution_count": 88,
     "metadata": {},
     "output_type": "execute_result"
    }
   ],
   "source": [
    "model.score(x_train,y_train)"
   ]
  },
  {
   "cell_type": "code",
   "execution_count": 89,
   "id": "3eefde65",
   "metadata": {},
   "outputs": [],
   "source": [
    "data1=pd.DataFrame({'Age_08_04':80,'KM':23000,'Weight':1015},index=[1])"
   ]
  },
  {
   "cell_type": "code",
   "execution_count": 90,
   "id": "562d4352",
   "metadata": {},
   "outputs": [
    {
     "data": {
      "text/html": [
       "<div>\n",
       "<style scoped>\n",
       "    .dataframe tbody tr th:only-of-type {\n",
       "        vertical-align: middle;\n",
       "    }\n",
       "\n",
       "    .dataframe tbody tr th {\n",
       "        vertical-align: top;\n",
       "    }\n",
       "\n",
       "    .dataframe thead th {\n",
       "        text-align: right;\n",
       "    }\n",
       "</style>\n",
       "<table border=\"1\" class=\"dataframe\">\n",
       "  <thead>\n",
       "    <tr style=\"text-align: right;\">\n",
       "      <th></th>\n",
       "      <th>Age_08_04</th>\n",
       "      <th>KM</th>\n",
       "      <th>Weight</th>\n",
       "    </tr>\n",
       "  </thead>\n",
       "  <tbody>\n",
       "    <tr>\n",
       "      <th>1</th>\n",
       "      <td>80</td>\n",
       "      <td>23000</td>\n",
       "      <td>1015</td>\n",
       "    </tr>\n",
       "  </tbody>\n",
       "</table>\n",
       "</div>"
      ],
      "text/plain": [
       "   Age_08_04     KM  Weight\n",
       "1         80  23000    1015"
      ]
     },
     "execution_count": 90,
     "metadata": {},
     "output_type": "execute_result"
    }
   ],
   "source": [
    "data1"
   ]
  },
  {
   "cell_type": "code",
   "execution_count": 91,
   "id": "79142021",
   "metadata": {},
   "outputs": [
    {
     "data": {
      "text/plain": [
       "array([[7872.04751937]])"
      ]
     },
     "execution_count": 91,
     "metadata": {},
     "output_type": "execute_result"
    }
   ],
   "source": [
    "model.predict(data1)"
   ]
  },
  {
   "cell_type": "code",
   "execution_count": 92,
   "id": "d5833569",
   "metadata": {},
   "outputs": [],
   "source": [
    "import joblib"
   ]
  },
  {
   "cell_type": "code",
   "execution_count": 93,
   "id": "718528eb",
   "metadata": {},
   "outputs": [
    {
     "data": {
      "text/plain": [
       "['ToyotaCorallo.pkl']"
      ]
     },
     "execution_count": 93,
     "metadata": {},
     "output_type": "execute_result"
    }
   ],
   "source": [
    "joblib.dump(model,'ToyotaCorallo.pkl')"
   ]
  },
  {
   "cell_type": "markdown",
   "id": "1725ce49",
   "metadata": {},
   "source": [
    "# Using Ridge"
   ]
  },
  {
   "cell_type": "code",
   "execution_count": 94,
   "id": "264a2d68",
   "metadata": {},
   "outputs": [],
   "source": [
    "from sklearn.linear_model import Lasso,Ridge,ElasticNet\n",
    "from sklearn.metrics import mean_squared_error"
   ]
  },
  {
   "cell_type": "code",
   "execution_count": 95,
   "id": "ff7df38b",
   "metadata": {},
   "outputs": [],
   "source": [
    "r=Ridge(alpha=2)\n",
    "model=r.fit(x_train,y_train)"
   ]
  },
  {
   "cell_type": "code",
   "execution_count": 96,
   "id": "617875a6",
   "metadata": {},
   "outputs": [
    {
     "data": {
      "text/plain": [
       "0.7300743601817774"
      ]
     },
     "execution_count": 96,
     "metadata": {},
     "output_type": "execute_result"
    }
   ],
   "source": [
    "model.score(x_train,y_train)"
   ]
  },
  {
   "cell_type": "code",
   "execution_count": 97,
   "id": "a659aa7b",
   "metadata": {},
   "outputs": [],
   "source": [
    "y_pred=model.predict(x_test)"
   ]
  },
  {
   "cell_type": "code",
   "execution_count": 98,
   "id": "869fc779",
   "metadata": {},
   "outputs": [
    {
     "data": {
      "text/plain": [
       "0.7348231317505796"
      ]
     },
     "execution_count": 98,
     "metadata": {},
     "output_type": "execute_result"
    }
   ],
   "source": [
    "model.score(x_test,y_test)"
   ]
  },
  {
   "cell_type": "code",
   "execution_count": 99,
   "id": "26e19c62",
   "metadata": {},
   "outputs": [
    {
     "data": {
      "text/plain": [
       "892322.9331118142"
      ]
     },
     "execution_count": 99,
     "metadata": {},
     "output_type": "execute_result"
    }
   ],
   "source": [
    "mean_squared_error(y_pred,y_test)"
   ]
  },
  {
   "cell_type": "code",
   "execution_count": 100,
   "id": "70ab438e",
   "metadata": {},
   "outputs": [
    {
     "data": {
      "text/plain": [
       "array([[-9.70338643e+01, -1.37441143e-02,  1.68925441e+01]])"
      ]
     },
     "execution_count": 100,
     "metadata": {},
     "output_type": "execute_result"
    }
   ],
   "source": [
    "model.coef_"
   ]
  },
  {
   "cell_type": "markdown",
   "id": "f81c8253",
   "metadata": {},
   "source": [
    "# Now we use lasso"
   ]
  },
  {
   "cell_type": "code",
   "execution_count": 101,
   "id": "315a7dfd",
   "metadata": {},
   "outputs": [],
   "source": [
    "r=Lasso(alpha=2)\n",
    "model=r.fit(x_train,y_train)"
   ]
  },
  {
   "cell_type": "code",
   "execution_count": 102,
   "id": "0594ad5c",
   "metadata": {},
   "outputs": [
    {
     "data": {
      "text/plain": [
       "0.7300743495160493"
      ]
     },
     "execution_count": 102,
     "metadata": {},
     "output_type": "execute_result"
    }
   ],
   "source": [
    "model.score(x_train,y_train)"
   ]
  },
  {
   "cell_type": "code",
   "execution_count": 103,
   "id": "a249e812",
   "metadata": {},
   "outputs": [],
   "source": [
    "y_pred=model.predict(x_test)"
   ]
  },
  {
   "cell_type": "code",
   "execution_count": 104,
   "id": "6d2b06f2",
   "metadata": {},
   "outputs": [
    {
     "data": {
      "text/plain": [
       "892343.1065867376"
      ]
     },
     "execution_count": 104,
     "metadata": {},
     "output_type": "execute_result"
    }
   ],
   "source": [
    "mean_squared_error(y_pred,y_test)"
   ]
  },
  {
   "cell_type": "code",
   "execution_count": 105,
   "id": "e5fbc002",
   "metadata": {},
   "outputs": [],
   "source": [
    "ela=ElasticNet(alpha=4,l1_ratio=0.1)\n",
    "model=ela.fit(x_train,y_train)"
   ]
  },
  {
   "cell_type": "code",
   "execution_count": 106,
   "id": "bdc1a7eb",
   "metadata": {},
   "outputs": [
    {
     "data": {
      "text/plain": [
       "0.7297882677904073"
      ]
     },
     "execution_count": 106,
     "metadata": {},
     "output_type": "execute_result"
    }
   ],
   "source": [
    "model.score(x_train,y_train)"
   ]
  },
  {
   "cell_type": "code",
   "execution_count": 107,
   "id": "902b7a99",
   "metadata": {},
   "outputs": [],
   "source": [
    "y_pred=model.predict(x_test)"
   ]
  },
  {
   "cell_type": "code",
   "execution_count": 108,
   "id": "8e41b6e7",
   "metadata": {},
   "outputs": [
    {
     "data": {
      "text/plain": [
       "895596.3584030444"
      ]
     },
     "execution_count": 108,
     "metadata": {},
     "output_type": "execute_result"
    }
   ],
   "source": [
    "mean_squared_error(y_pred,y_test)"
   ]
  },
  {
   "cell_type": "code",
   "execution_count": null,
   "id": "9ef2c0fc",
   "metadata": {},
   "outputs": [],
   "source": []
  }
 ],
 "metadata": {
  "kernelspec": {
   "display_name": "Python 3 (ipykernel)",
   "language": "python",
   "name": "python3"
  },
  "language_info": {
   "codemirror_mode": {
    "name": "ipython",
    "version": 3
   },
   "file_extension": ".py",
   "mimetype": "text/x-python",
   "name": "python",
   "nbconvert_exporter": "python",
   "pygments_lexer": "ipython3",
   "version": "3.9.12"
  }
 },
 "nbformat": 4,
 "nbformat_minor": 5
}
