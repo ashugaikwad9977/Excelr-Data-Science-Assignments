{
 "cells": [
  {
   "cell_type": "code",
   "execution_count": 142,
   "id": "8bdc7407",
   "metadata": {},
   "outputs": [],
   "source": [
    "import pandas as pd\n",
    "import numpy as np\n",
    "from statsmodels.graphics.tsaplots import plot_predict"
   ]
  },
  {
   "cell_type": "code",
   "execution_count": 143,
   "id": "24174abb",
   "metadata": {},
   "outputs": [],
   "source": [
    "data=pd.read_excel('Airlines+Data.xlsx',header=0,engine='openpyxl', parse_dates=True,index_col=0)"
   ]
  },
  {
   "cell_type": "code",
   "execution_count": 144,
   "id": "80482e80",
   "metadata": {},
   "outputs": [
    {
     "data": {
      "text/html": [
       "<div>\n",
       "<style scoped>\n",
       "    .dataframe tbody tr th:only-of-type {\n",
       "        vertical-align: middle;\n",
       "    }\n",
       "\n",
       "    .dataframe tbody tr th {\n",
       "        vertical-align: top;\n",
       "    }\n",
       "\n",
       "    .dataframe thead th {\n",
       "        text-align: right;\n",
       "    }\n",
       "</style>\n",
       "<table border=\"1\" class=\"dataframe\">\n",
       "  <thead>\n",
       "    <tr style=\"text-align: right;\">\n",
       "      <th></th>\n",
       "      <th>Passengers</th>\n",
       "    </tr>\n",
       "    <tr>\n",
       "      <th>Month</th>\n",
       "      <th></th>\n",
       "    </tr>\n",
       "  </thead>\n",
       "  <tbody>\n",
       "    <tr>\n",
       "      <th>1995-01-01</th>\n",
       "      <td>112</td>\n",
       "    </tr>\n",
       "    <tr>\n",
       "      <th>1995-02-01</th>\n",
       "      <td>118</td>\n",
       "    </tr>\n",
       "    <tr>\n",
       "      <th>1995-03-01</th>\n",
       "      <td>132</td>\n",
       "    </tr>\n",
       "    <tr>\n",
       "      <th>1995-04-01</th>\n",
       "      <td>129</td>\n",
       "    </tr>\n",
       "    <tr>\n",
       "      <th>1995-05-01</th>\n",
       "      <td>121</td>\n",
       "    </tr>\n",
       "  </tbody>\n",
       "</table>\n",
       "</div>"
      ],
      "text/plain": [
       "            Passengers\n",
       "Month                 \n",
       "1995-01-01         112\n",
       "1995-02-01         118\n",
       "1995-03-01         132\n",
       "1995-04-01         129\n",
       "1995-05-01         121"
      ]
     },
     "execution_count": 144,
     "metadata": {},
     "output_type": "execute_result"
    }
   ],
   "source": [
    "data.head()"
   ]
  },
  {
   "cell_type": "code",
   "execution_count": 145,
   "id": "0daaef52",
   "metadata": {},
   "outputs": [
    {
     "data": {
      "text/plain": [
       "(96, 1)"
      ]
     },
     "execution_count": 145,
     "metadata": {},
     "output_type": "execute_result"
    }
   ],
   "source": [
    "data.shape"
   ]
  },
  {
   "cell_type": "code",
   "execution_count": 146,
   "id": "bacf3593",
   "metadata": {},
   "outputs": [
    {
     "data": {
      "text/html": [
       "<div>\n",
       "<style scoped>\n",
       "    .dataframe tbody tr th:only-of-type {\n",
       "        vertical-align: middle;\n",
       "    }\n",
       "\n",
       "    .dataframe tbody tr th {\n",
       "        vertical-align: top;\n",
       "    }\n",
       "\n",
       "    .dataframe thead th {\n",
       "        text-align: right;\n",
       "    }\n",
       "</style>\n",
       "<table border=\"1\" class=\"dataframe\">\n",
       "  <thead>\n",
       "    <tr style=\"text-align: right;\">\n",
       "      <th></th>\n",
       "      <th>Passengers</th>\n",
       "    </tr>\n",
       "    <tr>\n",
       "      <th>Month</th>\n",
       "      <th></th>\n",
       "    </tr>\n",
       "  </thead>\n",
       "  <tbody>\n",
       "    <tr>\n",
       "      <th>2002-08-01</th>\n",
       "      <td>405</td>\n",
       "    </tr>\n",
       "    <tr>\n",
       "      <th>2002-09-01</th>\n",
       "      <td>355</td>\n",
       "    </tr>\n",
       "    <tr>\n",
       "      <th>2002-10-01</th>\n",
       "      <td>306</td>\n",
       "    </tr>\n",
       "    <tr>\n",
       "      <th>2002-11-01</th>\n",
       "      <td>271</td>\n",
       "    </tr>\n",
       "    <tr>\n",
       "      <th>2002-12-01</th>\n",
       "      <td>306</td>\n",
       "    </tr>\n",
       "  </tbody>\n",
       "</table>\n",
       "</div>"
      ],
      "text/plain": [
       "            Passengers\n",
       "Month                 \n",
       "2002-08-01         405\n",
       "2002-09-01         355\n",
       "2002-10-01         306\n",
       "2002-11-01         271\n",
       "2002-12-01         306"
      ]
     },
     "execution_count": 146,
     "metadata": {},
     "output_type": "execute_result"
    }
   ],
   "source": [
    "data.tail()"
   ]
  },
  {
   "cell_type": "code",
   "execution_count": 147,
   "id": "b09febe1",
   "metadata": {},
   "outputs": [
    {
     "data": {
      "text/plain": [
       "Passengers    0\n",
       "dtype: int64"
      ]
     },
     "execution_count": 147,
     "metadata": {},
     "output_type": "execute_result"
    }
   ],
   "source": [
    "data.isna().sum()"
   ]
  },
  {
   "cell_type": "code",
   "execution_count": 148,
   "id": "d46c2590",
   "metadata": {},
   "outputs": [
    {
     "data": {
      "text/plain": [
       "16"
      ]
     },
     "execution_count": 148,
     "metadata": {},
     "output_type": "execute_result"
    }
   ],
   "source": [
    "data.duplicated().sum()"
   ]
  },
  {
   "cell_type": "code",
   "execution_count": 149,
   "id": "e98b1e2c",
   "metadata": {},
   "outputs": [],
   "source": [
    "import matplotlib.pyplot as plt"
   ]
  },
  {
   "cell_type": "code",
   "execution_count": 150,
   "id": "3d5ce179",
   "metadata": {},
   "outputs": [
    {
     "data": {
      "image/png": "[encoded data removed]",
      "text/plain": [
       "<Figure size 432x288 with 1 Axes>"
      ]
     },
     "metadata": {
      "needs_background": "light"
     },
     "output_type": "display_data"
    }
   ],
   "source": [
    "data.plot()\n",
    "plt.show()"
   ]
  },
  {
   "cell_type": "code",
   "execution_count": 151,
   "id": "164f1899",
   "metadata": {},
   "outputs": [],
   "source": [
    "# its show the the multiplicative seasonality in upward trend, it means the passengers are increasing \n",
    "# and so the trend is upward with multiplicative seasonality the model we will apply is multiplicative seasonal"
   ]
  },
  {
   "cell_type": "code",
   "execution_count": 152,
   "id": "45d89a2e",
   "metadata": {},
   "outputs": [],
   "source": [
    "from pandas.plotting import lag_plot"
   ]
  },
  {
   "cell_type": "code",
   "execution_count": 153,
   "id": "d052ac3b",
   "metadata": {},
   "outputs": [
    {
     "data": {
      "text/plain": [
       "<AxesSubplot:xlabel='y(t)', ylabel='y(t + 1)'>"
      ]
     },
     "execution_count": 153,
     "metadata": {},
     "output_type": "execute_result"
    },
    {
     "data": {
      "image/png": "[encoded data removed]",
      "text/plain": [
       "<Figure size 432x288 with 1 Axes>"
      ]
     },
     "metadata": {
      "needs_background": "light"
     },
     "output_type": "display_data"
    }
   ],
   "source": [
    "lag_plot(data)"
   ]
  },
  {
   "cell_type": "code",
   "execution_count": 154,
   "id": "1052a30c",
   "metadata": {},
   "outputs": [
    {
     "data": {
      "text/plain": [
       "array([[<AxesSubplot:title={'center':'Passengers'}>]], dtype=object)"
      ]
     },
     "execution_count": 154,
     "metadata": {},
     "output_type": "execute_result"
    },
    {
     "data": {
      "image/png": "[encoded data removed]",
      "text/plain": [
       "<Figure size 432x288 with 1 Axes>"
      ]
     },
     "metadata": {
      "needs_background": "light"
     },
     "output_type": "display_data"
    }
   ],
   "source": [
    "data.hist()"
   ]
  },
  {
   "cell_type": "code",
   "execution_count": 155,
   "id": "ffbb4dea",
   "metadata": {},
   "outputs": [
    {
     "data": {
      "text/plain": [
       "<AxesSubplot:ylabel='Density'>"
      ]
     },
     "execution_count": 155,
     "metadata": {},
     "output_type": "execute_result"
    },
    {
     "data": {
      "image/png": "[encoded data removed]",
      "text/plain": [
       "<Figure size 432x288 with 1 Axes>"
      ]
     },
     "metadata": {
      "needs_background": "light"
     },
     "output_type": "display_data"
    }
   ],
   "source": [
    "data.plot(kind='kde')"
   ]
  },
  {
   "cell_type": "code",
   "execution_count": 156,
   "id": "c982e822",
   "metadata": {},
   "outputs": [],
   "source": [
    "data1=pd.read_excel('Airlines+Data.xlsx',engine='openpyxl')"
   ]
  },
  {
   "cell_type": "code",
   "execution_count": 157,
   "id": "cb6f62e4",
   "metadata": {},
   "outputs": [
    {
     "name": "stdout",
     "output_type": "stream",
     "text": [
      "<class 'pandas.core.frame.DataFrame'>\n",
      "RangeIndex: 96 entries, 0 to 95\n",
      "Data columns (total 2 columns):\n",
      " #   Column      Non-Null Count  Dtype         \n",
      "---  ------      --------------  -----         \n",
      " 0   Month       96 non-null     datetime64[ns]\n",
      " 1   Passengers  96 non-null     int64         \n",
      "dtypes: datetime64[ns](1), int64(1)\n",
      "memory usage: 1.6 KB\n"
     ]
    }
   ],
   "source": [
    "data1.info()"
   ]
  },
  {
   "cell_type": "code",
   "execution_count": 158,
   "id": "8f8103d1",
   "metadata": {},
   "outputs": [
    {
     "data": {
      "text/plain": [
       "0"
      ]
     },
     "execution_count": 158,
     "metadata": {},
     "output_type": "execute_result"
    }
   ],
   "source": [
    "data1.duplicated().sum()"
   ]
  },
  {
   "cell_type": "code",
   "execution_count": 159,
   "id": "15ba8516",
   "metadata": {},
   "outputs": [],
   "source": [
    "data1['Month']=data1['Month'].apply(lambda x:pd.to_datetime(x,format='%b-%y').strftime('%b-%y'))"
   ]
  },
  {
   "cell_type": "code",
   "execution_count": 160,
   "id": "f52bd52c",
   "metadata": {},
   "outputs": [
    {
     "data": {
      "text/html": [
       "<div>\n",
       "<style scoped>\n",
       "    .dataframe tbody tr th:only-of-type {\n",
       "        vertical-align: middle;\n",
       "    }\n",
       "\n",
       "    .dataframe tbody tr th {\n",
       "        vertical-align: top;\n",
       "    }\n",
       "\n",
       "    .dataframe thead th {\n",
       "        text-align: right;\n",
       "    }\n",
       "</style>\n",
       "<table border=\"1\" class=\"dataframe\">\n",
       "  <thead>\n",
       "    <tr style=\"text-align: right;\">\n",
       "      <th></th>\n",
       "      <th>Month</th>\n",
       "      <th>Passengers</th>\n",
       "    </tr>\n",
       "  </thead>\n",
       "  <tbody>\n",
       "    <tr>\n",
       "      <th>0</th>\n",
       "      <td>Jan-95</td>\n",
       "      <td>112</td>\n",
       "    </tr>\n",
       "    <tr>\n",
       "      <th>1</th>\n",
       "      <td>Feb-95</td>\n",
       "      <td>118</td>\n",
       "    </tr>\n",
       "    <tr>\n",
       "      <th>2</th>\n",
       "      <td>Mar-95</td>\n",
       "      <td>132</td>\n",
       "    </tr>\n",
       "    <tr>\n",
       "      <th>3</th>\n",
       "      <td>Apr-95</td>\n",
       "      <td>129</td>\n",
       "    </tr>\n",
       "    <tr>\n",
       "      <th>4</th>\n",
       "      <td>May-95</td>\n",
       "      <td>121</td>\n",
       "    </tr>\n",
       "  </tbody>\n",
       "</table>\n",
       "</div>"
      ],
      "text/plain": [
       "    Month  Passengers\n",
       "0  Jan-95         112\n",
       "1  Feb-95         118\n",
       "2  Mar-95         132\n",
       "3  Apr-95         129\n",
       "4  May-95         121"
      ]
     },
     "execution_count": 160,
     "metadata": {},
     "output_type": "execute_result"
    }
   ],
   "source": [
    "data1.head()"
   ]
  },
  {
   "cell_type": "code",
   "execution_count": 161,
   "id": "91381f1d",
   "metadata": {},
   "outputs": [
    {
     "data": {
      "text/plain": [
       "'Feb'"
      ]
     },
     "execution_count": 161,
     "metadata": {},
     "output_type": "execute_result"
    }
   ],
   "source": [
    "x=data1['Month'][1]\n",
    "p=x[0:3]\n",
    "p"
   ]
  },
  {
   "cell_type": "code",
   "execution_count": 162,
   "id": "e65ac833",
   "metadata": {},
   "outputs": [],
   "source": [
    "months=[]\n",
    "for i in range(0,96):\n",
    "    x=data1['Month'][i]\n",
    "    p=x[0:3]\n",
    "    months.append(p)"
   ]
  },
  {
   "cell_type": "code",
   "execution_count": 163,
   "id": "f5a2a8c9",
   "metadata": {},
   "outputs": [],
   "source": [
    "# in this we add another t name column for total months coz the smf or any models dont work on datetime datatype values\n",
    "t=[]\n",
    "for i in range(0,len(data1['Passengers'])):\n",
    "    count=i+1\n",
    "    t.append(count)"
   ]
  },
  {
   "cell_type": "code",
   "execution_count": 164,
   "id": "14cc9028",
   "metadata": {},
   "outputs": [
    {
     "data": {
      "text/html": [
       "<div>\n",
       "<style scoped>\n",
       "    .dataframe tbody tr th:only-of-type {\n",
       "        vertical-align: middle;\n",
       "    }\n",
       "\n",
       "    .dataframe tbody tr th {\n",
       "        vertical-align: top;\n",
       "    }\n",
       "\n",
       "    .dataframe thead th {\n",
       "        text-align: right;\n",
       "    }\n",
       "</style>\n",
       "<table border=\"1\" class=\"dataframe\">\n",
       "  <thead>\n",
       "    <tr style=\"text-align: right;\">\n",
       "      <th></th>\n",
       "      <th>Month</th>\n",
       "      <th>Passengers</th>\n",
       "      <th>t</th>\n",
       "    </tr>\n",
       "  </thead>\n",
       "  <tbody>\n",
       "    <tr>\n",
       "      <th>0</th>\n",
       "      <td>Jan-95</td>\n",
       "      <td>112</td>\n",
       "      <td>1</td>\n",
       "    </tr>\n",
       "    <tr>\n",
       "      <th>1</th>\n",
       "      <td>Feb-95</td>\n",
       "      <td>118</td>\n",
       "      <td>2</td>\n",
       "    </tr>\n",
       "    <tr>\n",
       "      <th>2</th>\n",
       "      <td>Mar-95</td>\n",
       "      <td>132</td>\n",
       "      <td>3</td>\n",
       "    </tr>\n",
       "    <tr>\n",
       "      <th>3</th>\n",
       "      <td>Apr-95</td>\n",
       "      <td>129</td>\n",
       "      <td>4</td>\n",
       "    </tr>\n",
       "    <tr>\n",
       "      <th>4</th>\n",
       "      <td>May-95</td>\n",
       "      <td>121</td>\n",
       "      <td>5</td>\n",
       "    </tr>\n",
       "    <tr>\n",
       "      <th>...</th>\n",
       "      <td>...</td>\n",
       "      <td>...</td>\n",
       "      <td>...</td>\n",
       "    </tr>\n",
       "    <tr>\n",
       "      <th>91</th>\n",
       "      <td>Aug-02</td>\n",
       "      <td>405</td>\n",
       "      <td>92</td>\n",
       "    </tr>\n",
       "    <tr>\n",
       "      <th>92</th>\n",
       "      <td>Sep-02</td>\n",
       "      <td>355</td>\n",
       "      <td>93</td>\n",
       "    </tr>\n",
       "    <tr>\n",
       "      <th>93</th>\n",
       "      <td>Oct-02</td>\n",
       "      <td>306</td>\n",
       "      <td>94</td>\n",
       "    </tr>\n",
       "    <tr>\n",
       "      <th>94</th>\n",
       "      <td>Nov-02</td>\n",
       "      <td>271</td>\n",
       "      <td>95</td>\n",
       "    </tr>\n",
       "    <tr>\n",
       "      <th>95</th>\n",
       "      <td>Dec-02</td>\n",
       "      <td>306</td>\n",
       "      <td>96</td>\n",
       "    </tr>\n",
       "  </tbody>\n",
       "</table>\n",
       "<p>96 rows × 3 columns</p>\n",
       "</div>"
      ],
      "text/plain": [
       "     Month  Passengers   t\n",
       "0   Jan-95         112   1\n",
       "1   Feb-95         118   2\n",
       "2   Mar-95         132   3\n",
       "3   Apr-95         129   4\n",
       "4   May-95         121   5\n",
       "..     ...         ...  ..\n",
       "91  Aug-02         405  92\n",
       "92  Sep-02         355  93\n",
       "93  Oct-02         306  94\n",
       "94  Nov-02         271  95\n",
       "95  Dec-02         306  96\n",
       "\n",
       "[96 rows x 3 columns]"
      ]
     },
     "execution_count": 164,
     "metadata": {},
     "output_type": "execute_result"
    }
   ],
   "source": [
    "data1['t']=t\n",
    "data1"
   ]
  },
  {
   "cell_type": "code",
   "execution_count": 165,
   "id": "7f11228d",
   "metadata": {},
   "outputs": [],
   "source": [
    "data1['months']=months"
   ]
  },
  {
   "cell_type": "code",
   "execution_count": 166,
   "id": "2e8b1a68",
   "metadata": {},
   "outputs": [],
   "source": [
    "# we add tow features log and sqrt of passengers columns\n",
    "data1['log']=np.log(data1['Passengers'])\n",
    "data1['sqrt']=np.sqrt(data1['Passengers'])"
   ]
  },
  {
   "cell_type": "code",
   "execution_count": 167,
   "id": "da4f7df4",
   "metadata": {},
   "outputs": [
    {
     "data": {
      "text/html": [
       "<div>\n",
       "<style scoped>\n",
       "    .dataframe tbody tr th:only-of-type {\n",
       "        vertical-align: middle;\n",
       "    }\n",
       "\n",
       "    .dataframe tbody tr th {\n",
       "        vertical-align: top;\n",
       "    }\n",
       "\n",
       "    .dataframe thead th {\n",
       "        text-align: right;\n",
       "    }\n",
       "</style>\n",
       "<table border=\"1\" class=\"dataframe\">\n",
       "  <thead>\n",
       "    <tr style=\"text-align: right;\">\n",
       "      <th></th>\n",
       "      <th>Month</th>\n",
       "      <th>Passengers</th>\n",
       "      <th>t</th>\n",
       "      <th>months</th>\n",
       "      <th>log</th>\n",
       "      <th>sqrt</th>\n",
       "    </tr>\n",
       "  </thead>\n",
       "  <tbody>\n",
       "    <tr>\n",
       "      <th>0</th>\n",
       "      <td>Jan-95</td>\n",
       "      <td>112</td>\n",
       "      <td>1</td>\n",
       "      <td>Jan</td>\n",
       "      <td>4.718499</td>\n",
       "      <td>10.583005</td>\n",
       "    </tr>\n",
       "    <tr>\n",
       "      <th>1</th>\n",
       "      <td>Feb-95</td>\n",
       "      <td>118</td>\n",
       "      <td>2</td>\n",
       "      <td>Feb</td>\n",
       "      <td>4.770685</td>\n",
       "      <td>10.862780</td>\n",
       "    </tr>\n",
       "    <tr>\n",
       "      <th>2</th>\n",
       "      <td>Mar-95</td>\n",
       "      <td>132</td>\n",
       "      <td>3</td>\n",
       "      <td>Mar</td>\n",
       "      <td>4.882802</td>\n",
       "      <td>11.489125</td>\n",
       "    </tr>\n",
       "    <tr>\n",
       "      <th>3</th>\n",
       "      <td>Apr-95</td>\n",
       "      <td>129</td>\n",
       "      <td>4</td>\n",
       "      <td>Apr</td>\n",
       "      <td>4.859812</td>\n",
       "      <td>11.357817</td>\n",
       "    </tr>\n",
       "    <tr>\n",
       "      <th>4</th>\n",
       "      <td>May-95</td>\n",
       "      <td>121</td>\n",
       "      <td>5</td>\n",
       "      <td>May</td>\n",
       "      <td>4.795791</td>\n",
       "      <td>11.000000</td>\n",
       "    </tr>\n",
       "  </tbody>\n",
       "</table>\n",
       "</div>"
      ],
      "text/plain": [
       "    Month  Passengers  t months       log       sqrt\n",
       "0  Jan-95         112  1    Jan  4.718499  10.583005\n",
       "1  Feb-95         118  2    Feb  4.770685  10.862780\n",
       "2  Mar-95         132  3    Mar  4.882802  11.489125\n",
       "3  Apr-95         129  4    Apr  4.859812  11.357817\n",
       "4  May-95         121  5    May  4.795791  11.000000"
      ]
     },
     "execution_count": 167,
     "metadata": {},
     "output_type": "execute_result"
    }
   ],
   "source": [
    "data1.head()"
   ]
  },
  {
   "cell_type": "code",
   "execution_count": 168,
   "id": "e041fadb",
   "metadata": {},
   "outputs": [],
   "source": [
    "dummy_months=pd.DataFrame(pd.get_dummies(data1[['months']]))"
   ]
  },
  {
   "cell_type": "code",
   "execution_count": 169,
   "id": "5e6d5259",
   "metadata": {},
   "outputs": [],
   "source": [
    "data1=pd.concat([data1,dummy_months],axis=1)"
   ]
  },
  {
   "cell_type": "code",
   "execution_count": 170,
   "id": "1d6d412a",
   "metadata": {},
   "outputs": [
    {
     "data": {
      "text/html": [
       "<div>\n",
       "<style scoped>\n",
       "    .dataframe tbody tr th:only-of-type {\n",
       "        vertical-align: middle;\n",
       "    }\n",
       "\n",
       "    .dataframe tbody tr th {\n",
       "        vertical-align: top;\n",
       "    }\n",
       "\n",
       "    .dataframe thead th {\n",
       "        text-align: right;\n",
       "    }\n",
       "</style>\n",
       "<table border=\"1\" class=\"dataframe\">\n",
       "  <thead>\n",
       "    <tr style=\"text-align: right;\">\n",
       "      <th></th>\n",
       "      <th>Month</th>\n",
       "      <th>Passengers</th>\n",
       "      <th>t</th>\n",
       "      <th>months</th>\n",
       "      <th>log</th>\n",
       "      <th>sqrt</th>\n",
       "      <th>months_Apr</th>\n",
       "      <th>months_Aug</th>\n",
       "      <th>months_Dec</th>\n",
       "      <th>months_Feb</th>\n",
       "      <th>months_Jan</th>\n",
       "      <th>months_Jul</th>\n",
       "      <th>months_Jun</th>\n",
       "      <th>months_Mar</th>\n",
       "      <th>months_May</th>\n",
       "      <th>months_Nov</th>\n",
       "      <th>months_Oct</th>\n",
       "      <th>months_Sep</th>\n",
       "    </tr>\n",
       "  </thead>\n",
       "  <tbody>\n",
       "    <tr>\n",
       "      <th>0</th>\n",
       "      <td>Jan-95</td>\n",
       "      <td>112</td>\n",
       "      <td>1</td>\n",
       "      <td>Jan</td>\n",
       "      <td>4.718499</td>\n",
       "      <td>10.583005</td>\n",
       "      <td>0</td>\n",
       "      <td>0</td>\n",
       "      <td>0</td>\n",
       "      <td>0</td>\n",
       "      <td>1</td>\n",
       "      <td>0</td>\n",
       "      <td>0</td>\n",
       "      <td>0</td>\n",
       "      <td>0</td>\n",
       "      <td>0</td>\n",
       "      <td>0</td>\n",
       "      <td>0</td>\n",
       "    </tr>\n",
       "    <tr>\n",
       "      <th>1</th>\n",
       "      <td>Feb-95</td>\n",
       "      <td>118</td>\n",
       "      <td>2</td>\n",
       "      <td>Feb</td>\n",
       "      <td>4.770685</td>\n",
       "      <td>10.862780</td>\n",
       "      <td>0</td>\n",
       "      <td>0</td>\n",
       "      <td>0</td>\n",
       "      <td>1</td>\n",
       "      <td>0</td>\n",
       "      <td>0</td>\n",
       "      <td>0</td>\n",
       "      <td>0</td>\n",
       "      <td>0</td>\n",
       "      <td>0</td>\n",
       "      <td>0</td>\n",
       "      <td>0</td>\n",
       "    </tr>\n",
       "    <tr>\n",
       "      <th>2</th>\n",
       "      <td>Mar-95</td>\n",
       "      <td>132</td>\n",
       "      <td>3</td>\n",
       "      <td>Mar</td>\n",
       "      <td>4.882802</td>\n",
       "      <td>11.489125</td>\n",
       "      <td>0</td>\n",
       "      <td>0</td>\n",
       "      <td>0</td>\n",
       "      <td>0</td>\n",
       "      <td>0</td>\n",
       "      <td>0</td>\n",
       "      <td>0</td>\n",
       "      <td>1</td>\n",
       "      <td>0</td>\n",
       "      <td>0</td>\n",
       "      <td>0</td>\n",
       "      <td>0</td>\n",
       "    </tr>\n",
       "    <tr>\n",
       "      <th>3</th>\n",
       "      <td>Apr-95</td>\n",
       "      <td>129</td>\n",
       "      <td>4</td>\n",
       "      <td>Apr</td>\n",
       "      <td>4.859812</td>\n",
       "      <td>11.357817</td>\n",
       "      <td>1</td>\n",
       "      <td>0</td>\n",
       "      <td>0</td>\n",
       "      <td>0</td>\n",
       "      <td>0</td>\n",
       "      <td>0</td>\n",
       "      <td>0</td>\n",
       "      <td>0</td>\n",
       "      <td>0</td>\n",
       "      <td>0</td>\n",
       "      <td>0</td>\n",
       "      <td>0</td>\n",
       "    </tr>\n",
       "    <tr>\n",
       "      <th>4</th>\n",
       "      <td>May-95</td>\n",
       "      <td>121</td>\n",
       "      <td>5</td>\n",
       "      <td>May</td>\n",
       "      <td>4.795791</td>\n",
       "      <td>11.000000</td>\n",
       "      <td>0</td>\n",
       "      <td>0</td>\n",
       "      <td>0</td>\n",
       "      <td>0</td>\n",
       "      <td>0</td>\n",
       "      <td>0</td>\n",
       "      <td>0</td>\n",
       "      <td>0</td>\n",
       "      <td>1</td>\n",
       "      <td>0</td>\n",
       "      <td>0</td>\n",
       "      <td>0</td>\n",
       "    </tr>\n",
       "    <tr>\n",
       "      <th>...</th>\n",
       "      <td>...</td>\n",
       "      <td>...</td>\n",
       "      <td>...</td>\n",
       "      <td>...</td>\n",
       "      <td>...</td>\n",
       "      <td>...</td>\n",
       "      <td>...</td>\n",
       "      <td>...</td>\n",
       "      <td>...</td>\n",
       "      <td>...</td>\n",
       "      <td>...</td>\n",
       "      <td>...</td>\n",
       "      <td>...</td>\n",
       "      <td>...</td>\n",
       "      <td>...</td>\n",
       "      <td>...</td>\n",
       "      <td>...</td>\n",
       "      <td>...</td>\n",
       "    </tr>\n",
       "    <tr>\n",
       "      <th>91</th>\n",
       "      <td>Aug-02</td>\n",
       "      <td>405</td>\n",
       "      <td>92</td>\n",
       "      <td>Aug</td>\n",
       "      <td>6.003887</td>\n",
       "      <td>20.124612</td>\n",
       "      <td>0</td>\n",
       "      <td>1</td>\n",
       "      <td>0</td>\n",
       "      <td>0</td>\n",
       "      <td>0</td>\n",
       "      <td>0</td>\n",
       "      <td>0</td>\n",
       "      <td>0</td>\n",
       "      <td>0</td>\n",
       "      <td>0</td>\n",
       "      <td>0</td>\n",
       "      <td>0</td>\n",
       "    </tr>\n",
       "    <tr>\n",
       "      <th>92</th>\n",
       "      <td>Sep-02</td>\n",
       "      <td>355</td>\n",
       "      <td>93</td>\n",
       "      <td>Sep</td>\n",
       "      <td>5.872118</td>\n",
       "      <td>18.841444</td>\n",
       "      <td>0</td>\n",
       "      <td>0</td>\n",
       "      <td>0</td>\n",
       "      <td>0</td>\n",
       "      <td>0</td>\n",
       "      <td>0</td>\n",
       "      <td>0</td>\n",
       "      <td>0</td>\n",
       "      <td>0</td>\n",
       "      <td>0</td>\n",
       "      <td>0</td>\n",
       "      <td>1</td>\n",
       "    </tr>\n",
       "    <tr>\n",
       "      <th>93</th>\n",
       "      <td>Oct-02</td>\n",
       "      <td>306</td>\n",
       "      <td>94</td>\n",
       "      <td>Oct</td>\n",
       "      <td>5.723585</td>\n",
       "      <td>17.492856</td>\n",
       "      <td>0</td>\n",
       "      <td>0</td>\n",
       "      <td>0</td>\n",
       "      <td>0</td>\n",
       "      <td>0</td>\n",
       "      <td>0</td>\n",
       "      <td>0</td>\n",
       "      <td>0</td>\n",
       "      <td>0</td>\n",
       "      <td>0</td>\n",
       "      <td>1</td>\n",
       "      <td>0</td>\n",
       "    </tr>\n",
       "    <tr>\n",
       "      <th>94</th>\n",
       "      <td>Nov-02</td>\n",
       "      <td>271</td>\n",
       "      <td>95</td>\n",
       "      <td>Nov</td>\n",
       "      <td>5.602119</td>\n",
       "      <td>16.462078</td>\n",
       "      <td>0</td>\n",
       "      <td>0</td>\n",
       "      <td>0</td>\n",
       "      <td>0</td>\n",
       "      <td>0</td>\n",
       "      <td>0</td>\n",
       "      <td>0</td>\n",
       "      <td>0</td>\n",
       "      <td>0</td>\n",
       "      <td>1</td>\n",
       "      <td>0</td>\n",
       "      <td>0</td>\n",
       "    </tr>\n",
       "    <tr>\n",
       "      <th>95</th>\n",
       "      <td>Dec-02</td>\n",
       "      <td>306</td>\n",
       "      <td>96</td>\n",
       "      <td>Dec</td>\n",
       "      <td>5.723585</td>\n",
       "      <td>17.492856</td>\n",
       "      <td>0</td>\n",
       "      <td>0</td>\n",
       "      <td>1</td>\n",
       "      <td>0</td>\n",
       "      <td>0</td>\n",
       "      <td>0</td>\n",
       "      <td>0</td>\n",
       "      <td>0</td>\n",
       "      <td>0</td>\n",
       "      <td>0</td>\n",
       "      <td>0</td>\n",
       "      <td>0</td>\n",
       "    </tr>\n",
       "  </tbody>\n",
       "</table>\n",
       "<p>96 rows × 18 columns</p>\n",
       "</div>"
      ],
      "text/plain": [
       "     Month  Passengers   t months       log       sqrt  months_Apr  \\\n",
       "0   Jan-95         112   1    Jan  4.718499  10.583005           0   \n",
       "1   Feb-95         118   2    Feb  4.770685  10.862780           0   \n",
       "2   Mar-95         132   3    Mar  4.882802  11.489125           0   \n",
       "3   Apr-95         129   4    Apr  4.859812  11.357817           1   \n",
       "4   May-95         121   5    May  4.795791  11.000000           0   \n",
       "..     ...         ...  ..    ...       ...        ...         ...   \n",
       "91  Aug-02         405  92    Aug  6.003887  20.124612           0   \n",
       "92  Sep-02         355  93    Sep  5.872118  18.841444           0   \n",
       "93  Oct-02         306  94    Oct  5.723585  17.492856           0   \n",
       "94  Nov-02         271  95    Nov  5.602119  16.462078           0   \n",
       "95  Dec-02         306  96    Dec  5.723585  17.492856           0   \n",
       "\n",
       "    months_Aug  months_Dec  months_Feb  months_Jan  months_Jul  months_Jun  \\\n",
       "0            0           0           0           1           0           0   \n",
       "1            0           0           1           0           0           0   \n",
       "2            0           0           0           0           0           0   \n",
       "3            0           0           0           0           0           0   \n",
       "4            0           0           0           0           0           0   \n",
       "..         ...         ...         ...         ...         ...         ...   \n",
       "91           1           0           0           0           0           0   \n",
       "92           0           0           0           0           0           0   \n",
       "93           0           0           0           0           0           0   \n",
       "94           0           0           0           0           0           0   \n",
       "95           0           1           0           0           0           0   \n",
       "\n",
       "    months_Mar  months_May  months_Nov  months_Oct  months_Sep  \n",
       "0            0           0           0           0           0  \n",
       "1            0           0           0           0           0  \n",
       "2            1           0           0           0           0  \n",
       "3            0           0           0           0           0  \n",
       "4            0           1           0           0           0  \n",
       "..         ...         ...         ...         ...         ...  \n",
       "91           0           0           0           0           0  \n",
       "92           0           0           0           0           1  \n",
       "93           0           0           0           1           0  \n",
       "94           0           0           1           0           0  \n",
       "95           0           0           0           0           0  \n",
       "\n",
       "[96 rows x 18 columns]"
      ]
     },
     "execution_count": 170,
     "metadata": {},
     "output_type": "execute_result"
    }
   ],
   "source": [
    "data1"
   ]
  },
  {
   "cell_type": "code",
   "execution_count": 171,
   "id": "57eea661",
   "metadata": {},
   "outputs": [],
   "source": [
    "data1.rename(columns={'months_Apr':'apr','months_Aug':'aug','months_Dec':'dec','months_Feb':'feb','months_Jan':'jan','months_Jul':'jul','months_Jun':'jun','months_Mar':'mar','months_May':'may','months_Nov':'nov','months_Oct':'oct','months_Sep':'sep'},errors=\"raise\",inplace=True)"
   ]
  },
  {
   "cell_type": "code",
   "execution_count": 172,
   "id": "114e4df3",
   "metadata": {},
   "outputs": [
    {
     "data": {
      "text/html": [
       "<div>\n",
       "<style scoped>\n",
       "    .dataframe tbody tr th:only-of-type {\n",
       "        vertical-align: middle;\n",
       "    }\n",
       "\n",
       "    .dataframe tbody tr th {\n",
       "        vertical-align: top;\n",
       "    }\n",
       "\n",
       "    .dataframe thead th {\n",
       "        text-align: right;\n",
       "    }\n",
       "</style>\n",
       "<table border=\"1\" class=\"dataframe\">\n",
       "  <thead>\n",
       "    <tr style=\"text-align: right;\">\n",
       "      <th></th>\n",
       "      <th>Month</th>\n",
       "      <th>Passengers</th>\n",
       "      <th>t</th>\n",
       "      <th>months</th>\n",
       "      <th>log</th>\n",
       "      <th>sqrt</th>\n",
       "      <th>apr</th>\n",
       "      <th>aug</th>\n",
       "      <th>dec</th>\n",
       "      <th>feb</th>\n",
       "      <th>jan</th>\n",
       "      <th>jul</th>\n",
       "      <th>jun</th>\n",
       "      <th>mar</th>\n",
       "      <th>may</th>\n",
       "      <th>nov</th>\n",
       "      <th>oct</th>\n",
       "      <th>sep</th>\n",
       "    </tr>\n",
       "  </thead>\n",
       "  <tbody>\n",
       "    <tr>\n",
       "      <th>0</th>\n",
       "      <td>Jan-95</td>\n",
       "      <td>112</td>\n",
       "      <td>1</td>\n",
       "      <td>Jan</td>\n",
       "      <td>4.718499</td>\n",
       "      <td>10.583005</td>\n",
       "      <td>0</td>\n",
       "      <td>0</td>\n",
       "      <td>0</td>\n",
       "      <td>0</td>\n",
       "      <td>1</td>\n",
       "      <td>0</td>\n",
       "      <td>0</td>\n",
       "      <td>0</td>\n",
       "      <td>0</td>\n",
       "      <td>0</td>\n",
       "      <td>0</td>\n",
       "      <td>0</td>\n",
       "    </tr>\n",
       "    <tr>\n",
       "      <th>1</th>\n",
       "      <td>Feb-95</td>\n",
       "      <td>118</td>\n",
       "      <td>2</td>\n",
       "      <td>Feb</td>\n",
       "      <td>4.770685</td>\n",
       "      <td>10.862780</td>\n",
       "      <td>0</td>\n",
       "      <td>0</td>\n",
       "      <td>0</td>\n",
       "      <td>1</td>\n",
       "      <td>0</td>\n",
       "      <td>0</td>\n",
       "      <td>0</td>\n",
       "      <td>0</td>\n",
       "      <td>0</td>\n",
       "      <td>0</td>\n",
       "      <td>0</td>\n",
       "      <td>0</td>\n",
       "    </tr>\n",
       "    <tr>\n",
       "      <th>2</th>\n",
       "      <td>Mar-95</td>\n",
       "      <td>132</td>\n",
       "      <td>3</td>\n",
       "      <td>Mar</td>\n",
       "      <td>4.882802</td>\n",
       "      <td>11.489125</td>\n",
       "      <td>0</td>\n",
       "      <td>0</td>\n",
       "      <td>0</td>\n",
       "      <td>0</td>\n",
       "      <td>0</td>\n",
       "      <td>0</td>\n",
       "      <td>0</td>\n",
       "      <td>1</td>\n",
       "      <td>0</td>\n",
       "      <td>0</td>\n",
       "      <td>0</td>\n",
       "      <td>0</td>\n",
       "    </tr>\n",
       "    <tr>\n",
       "      <th>3</th>\n",
       "      <td>Apr-95</td>\n",
       "      <td>129</td>\n",
       "      <td>4</td>\n",
       "      <td>Apr</td>\n",
       "      <td>4.859812</td>\n",
       "      <td>11.357817</td>\n",
       "      <td>1</td>\n",
       "      <td>0</td>\n",
       "      <td>0</td>\n",
       "      <td>0</td>\n",
       "      <td>0</td>\n",
       "      <td>0</td>\n",
       "      <td>0</td>\n",
       "      <td>0</td>\n",
       "      <td>0</td>\n",
       "      <td>0</td>\n",
       "      <td>0</td>\n",
       "      <td>0</td>\n",
       "    </tr>\n",
       "    <tr>\n",
       "      <th>4</th>\n",
       "      <td>May-95</td>\n",
       "      <td>121</td>\n",
       "      <td>5</td>\n",
       "      <td>May</td>\n",
       "      <td>4.795791</td>\n",
       "      <td>11.000000</td>\n",
       "      <td>0</td>\n",
       "      <td>0</td>\n",
       "      <td>0</td>\n",
       "      <td>0</td>\n",
       "      <td>0</td>\n",
       "      <td>0</td>\n",
       "      <td>0</td>\n",
       "      <td>0</td>\n",
       "      <td>1</td>\n",
       "      <td>0</td>\n",
       "      <td>0</td>\n",
       "      <td>0</td>\n",
       "    </tr>\n",
       "    <tr>\n",
       "      <th>...</th>\n",
       "      <td>...</td>\n",
       "      <td>...</td>\n",
       "      <td>...</td>\n",
       "      <td>...</td>\n",
       "      <td>...</td>\n",
       "      <td>...</td>\n",
       "      <td>...</td>\n",
       "      <td>...</td>\n",
       "      <td>...</td>\n",
       "      <td>...</td>\n",
       "      <td>...</td>\n",
       "      <td>...</td>\n",
       "      <td>...</td>\n",
       "      <td>...</td>\n",
       "      <td>...</td>\n",
       "      <td>...</td>\n",
       "      <td>...</td>\n",
       "      <td>...</td>\n",
       "    </tr>\n",
       "    <tr>\n",
       "      <th>91</th>\n",
       "      <td>Aug-02</td>\n",
       "      <td>405</td>\n",
       "      <td>92</td>\n",
       "      <td>Aug</td>\n",
       "      <td>6.003887</td>\n",
       "      <td>20.124612</td>\n",
       "      <td>0</td>\n",
       "      <td>1</td>\n",
       "      <td>0</td>\n",
       "      <td>0</td>\n",
       "      <td>0</td>\n",
       "      <td>0</td>\n",
       "      <td>0</td>\n",
       "      <td>0</td>\n",
       "      <td>0</td>\n",
       "      <td>0</td>\n",
       "      <td>0</td>\n",
       "      <td>0</td>\n",
       "    </tr>\n",
       "    <tr>\n",
       "      <th>92</th>\n",
       "      <td>Sep-02</td>\n",
       "      <td>355</td>\n",
       "      <td>93</td>\n",
       "      <td>Sep</td>\n",
       "      <td>5.872118</td>\n",
       "      <td>18.841444</td>\n",
       "      <td>0</td>\n",
       "      <td>0</td>\n",
       "      <td>0</td>\n",
       "      <td>0</td>\n",
       "      <td>0</td>\n",
       "      <td>0</td>\n",
       "      <td>0</td>\n",
       "      <td>0</td>\n",
       "      <td>0</td>\n",
       "      <td>0</td>\n",
       "      <td>0</td>\n",
       "      <td>1</td>\n",
       "    </tr>\n",
       "    <tr>\n",
       "      <th>93</th>\n",
       "      <td>Oct-02</td>\n",
       "      <td>306</td>\n",
       "      <td>94</td>\n",
       "      <td>Oct</td>\n",
       "      <td>5.723585</td>\n",
       "      <td>17.492856</td>\n",
       "      <td>0</td>\n",
       "      <td>0</td>\n",
       "      <td>0</td>\n",
       "      <td>0</td>\n",
       "      <td>0</td>\n",
       "      <td>0</td>\n",
       "      <td>0</td>\n",
       "      <td>0</td>\n",
       "      <td>0</td>\n",
       "      <td>0</td>\n",
       "      <td>1</td>\n",
       "      <td>0</td>\n",
       "    </tr>\n",
       "    <tr>\n",
       "      <th>94</th>\n",
       "      <td>Nov-02</td>\n",
       "      <td>271</td>\n",
       "      <td>95</td>\n",
       "      <td>Nov</td>\n",
       "      <td>5.602119</td>\n",
       "      <td>16.462078</td>\n",
       "      <td>0</td>\n",
       "      <td>0</td>\n",
       "      <td>0</td>\n",
       "      <td>0</td>\n",
       "      <td>0</td>\n",
       "      <td>0</td>\n",
       "      <td>0</td>\n",
       "      <td>0</td>\n",
       "      <td>0</td>\n",
       "      <td>1</td>\n",
       "      <td>0</td>\n",
       "      <td>0</td>\n",
       "    </tr>\n",
       "    <tr>\n",
       "      <th>95</th>\n",
       "      <td>Dec-02</td>\n",
       "      <td>306</td>\n",
       "      <td>96</td>\n",
       "      <td>Dec</td>\n",
       "      <td>5.723585</td>\n",
       "      <td>17.492856</td>\n",
       "      <td>0</td>\n",
       "      <td>0</td>\n",
       "      <td>1</td>\n",
       "      <td>0</td>\n",
       "      <td>0</td>\n",
       "      <td>0</td>\n",
       "      <td>0</td>\n",
       "      <td>0</td>\n",
       "      <td>0</td>\n",
       "      <td>0</td>\n",
       "      <td>0</td>\n",
       "      <td>0</td>\n",
       "    </tr>\n",
       "  </tbody>\n",
       "</table>\n",
       "<p>96 rows × 18 columns</p>\n",
       "</div>"
      ],
      "text/plain": [
       "     Month  Passengers   t months       log       sqrt  apr  aug  dec  feb  \\\n",
       "0   Jan-95         112   1    Jan  4.718499  10.583005    0    0    0    0   \n",
       "1   Feb-95         118   2    Feb  4.770685  10.862780    0    0    0    1   \n",
       "2   Mar-95         132   3    Mar  4.882802  11.489125    0    0    0    0   \n",
       "3   Apr-95         129   4    Apr  4.859812  11.357817    1    0    0    0   \n",
       "4   May-95         121   5    May  4.795791  11.000000    0    0    0    0   \n",
       "..     ...         ...  ..    ...       ...        ...  ...  ...  ...  ...   \n",
       "91  Aug-02         405  92    Aug  6.003887  20.124612    0    1    0    0   \n",
       "92  Sep-02         355  93    Sep  5.872118  18.841444    0    0    0    0   \n",
       "93  Oct-02         306  94    Oct  5.723585  17.492856    0    0    0    0   \n",
       "94  Nov-02         271  95    Nov  5.602119  16.462078    0    0    0    0   \n",
       "95  Dec-02         306  96    Dec  5.723585  17.492856    0    0    1    0   \n",
       "\n",
       "    jan  jul  jun  mar  may  nov  oct  sep  \n",
       "0     1    0    0    0    0    0    0    0  \n",
       "1     0    0    0    0    0    0    0    0  \n",
       "2     0    0    0    1    0    0    0    0  \n",
       "3     0    0    0    0    0    0    0    0  \n",
       "4     0    0    0    0    1    0    0    0  \n",
       "..  ...  ...  ...  ...  ...  ...  ...  ...  \n",
       "91    0    0    0    0    0    0    0    0  \n",
       "92    0    0    0    0    0    0    0    1  \n",
       "93    0    0    0    0    0    0    1    0  \n",
       "94    0    0    0    0    0    1    0    0  \n",
       "95    0    0    0    0    0    0    0    0  \n",
       "\n",
       "[96 rows x 18 columns]"
      ]
     },
     "execution_count": 172,
     "metadata": {},
     "output_type": "execute_result"
    }
   ],
   "source": [
    "data1"
   ]
  },
  {
   "cell_type": "code",
   "execution_count": 173,
   "id": "ce4ec62d",
   "metadata": {},
   "outputs": [
    {
     "data": {
      "text/plain": [
       "<AxesSubplot:ylabel='Density'>"
      ]
     },
     "execution_count": 173,
     "metadata": {},
     "output_type": "execute_result"
    },
    {
     "data": {
      "image/png": "[encoded data removed]",
      "text/plain": [
       "<Figure size 432x288 with 1 Axes>"
      ]
     },
     "metadata": {
      "needs_background": "light"
     },
     "output_type": "display_data"
    }
   ],
   "source": [
    "data1['log'].plot(kind='kde')"
   ]
  },
  {
   "cell_type": "code",
   "execution_count": 174,
   "id": "04a83d18",
   "metadata": {},
   "outputs": [
    {
     "data": {
      "text/plain": [
       "<AxesSubplot:ylabel='Density'>"
      ]
     },
     "execution_count": 174,
     "metadata": {},
     "output_type": "execute_result"
    },
    {
     "data": {
      "image/png": "[encoded data removed]",
      "text/plain": [
       "<Figure size 432x288 with 1 Axes>"
      ]
     },
     "metadata": {
      "needs_background": "light"
     },
     "output_type": "display_data"
    }
   ],
   "source": [
    "data1['sqrt'].plot(kind='kde')"
   ]
  },
  {
   "cell_type": "code",
   "execution_count": 175,
   "id": "5abb560f",
   "metadata": {},
   "outputs": [
    {
     "data": {
      "text/html": [
       "<div>\n",
       "<style scoped>\n",
       "    .dataframe tbody tr th:only-of-type {\n",
       "        vertical-align: middle;\n",
       "    }\n",
       "\n",
       "    .dataframe tbody tr th {\n",
       "        vertical-align: top;\n",
       "    }\n",
       "\n",
       "    .dataframe thead th {\n",
       "        text-align: right;\n",
       "    }\n",
       "</style>\n",
       "<table border=\"1\" class=\"dataframe\">\n",
       "  <thead>\n",
       "    <tr style=\"text-align: right;\">\n",
       "      <th></th>\n",
       "      <th>Month</th>\n",
       "      <th>Passengers</th>\n",
       "      <th>t</th>\n",
       "      <th>months</th>\n",
       "      <th>log</th>\n",
       "      <th>sqrt</th>\n",
       "      <th>apr</th>\n",
       "      <th>aug</th>\n",
       "      <th>dec</th>\n",
       "      <th>feb</th>\n",
       "      <th>jan</th>\n",
       "      <th>jul</th>\n",
       "      <th>jun</th>\n",
       "      <th>mar</th>\n",
       "      <th>may</th>\n",
       "      <th>nov</th>\n",
       "      <th>oct</th>\n",
       "      <th>sep</th>\n",
       "    </tr>\n",
       "  </thead>\n",
       "  <tbody>\n",
       "    <tr>\n",
       "      <th>0</th>\n",
       "      <td>Jan-95</td>\n",
       "      <td>112</td>\n",
       "      <td>1</td>\n",
       "      <td>Jan</td>\n",
       "      <td>4.718499</td>\n",
       "      <td>10.583005</td>\n",
       "      <td>0</td>\n",
       "      <td>0</td>\n",
       "      <td>0</td>\n",
       "      <td>0</td>\n",
       "      <td>1</td>\n",
       "      <td>0</td>\n",
       "      <td>0</td>\n",
       "      <td>0</td>\n",
       "      <td>0</td>\n",
       "      <td>0</td>\n",
       "      <td>0</td>\n",
       "      <td>0</td>\n",
       "    </tr>\n",
       "    <tr>\n",
       "      <th>1</th>\n",
       "      <td>Feb-95</td>\n",
       "      <td>118</td>\n",
       "      <td>2</td>\n",
       "      <td>Feb</td>\n",
       "      <td>4.770685</td>\n",
       "      <td>10.862780</td>\n",
       "      <td>0</td>\n",
       "      <td>0</td>\n",
       "      <td>0</td>\n",
       "      <td>1</td>\n",
       "      <td>0</td>\n",
       "      <td>0</td>\n",
       "      <td>0</td>\n",
       "      <td>0</td>\n",
       "      <td>0</td>\n",
       "      <td>0</td>\n",
       "      <td>0</td>\n",
       "      <td>0</td>\n",
       "    </tr>\n",
       "    <tr>\n",
       "      <th>2</th>\n",
       "      <td>Mar-95</td>\n",
       "      <td>132</td>\n",
       "      <td>3</td>\n",
       "      <td>Mar</td>\n",
       "      <td>4.882802</td>\n",
       "      <td>11.489125</td>\n",
       "      <td>0</td>\n",
       "      <td>0</td>\n",
       "      <td>0</td>\n",
       "      <td>0</td>\n",
       "      <td>0</td>\n",
       "      <td>0</td>\n",
       "      <td>0</td>\n",
       "      <td>1</td>\n",
       "      <td>0</td>\n",
       "      <td>0</td>\n",
       "      <td>0</td>\n",
       "      <td>0</td>\n",
       "    </tr>\n",
       "    <tr>\n",
       "      <th>3</th>\n",
       "      <td>Apr-95</td>\n",
       "      <td>129</td>\n",
       "      <td>4</td>\n",
       "      <td>Apr</td>\n",
       "      <td>4.859812</td>\n",
       "      <td>11.357817</td>\n",
       "      <td>1</td>\n",
       "      <td>0</td>\n",
       "      <td>0</td>\n",
       "      <td>0</td>\n",
       "      <td>0</td>\n",
       "      <td>0</td>\n",
       "      <td>0</td>\n",
       "      <td>0</td>\n",
       "      <td>0</td>\n",
       "      <td>0</td>\n",
       "      <td>0</td>\n",
       "      <td>0</td>\n",
       "    </tr>\n",
       "    <tr>\n",
       "      <th>4</th>\n",
       "      <td>May-95</td>\n",
       "      <td>121</td>\n",
       "      <td>5</td>\n",
       "      <td>May</td>\n",
       "      <td>4.795791</td>\n",
       "      <td>11.000000</td>\n",
       "      <td>0</td>\n",
       "      <td>0</td>\n",
       "      <td>0</td>\n",
       "      <td>0</td>\n",
       "      <td>0</td>\n",
       "      <td>0</td>\n",
       "      <td>0</td>\n",
       "      <td>0</td>\n",
       "      <td>1</td>\n",
       "      <td>0</td>\n",
       "      <td>0</td>\n",
       "      <td>0</td>\n",
       "    </tr>\n",
       "  </tbody>\n",
       "</table>\n",
       "</div>"
      ],
      "text/plain": [
       "    Month  Passengers  t months       log       sqrt  apr  aug  dec  feb  jan  \\\n",
       "0  Jan-95         112  1    Jan  4.718499  10.583005    0    0    0    0    1   \n",
       "1  Feb-95         118  2    Feb  4.770685  10.862780    0    0    0    1    0   \n",
       "2  Mar-95         132  3    Mar  4.882802  11.489125    0    0    0    0    0   \n",
       "3  Apr-95         129  4    Apr  4.859812  11.357817    1    0    0    0    0   \n",
       "4  May-95         121  5    May  4.795791  11.000000    0    0    0    0    0   \n",
       "\n",
       "   jul  jun  mar  may  nov  oct  sep  \n",
       "0    0    0    0    0    0    0    0  \n",
       "1    0    0    0    0    0    0    0  \n",
       "2    0    0    1    0    0    0    0  \n",
       "3    0    0    0    0    0    0    0  \n",
       "4    0    0    0    1    0    0    0  "
      ]
     },
     "execution_count": 175,
     "metadata": {},
     "output_type": "execute_result"
    }
   ],
   "source": [
    "data1.head()"
   ]
  },
  {
   "cell_type": "code",
   "execution_count": 176,
   "id": "65e41cd9",
   "metadata": {},
   "outputs": [
    {
     "data": {
      "text/plain": [
       "<AxesSubplot:>"
      ]
     },
     "execution_count": 176,
     "metadata": {},
     "output_type": "execute_result"
    },
    {
     "data": {
      "image/png": "[encoded data removed]",
      "text/plain": [
       "<Figure size 432x288 with 1 Axes>"
      ]
     },
     "metadata": {
      "needs_background": "light"
     },
     "output_type": "display_data"
    }
   ],
   "source": [
    "data1['Passengers'].plot()"
   ]
  },
  {
   "cell_type": "code",
   "execution_count": 177,
   "id": "300a152b",
   "metadata": {},
   "outputs": [],
   "source": [
    "from statsmodels.graphics.tsaplots import plot_acf"
   ]
  },
  {
   "cell_type": "code",
   "execution_count": 178,
   "id": "18c9d47d",
   "metadata": {},
   "outputs": [
    {
     "data": {
      "image/png": "[encoded data removed]",
      "text/plain": [
       "<Figure size 432x288 with 1 Axes>"
      ]
     },
     "execution_count": 178,
     "metadata": {},
     "output_type": "execute_result"
    },
    {
     "data": {
      "image/png": "[encoded data removed]",
      "text/plain": [
       "<Figure size 432x288 with 1 Axes>"
      ]
     },
     "metadata": {
      "needs_background": "light"
     },
     "output_type": "display_data"
    }
   ],
   "source": [
    "plot_acf(data1['Passengers'],lags=10)"
   ]
  },
  {
   "cell_type": "code",
   "execution_count": 179,
   "id": "f0388334",
   "metadata": {},
   "outputs": [],
   "source": [
    "import seaborn as sns"
   ]
  },
  {
   "cell_type": "code",
   "execution_count": 180,
   "id": "78f3b03d",
   "metadata": {},
   "outputs": [
    {
     "data": {
      "text/plain": [
       "<AxesSubplot:xlabel='Month', ylabel='log'>"
      ]
     },
     "execution_count": 180,
     "metadata": {},
     "output_type": "execute_result"
    },
    {
     "data": {
      "image/png": "[encoded data removed]",
      "text/plain": [
       "<Figure size 720x288 with 1 Axes>"
      ]
     },
     "metadata": {
      "needs_background": "light"
     },
     "output_type": "display_data"
    }
   ],
   "source": [
    "plt.figure(figsize=(10,4))\n",
    "sns.lineplot(data=data1,x='Month',y='log')"
   ]
  },
  {
   "cell_type": "code",
   "execution_count": 286,
   "id": "145f3e25",
   "metadata": {},
   "outputs": [
    {
     "data": {
      "text/plain": [
       "(96, 18)"
      ]
     },
     "execution_count": 286,
     "metadata": {},
     "output_type": "execute_result"
    }
   ],
   "source": [
    "train_size=len(data1)-24\n",
    "test_size=len(data1)-12\n",
    "data1.shape"
   ]
  },
  {
   "cell_type": "code",
   "execution_count": 287,
   "id": "5713f074",
   "metadata": {},
   "outputs": [
    {
     "data": {
      "text/html": [
       "<div>\n",
       "<style scoped>\n",
       "    .dataframe tbody tr th:only-of-type {\n",
       "        vertical-align: middle;\n",
       "    }\n",
       "\n",
       "    .dataframe tbody tr th {\n",
       "        vertical-align: top;\n",
       "    }\n",
       "\n",
       "    .dataframe thead th {\n",
       "        text-align: right;\n",
       "    }\n",
       "</style>\n",
       "<table border=\"1\" class=\"dataframe\">\n",
       "  <thead>\n",
       "    <tr style=\"text-align: right;\">\n",
       "      <th></th>\n",
       "      <th>Month</th>\n",
       "      <th>Passengers</th>\n",
       "      <th>t</th>\n",
       "      <th>months</th>\n",
       "      <th>log</th>\n",
       "      <th>sqrt</th>\n",
       "      <th>apr</th>\n",
       "      <th>aug</th>\n",
       "      <th>dec</th>\n",
       "      <th>feb</th>\n",
       "      <th>jan</th>\n",
       "      <th>jul</th>\n",
       "      <th>jun</th>\n",
       "      <th>mar</th>\n",
       "      <th>may</th>\n",
       "      <th>nov</th>\n",
       "      <th>oct</th>\n",
       "      <th>sep</th>\n",
       "    </tr>\n",
       "  </thead>\n",
       "  <tbody>\n",
       "    <tr>\n",
       "      <th>84</th>\n",
       "      <td>Jan-02</td>\n",
       "      <td>284</td>\n",
       "      <td>85</td>\n",
       "      <td>Jan</td>\n",
       "      <td>5.648974</td>\n",
       "      <td>16.852300</td>\n",
       "      <td>0</td>\n",
       "      <td>0</td>\n",
       "      <td>0</td>\n",
       "      <td>0</td>\n",
       "      <td>1</td>\n",
       "      <td>0</td>\n",
       "      <td>0</td>\n",
       "      <td>0</td>\n",
       "      <td>0</td>\n",
       "      <td>0</td>\n",
       "      <td>0</td>\n",
       "      <td>0</td>\n",
       "    </tr>\n",
       "    <tr>\n",
       "      <th>85</th>\n",
       "      <td>Feb-02</td>\n",
       "      <td>277</td>\n",
       "      <td>86</td>\n",
       "      <td>Feb</td>\n",
       "      <td>5.624018</td>\n",
       "      <td>16.643317</td>\n",
       "      <td>0</td>\n",
       "      <td>0</td>\n",
       "      <td>0</td>\n",
       "      <td>1</td>\n",
       "      <td>0</td>\n",
       "      <td>0</td>\n",
       "      <td>0</td>\n",
       "      <td>0</td>\n",
       "      <td>0</td>\n",
       "      <td>0</td>\n",
       "      <td>0</td>\n",
       "      <td>0</td>\n",
       "    </tr>\n",
       "    <tr>\n",
       "      <th>86</th>\n",
       "      <td>Mar-02</td>\n",
       "      <td>317</td>\n",
       "      <td>87</td>\n",
       "      <td>Mar</td>\n",
       "      <td>5.758902</td>\n",
       "      <td>17.804494</td>\n",
       "      <td>0</td>\n",
       "      <td>0</td>\n",
       "      <td>0</td>\n",
       "      <td>0</td>\n",
       "      <td>0</td>\n",
       "      <td>0</td>\n",
       "      <td>0</td>\n",
       "      <td>1</td>\n",
       "      <td>0</td>\n",
       "      <td>0</td>\n",
       "      <td>0</td>\n",
       "      <td>0</td>\n",
       "    </tr>\n",
       "    <tr>\n",
       "      <th>87</th>\n",
       "      <td>Apr-02</td>\n",
       "      <td>313</td>\n",
       "      <td>88</td>\n",
       "      <td>Apr</td>\n",
       "      <td>5.746203</td>\n",
       "      <td>17.691806</td>\n",
       "      <td>1</td>\n",
       "      <td>0</td>\n",
       "      <td>0</td>\n",
       "      <td>0</td>\n",
       "      <td>0</td>\n",
       "      <td>0</td>\n",
       "      <td>0</td>\n",
       "      <td>0</td>\n",
       "      <td>0</td>\n",
       "      <td>0</td>\n",
       "      <td>0</td>\n",
       "      <td>0</td>\n",
       "    </tr>\n",
       "    <tr>\n",
       "      <th>88</th>\n",
       "      <td>May-02</td>\n",
       "      <td>318</td>\n",
       "      <td>89</td>\n",
       "      <td>May</td>\n",
       "      <td>5.762051</td>\n",
       "      <td>17.832555</td>\n",
       "      <td>0</td>\n",
       "      <td>0</td>\n",
       "      <td>0</td>\n",
       "      <td>0</td>\n",
       "      <td>0</td>\n",
       "      <td>0</td>\n",
       "      <td>0</td>\n",
       "      <td>0</td>\n",
       "      <td>1</td>\n",
       "      <td>0</td>\n",
       "      <td>0</td>\n",
       "      <td>0</td>\n",
       "    </tr>\n",
       "    <tr>\n",
       "      <th>89</th>\n",
       "      <td>Jun-02</td>\n",
       "      <td>374</td>\n",
       "      <td>90</td>\n",
       "      <td>Jun</td>\n",
       "      <td>5.924256</td>\n",
       "      <td>19.339080</td>\n",
       "      <td>0</td>\n",
       "      <td>0</td>\n",
       "      <td>0</td>\n",
       "      <td>0</td>\n",
       "      <td>0</td>\n",
       "      <td>0</td>\n",
       "      <td>1</td>\n",
       "      <td>0</td>\n",
       "      <td>0</td>\n",
       "      <td>0</td>\n",
       "      <td>0</td>\n",
       "      <td>0</td>\n",
       "    </tr>\n",
       "    <tr>\n",
       "      <th>90</th>\n",
       "      <td>Jul-02</td>\n",
       "      <td>413</td>\n",
       "      <td>91</td>\n",
       "      <td>Jul</td>\n",
       "      <td>6.023448</td>\n",
       "      <td>20.322401</td>\n",
       "      <td>0</td>\n",
       "      <td>0</td>\n",
       "      <td>0</td>\n",
       "      <td>0</td>\n",
       "      <td>0</td>\n",
       "      <td>1</td>\n",
       "      <td>0</td>\n",
       "      <td>0</td>\n",
       "      <td>0</td>\n",
       "      <td>0</td>\n",
       "      <td>0</td>\n",
       "      <td>0</td>\n",
       "    </tr>\n",
       "    <tr>\n",
       "      <th>91</th>\n",
       "      <td>Aug-02</td>\n",
       "      <td>405</td>\n",
       "      <td>92</td>\n",
       "      <td>Aug</td>\n",
       "      <td>6.003887</td>\n",
       "      <td>20.124612</td>\n",
       "      <td>0</td>\n",
       "      <td>1</td>\n",
       "      <td>0</td>\n",
       "      <td>0</td>\n",
       "      <td>0</td>\n",
       "      <td>0</td>\n",
       "      <td>0</td>\n",
       "      <td>0</td>\n",
       "      <td>0</td>\n",
       "      <td>0</td>\n",
       "      <td>0</td>\n",
       "      <td>0</td>\n",
       "    </tr>\n",
       "    <tr>\n",
       "      <th>92</th>\n",
       "      <td>Sep-02</td>\n",
       "      <td>355</td>\n",
       "      <td>93</td>\n",
       "      <td>Sep</td>\n",
       "      <td>5.872118</td>\n",
       "      <td>18.841444</td>\n",
       "      <td>0</td>\n",
       "      <td>0</td>\n",
       "      <td>0</td>\n",
       "      <td>0</td>\n",
       "      <td>0</td>\n",
       "      <td>0</td>\n",
       "      <td>0</td>\n",
       "      <td>0</td>\n",
       "      <td>0</td>\n",
       "      <td>0</td>\n",
       "      <td>0</td>\n",
       "      <td>1</td>\n",
       "    </tr>\n",
       "    <tr>\n",
       "      <th>93</th>\n",
       "      <td>Oct-02</td>\n",
       "      <td>306</td>\n",
       "      <td>94</td>\n",
       "      <td>Oct</td>\n",
       "      <td>5.723585</td>\n",
       "      <td>17.492856</td>\n",
       "      <td>0</td>\n",
       "      <td>0</td>\n",
       "      <td>0</td>\n",
       "      <td>0</td>\n",
       "      <td>0</td>\n",
       "      <td>0</td>\n",
       "      <td>0</td>\n",
       "      <td>0</td>\n",
       "      <td>0</td>\n",
       "      <td>0</td>\n",
       "      <td>1</td>\n",
       "      <td>0</td>\n",
       "    </tr>\n",
       "    <tr>\n",
       "      <th>94</th>\n",
       "      <td>Nov-02</td>\n",
       "      <td>271</td>\n",
       "      <td>95</td>\n",
       "      <td>Nov</td>\n",
       "      <td>5.602119</td>\n",
       "      <td>16.462078</td>\n",
       "      <td>0</td>\n",
       "      <td>0</td>\n",
       "      <td>0</td>\n",
       "      <td>0</td>\n",
       "      <td>0</td>\n",
       "      <td>0</td>\n",
       "      <td>0</td>\n",
       "      <td>0</td>\n",
       "      <td>0</td>\n",
       "      <td>1</td>\n",
       "      <td>0</td>\n",
       "      <td>0</td>\n",
       "    </tr>\n",
       "    <tr>\n",
       "      <th>95</th>\n",
       "      <td>Dec-02</td>\n",
       "      <td>306</td>\n",
       "      <td>96</td>\n",
       "      <td>Dec</td>\n",
       "      <td>5.723585</td>\n",
       "      <td>17.492856</td>\n",
       "      <td>0</td>\n",
       "      <td>0</td>\n",
       "      <td>1</td>\n",
       "      <td>0</td>\n",
       "      <td>0</td>\n",
       "      <td>0</td>\n",
       "      <td>0</td>\n",
       "      <td>0</td>\n",
       "      <td>0</td>\n",
       "      <td>0</td>\n",
       "      <td>0</td>\n",
       "      <td>0</td>\n",
       "    </tr>\n",
       "  </tbody>\n",
       "</table>\n",
       "</div>"
      ],
      "text/plain": [
       "     Month  Passengers   t months       log       sqrt  apr  aug  dec  feb  \\\n",
       "84  Jan-02         284  85    Jan  5.648974  16.852300    0    0    0    0   \n",
       "85  Feb-02         277  86    Feb  5.624018  16.643317    0    0    0    1   \n",
       "86  Mar-02         317  87    Mar  5.758902  17.804494    0    0    0    0   \n",
       "87  Apr-02         313  88    Apr  5.746203  17.691806    1    0    0    0   \n",
       "88  May-02         318  89    May  5.762051  17.832555    0    0    0    0   \n",
       "89  Jun-02         374  90    Jun  5.924256  19.339080    0    0    0    0   \n",
       "90  Jul-02         413  91    Jul  6.023448  20.322401    0    0    0    0   \n",
       "91  Aug-02         405  92    Aug  6.003887  20.124612    0    1    0    0   \n",
       "92  Sep-02         355  93    Sep  5.872118  18.841444    0    0    0    0   \n",
       "93  Oct-02         306  94    Oct  5.723585  17.492856    0    0    0    0   \n",
       "94  Nov-02         271  95    Nov  5.602119  16.462078    0    0    0    0   \n",
       "95  Dec-02         306  96    Dec  5.723585  17.492856    0    0    1    0   \n",
       "\n",
       "    jan  jul  jun  mar  may  nov  oct  sep  \n",
       "84    1    0    0    0    0    0    0    0  \n",
       "85    0    0    0    0    0    0    0    0  \n",
       "86    0    0    0    1    0    0    0    0  \n",
       "87    0    0    0    0    0    0    0    0  \n",
       "88    0    0    0    0    1    0    0    0  \n",
       "89    0    0    1    0    0    0    0    0  \n",
       "90    0    1    0    0    0    0    0    0  \n",
       "91    0    0    0    0    0    0    0    0  \n",
       "92    0    0    0    0    0    0    0    1  \n",
       "93    0    0    0    0    0    0    1    0  \n",
       "94    0    0    0    0    0    1    0    0  \n",
       "95    0    0    0    0    0    0    0    0  "
      ]
     },
     "execution_count": 287,
     "metadata": {},
     "output_type": "execute_result"
    }
   ],
   "source": [
    "train=data1[0:train_size]\n",
    "test=data1[train_size:test_size]\n",
    "val=data1[test_size:]\n",
    "val"
   ]
  },
  {
   "cell_type": "code",
   "execution_count": 183,
   "id": "c47fda0d",
   "metadata": {},
   "outputs": [],
   "source": [
    "import statsmodels.formula.api as smf"
   ]
  },
  {
   "cell_type": "markdown",
   "id": "7a6ea670",
   "metadata": {},
   "source": [
    "# Model_Based"
   ]
  },
  {
   "cell_type": "markdown",
   "id": "5e907e09",
   "metadata": {},
   "source": [
    "### Linear Model"
   ]
  },
  {
   "cell_type": "code",
   "execution_count": 184,
   "id": "1f548249",
   "metadata": {},
   "outputs": [],
   "source": [
    "lr=smf.ols('Passengers~t',data=train).fit()"
   ]
  },
  {
   "cell_type": "code",
   "execution_count": 185,
   "id": "2a9f4847",
   "metadata": {},
   "outputs": [],
   "source": [
    "lr_pred=lr.predict(test['t'])"
   ]
  },
  {
   "cell_type": "code",
   "execution_count": 186,
   "id": "67de1e08",
   "metadata": {},
   "outputs": [],
   "source": [
    "rmse_linear=np.sqrt(np.mean((test['Passengers'])-(lr_pred))**2)"
   ]
  },
  {
   "cell_type": "code",
   "execution_count": 187,
   "id": "9e6146ce",
   "metadata": {},
   "outputs": [
    {
     "data": {
      "text/plain": [
       "17.8123"
      ]
     },
     "execution_count": 187,
     "metadata": {},
     "output_type": "execute_result"
    }
   ],
   "source": [
    "rmse_linear=rmse_linear.round(4)\n",
    "rmse_linear"
   ]
  },
  {
   "cell_type": "code",
   "execution_count": 188,
   "id": "a256987e",
   "metadata": {},
   "outputs": [
    {
     "data": {
      "text/plain": [
       "72    255.281299\n",
       "73    257.264272\n",
       "74    259.247245\n",
       "75    261.230218\n",
       "76    263.213192\n",
       "77    265.196165\n",
       "78    267.179138\n",
       "79    269.162111\n",
       "80    271.145084\n",
       "81    273.128058\n",
       "82    275.111031\n",
       "83    277.094004\n",
       "dtype: float64"
      ]
     },
     "execution_count": 188,
     "metadata": {},
     "output_type": "execute_result"
    }
   ],
   "source": [
    "lr_pred"
   ]
  },
  {
   "cell_type": "markdown",
   "id": "987fec83",
   "metadata": {},
   "source": [
    "### Exponential"
   ]
  },
  {
   "cell_type": "code",
   "execution_count": 189,
   "id": "2aca52de",
   "metadata": {},
   "outputs": [],
   "source": [
    "expo=smf.ols('log~t',data=train).fit()"
   ]
  },
  {
   "cell_type": "code",
   "execution_count": 190,
   "id": "7ec8ed6d",
   "metadata": {},
   "outputs": [],
   "source": [
    "expo_pred=expo.predict(test['t'])"
   ]
  },
  {
   "cell_type": "code",
   "execution_count": 191,
   "id": "8f975245",
   "metadata": {},
   "outputs": [],
   "source": [
    "rmse_expo=np.sqrt(np.mean((test['log'])-(expo_pred))**2)"
   ]
  },
  {
   "cell_type": "code",
   "execution_count": 192,
   "id": "6dad0f7c",
   "metadata": {},
   "outputs": [
    {
     "data": {
      "text/plain": [
       "0.002"
      ]
     },
     "execution_count": 192,
     "metadata": {},
     "output_type": "execute_result"
    }
   ],
   "source": [
    "rmse_expo=rmse_expo.round(3)\n",
    "rmse_expo"
   ]
  },
  {
   "cell_type": "code",
   "execution_count": 193,
   "id": "334a9fc0",
   "metadata": {},
   "outputs": [
    {
     "data": {
      "text/plain": [
       "72    5.580393\n",
       "73    5.591495\n",
       "74    5.602598\n",
       "75    5.613701\n",
       "76    5.624803\n",
       "77    5.635906\n",
       "78    5.647009\n",
       "79    5.658111\n",
       "80    5.669214\n",
       "81    5.680316\n",
       "82    5.691419\n",
       "83    5.702522\n",
       "dtype: float64"
      ]
     },
     "execution_count": 193,
     "metadata": {},
     "output_type": "execute_result"
    }
   ],
   "source": [
    "expo_pred"
   ]
  },
  {
   "cell_type": "markdown",
   "id": "8614c389",
   "metadata": {},
   "source": [
    "### Quadratic"
   ]
  },
  {
   "cell_type": "code",
   "execution_count": 194,
   "id": "d6ad1868",
   "metadata": {},
   "outputs": [],
   "source": [
    "qua=smf.ols('Passengers~t+sqrt',data=data1).fit()"
   ]
  },
  {
   "cell_type": "code",
   "execution_count": 195,
   "id": "c5c2120a",
   "metadata": {},
   "outputs": [],
   "source": [
    "qua_pred=qua.predict(test[['t','sqrt']])"
   ]
  },
  {
   "cell_type": "code",
   "execution_count": 196,
   "id": "2e9370ad",
   "metadata": {},
   "outputs": [],
   "source": [
    "rmse_qua=np.sqrt(np.mean((test['Passengers']-(qua_pred))**2))"
   ]
  },
  {
   "cell_type": "code",
   "execution_count": 197,
   "id": "b243b92e",
   "metadata": {},
   "outputs": [
    {
     "data": {
      "text/plain": [
       "3.544"
      ]
     },
     "execution_count": 197,
     "metadata": {},
     "output_type": "execute_result"
    }
   ],
   "source": [
    "rmse_qua=rmse_qua.round(3)\n",
    "rmse_qua"
   ]
  },
  {
   "cell_type": "code",
   "execution_count": 198,
   "id": "0af7a4ee",
   "metadata": {},
   "outputs": [
    {
     "data": {
      "text/plain": [
       "72    244.919588\n",
       "73    235.479896\n",
       "74    269.340623\n",
       "75    271.078829\n",
       "76    271.847464\n",
       "77    313.330052\n",
       "78    355.255266\n",
       "79    340.787327\n",
       "80    310.061535\n",
       "81    274.708722\n",
       "82    237.850165\n",
       "83    278.128689\n",
       "dtype: float64"
      ]
     },
     "execution_count": 198,
     "metadata": {},
     "output_type": "execute_result"
    }
   ],
   "source": [
    "qua_pred"
   ]
  },
  {
   "cell_type": "markdown",
   "id": "64448599",
   "metadata": {},
   "source": [
    "### Additive Seasonality"
   ]
  },
  {
   "cell_type": "code",
   "execution_count": 199,
   "id": "b1ef5c8d",
   "metadata": {},
   "outputs": [],
   "source": [
    "add_s=smf.ols('Passengers~jan+mar+apr+may+jun+jul+aug+sep+oct+nov+dec',data=data1).fit()"
   ]
  },
  {
   "cell_type": "code",
   "execution_count": 200,
   "id": "8332841e",
   "metadata": {},
   "outputs": [],
   "source": [
    "add_s_pred=add_s.predict(test[['jan','mar','apr','may','jun','jul','aug','sep','oct','nov','dec']])"
   ]
  },
  {
   "cell_type": "code",
   "execution_count": 201,
   "id": "62096842",
   "metadata": {},
   "outputs": [],
   "source": [
    "rmse_add_s=np.sqrt(np.mean((test['Passengers'])-(add_s_pred))**2)"
   ]
  },
  {
   "cell_type": "code",
   "execution_count": 202,
   "id": "c9ac3ee7",
   "metadata": {},
   "outputs": [
    {
     "data": {
      "text/plain": [
       "70.292"
      ]
     },
     "execution_count": 202,
     "metadata": {},
     "output_type": "execute_result"
    }
   ],
   "source": [
    "rmse_add_s=rmse_add_s.round(3)\n",
    "rmse_add_s"
   ]
  },
  {
   "cell_type": "code",
   "execution_count": 203,
   "id": "5af5e900",
   "metadata": {},
   "outputs": [
    {
     "data": {
      "text/plain": [
       "72    183.625\n",
       "73    183.500\n",
       "74    212.375\n",
       "75    206.500\n",
       "76    206.500\n",
       "77    234.500\n",
       "78    261.250\n",
       "79    259.500\n",
       "80    231.250\n",
       "81    203.125\n",
       "82    178.375\n",
       "83    204.000\n",
       "dtype: float64"
      ]
     },
     "execution_count": 203,
     "metadata": {},
     "output_type": "execute_result"
    }
   ],
   "source": [
    "add_s_pred"
   ]
  },
  {
   "cell_type": "markdown",
   "id": "d1e22607",
   "metadata": {},
   "source": [
    "### Additive Seasonality Quadretive"
   ]
  },
  {
   "cell_type": "code",
   "execution_count": 204,
   "id": "9eabd205",
   "metadata": {},
   "outputs": [],
   "source": [
    "add_s_q=smf.ols('Passengers~t+sqrt+jan+mar+apr+may+jun+jul+aug+sep+oct+nov+dec',data=data1).fit()"
   ]
  },
  {
   "cell_type": "code",
   "execution_count": 205,
   "id": "30dba968",
   "metadata": {},
   "outputs": [],
   "source": [
    "add_s_q_pred=add_s_q.predict(test[['t','sqrt','jan','mar','apr','may','jun','jul','aug','sep','oct','nov','dec']])"
   ]
  },
  {
   "cell_type": "code",
   "execution_count": 206,
   "id": "c480e7b2",
   "metadata": {},
   "outputs": [],
   "source": [
    "rmse_add_s_q=np.sqrt(np.mean((test['Passengers'])-(add_s_q_pred))**2)"
   ]
  },
  {
   "cell_type": "code",
   "execution_count": 207,
   "id": "b6e99a02",
   "metadata": {},
   "outputs": [
    {
     "data": {
      "text/plain": [
       "0.661"
      ]
     },
     "execution_count": 207,
     "metadata": {},
     "output_type": "execute_result"
    }
   ],
   "source": [
    "rmse_add_s_q=rmse_add_s_q.round(3)\n",
    "rmse_add_s_q"
   ]
  },
  {
   "cell_type": "code",
   "execution_count": 208,
   "id": "01df0690",
   "metadata": {},
   "outputs": [
    {
     "data": {
      "text/plain": [
       "72    244.458055\n",
       "73    231.687786\n",
       "74    263.212592\n",
       "75    268.254720\n",
       "76    270.273262\n",
       "77    313.865440\n",
       "78    360.126682\n",
       "79    342.108175\n",
       "80    310.281773\n",
       "81    275.653537\n",
       "82    240.331514\n",
       "83    279.814980\n",
       "dtype: float64"
      ]
     },
     "execution_count": 208,
     "metadata": {},
     "output_type": "execute_result"
    }
   ],
   "source": [
    "add_s_q_pred"
   ]
  },
  {
   "cell_type": "markdown",
   "id": "f35a0867",
   "metadata": {},
   "source": [
    "### Multiplicative Seasonality"
   ]
  },
  {
   "cell_type": "code",
   "execution_count": 209,
   "id": "ee76c211",
   "metadata": {},
   "outputs": [],
   "source": [
    "mult_s=smf.ols('log~jan+mar+apr+may+jun+jul+aug+sep+oct+nov+dec',data=data1).fit()"
   ]
  },
  {
   "cell_type": "code",
   "execution_count": 210,
   "id": "a06125a0",
   "metadata": {},
   "outputs": [],
   "source": [
    "mult_spred=add_s.predict(test[['jan','mar','apr','may','jun','jul','aug','sep','oct','nov','dec']])"
   ]
  },
  {
   "cell_type": "code",
   "execution_count": 211,
   "id": "e578a100",
   "metadata": {},
   "outputs": [],
   "source": [
    "rmse_multi_s=np.sqrt(np.mean((test['log'])-(mult_spred))**2)"
   ]
  },
  {
   "cell_type": "code",
   "execution_count": 212,
   "id": "53de0a71",
   "metadata": {},
   "outputs": [
    {
     "data": {
      "text/plain": [
       "208.069"
      ]
     },
     "execution_count": 212,
     "metadata": {},
     "output_type": "execute_result"
    }
   ],
   "source": [
    "rmse_multi_s=rmse_multi_s.round(3)\n",
    "rmse_multi_s"
   ]
  },
  {
   "cell_type": "code",
   "execution_count": 213,
   "id": "fc74d89e",
   "metadata": {},
   "outputs": [
    {
     "data": {
      "text/plain": [
       "72    183.625\n",
       "73    183.500\n",
       "74    212.375\n",
       "75    206.500\n",
       "76    206.500\n",
       "77    234.500\n",
       "78    261.250\n",
       "79    259.500\n",
       "80    231.250\n",
       "81    203.125\n",
       "82    178.375\n",
       "83    204.000\n",
       "dtype: float64"
      ]
     },
     "execution_count": 213,
     "metadata": {},
     "output_type": "execute_result"
    }
   ],
   "source": [
    "mult_spred"
   ]
  },
  {
   "cell_type": "markdown",
   "id": "0ff01298",
   "metadata": {},
   "source": [
    "### Multiplicative Additive Seasonality"
   ]
  },
  {
   "cell_type": "code",
   "execution_count": 214,
   "id": "ad3add9c",
   "metadata": {},
   "outputs": [],
   "source": [
    "mult_add_s=smf.ols('log~t+jan+mar+apr+may+jun+jul+aug+sep+oct+nov+dec',data=data1).fit()"
   ]
  },
  {
   "cell_type": "code",
   "execution_count": 215,
   "id": "18f96266",
   "metadata": {},
   "outputs": [],
   "source": [
    "mult_add_pred=mult_add_s.predict(test[['t','jan','mar','apr','may','jun','jul','aug','sep','oct','nov','dec']])"
   ]
  },
  {
   "cell_type": "code",
   "execution_count": 216,
   "id": "25a592bb",
   "metadata": {},
   "outputs": [],
   "source": [
    "rmse_mult_add_s=np.sqrt(np.mean((test['log'])-(mult_add_pred))**2)"
   ]
  },
  {
   "cell_type": "code",
   "execution_count": 217,
   "id": "f3e97630",
   "metadata": {},
   "outputs": [
    {
     "data": {
      "text/plain": [
       "0.007"
      ]
     },
     "execution_count": 217,
     "metadata": {},
     "output_type": "execute_result"
    }
   ],
   "source": [
    "rmse_mult_add_s=rmse_mult_add_s.round(3)\n",
    "rmse_mult_add_s"
   ]
  },
  {
   "cell_type": "code",
   "execution_count": 218,
   "id": "5b87de66",
   "metadata": {},
   "outputs": [
    {
     "data": {
      "text/plain": [
       "72    5.501307\n",
       "73    5.511832\n",
       "74    5.655011\n",
       "75    5.622158\n",
       "76    5.615635\n",
       "77    5.739478\n",
       "78    5.845732\n",
       "79    5.843615\n",
       "80    5.733376\n",
       "81    5.603265\n",
       "82    5.472814\n",
       "83    5.609361\n",
       "dtype: float64"
      ]
     },
     "execution_count": 218,
     "metadata": {},
     "output_type": "execute_result"
    }
   ],
   "source": [
    "mult_add_pred"
   ]
  },
  {
   "cell_type": "markdown",
   "id": "80cb0cb7",
   "metadata": {},
   "source": [
    "# Data Driven"
   ]
  },
  {
   "cell_type": "code",
   "execution_count": 219,
   "id": "5535a654",
   "metadata": {},
   "outputs": [
    {
     "data": {
      "text/html": [
       "<div>\n",
       "<style scoped>\n",
       "    .dataframe tbody tr th:only-of-type {\n",
       "        vertical-align: middle;\n",
       "    }\n",
       "\n",
       "    .dataframe tbody tr th {\n",
       "        vertical-align: top;\n",
       "    }\n",
       "\n",
       "    .dataframe thead th {\n",
       "        text-align: right;\n",
       "    }\n",
       "</style>\n",
       "<table border=\"1\" class=\"dataframe\">\n",
       "  <thead>\n",
       "    <tr style=\"text-align: right;\">\n",
       "      <th></th>\n",
       "      <th>Month</th>\n",
       "      <th>Passengers</th>\n",
       "      <th>t</th>\n",
       "      <th>months</th>\n",
       "      <th>log</th>\n",
       "      <th>sqrt</th>\n",
       "      <th>apr</th>\n",
       "      <th>aug</th>\n",
       "      <th>dec</th>\n",
       "      <th>feb</th>\n",
       "      <th>jan</th>\n",
       "      <th>jul</th>\n",
       "      <th>jun</th>\n",
       "      <th>mar</th>\n",
       "      <th>may</th>\n",
       "      <th>nov</th>\n",
       "      <th>oct</th>\n",
       "      <th>sep</th>\n",
       "    </tr>\n",
       "  </thead>\n",
       "  <tbody>\n",
       "    <tr>\n",
       "      <th>0</th>\n",
       "      <td>Jan-95</td>\n",
       "      <td>112</td>\n",
       "      <td>1</td>\n",
       "      <td>Jan</td>\n",
       "      <td>4.718499</td>\n",
       "      <td>10.583005</td>\n",
       "      <td>0</td>\n",
       "      <td>0</td>\n",
       "      <td>0</td>\n",
       "      <td>0</td>\n",
       "      <td>1</td>\n",
       "      <td>0</td>\n",
       "      <td>0</td>\n",
       "      <td>0</td>\n",
       "      <td>0</td>\n",
       "      <td>0</td>\n",
       "      <td>0</td>\n",
       "      <td>0</td>\n",
       "    </tr>\n",
       "    <tr>\n",
       "      <th>1</th>\n",
       "      <td>Feb-95</td>\n",
       "      <td>118</td>\n",
       "      <td>2</td>\n",
       "      <td>Feb</td>\n",
       "      <td>4.770685</td>\n",
       "      <td>10.862780</td>\n",
       "      <td>0</td>\n",
       "      <td>0</td>\n",
       "      <td>0</td>\n",
       "      <td>1</td>\n",
       "      <td>0</td>\n",
       "      <td>0</td>\n",
       "      <td>0</td>\n",
       "      <td>0</td>\n",
       "      <td>0</td>\n",
       "      <td>0</td>\n",
       "      <td>0</td>\n",
       "      <td>0</td>\n",
       "    </tr>\n",
       "    <tr>\n",
       "      <th>2</th>\n",
       "      <td>Mar-95</td>\n",
       "      <td>132</td>\n",
       "      <td>3</td>\n",
       "      <td>Mar</td>\n",
       "      <td>4.882802</td>\n",
       "      <td>11.489125</td>\n",
       "      <td>0</td>\n",
       "      <td>0</td>\n",
       "      <td>0</td>\n",
       "      <td>0</td>\n",
       "      <td>0</td>\n",
       "      <td>0</td>\n",
       "      <td>0</td>\n",
       "      <td>1</td>\n",
       "      <td>0</td>\n",
       "      <td>0</td>\n",
       "      <td>0</td>\n",
       "      <td>0</td>\n",
       "    </tr>\n",
       "    <tr>\n",
       "      <th>3</th>\n",
       "      <td>Apr-95</td>\n",
       "      <td>129</td>\n",
       "      <td>4</td>\n",
       "      <td>Apr</td>\n",
       "      <td>4.859812</td>\n",
       "      <td>11.357817</td>\n",
       "      <td>1</td>\n",
       "      <td>0</td>\n",
       "      <td>0</td>\n",
       "      <td>0</td>\n",
       "      <td>0</td>\n",
       "      <td>0</td>\n",
       "      <td>0</td>\n",
       "      <td>0</td>\n",
       "      <td>0</td>\n",
       "      <td>0</td>\n",
       "      <td>0</td>\n",
       "      <td>0</td>\n",
       "    </tr>\n",
       "    <tr>\n",
       "      <th>4</th>\n",
       "      <td>May-95</td>\n",
       "      <td>121</td>\n",
       "      <td>5</td>\n",
       "      <td>May</td>\n",
       "      <td>4.795791</td>\n",
       "      <td>11.000000</td>\n",
       "      <td>0</td>\n",
       "      <td>0</td>\n",
       "      <td>0</td>\n",
       "      <td>0</td>\n",
       "      <td>0</td>\n",
       "      <td>0</td>\n",
       "      <td>0</td>\n",
       "      <td>0</td>\n",
       "      <td>1</td>\n",
       "      <td>0</td>\n",
       "      <td>0</td>\n",
       "      <td>0</td>\n",
       "    </tr>\n",
       "  </tbody>\n",
       "</table>\n",
       "</div>"
      ],
      "text/plain": [
       "    Month  Passengers  t months       log       sqrt  apr  aug  dec  feb  jan  \\\n",
       "0  Jan-95         112  1    Jan  4.718499  10.583005    0    0    0    0    1   \n",
       "1  Feb-95         118  2    Feb  4.770685  10.862780    0    0    0    1    0   \n",
       "2  Mar-95         132  3    Mar  4.882802  11.489125    0    0    0    0    0   \n",
       "3  Apr-95         129  4    Apr  4.859812  11.357817    1    0    0    0    0   \n",
       "4  May-95         121  5    May  4.795791  11.000000    0    0    0    0    0   \n",
       "\n",
       "   jul  jun  mar  may  nov  oct  sep  \n",
       "0    0    0    0    0    0    0    0  \n",
       "1    0    0    0    0    0    0    0  \n",
       "2    0    0    1    0    0    0    0  \n",
       "3    0    0    0    0    0    0    0  \n",
       "4    0    0    0    1    0    0    0  "
      ]
     },
     "execution_count": 219,
     "metadata": {},
     "output_type": "execute_result"
    }
   ],
   "source": [
    "data1.head()"
   ]
  },
  {
   "cell_type": "code",
   "execution_count": 220,
   "id": "54387407",
   "metadata": {},
   "outputs": [],
   "source": [
    "import matplotlib.pyplot as plt\n",
    "from statsmodels.graphics import tsaplots"
   ]
  },
  {
   "cell_type": "code",
   "execution_count": 221,
   "id": "a443b4f5",
   "metadata": {},
   "outputs": [
    {
     "data": {
      "image/png": "[encoded data removed]",
      "text/plain": [
       "<Figure size 720x216 with 1 Axes>"
      ]
     },
     "metadata": {
      "needs_background": "light"
     },
     "output_type": "display_data"
    },
    {
     "data": {
      "image/png": "[encoded data removed]",
      "text/plain": [
       "<Figure size 720x216 with 1 Axes>"
      ]
     },
     "metadata": {
      "needs_background": "light"
     },
     "output_type": "display_data"
    },
    {
     "data": {
      "image/png": "[encoded data removed]",
      "text/plain": [
       "<Figure size 720x216 with 1 Axes>"
      ]
     },
     "metadata": {
      "needs_background": "light"
     },
     "output_type": "display_data"
    },
    {
     "data": {
      "image/png": "[encoded data removed]",
      "text/plain": [
       "<Figure size 720x216 with 1 Axes>"
      ]
     },
     "metadata": {
      "needs_background": "light"
     },
     "output_type": "display_data"
    },
    {
     "data": {
      "image/png": "[encoded data removed]",
      "text/plain": [
       "<Figure size 720x216 with 1 Axes>"
      ]
     },
     "metadata": {
      "needs_background": "light"
     },
     "output_type": "display_data"
    },
    {
     "data": {
      "image/png": "[encoded data removed]",
      "text/plain": [
       "<Figure size 720x216 with 1 Axes>"
      ]
     },
     "metadata": {
      "needs_background": "light"
     },
     "output_type": "display_data"
    }
   ],
   "source": [
    "plt.figure(figsize=(10,3))\n",
    "data1['Passengers'].plot()\n",
    "for i in range(2,30,6):\n",
    "    plt.figure(figsize=(10,3))\n",
    "    data1['Passengers'].rolling(i).mean().plot(label=str(i))\n",
    "    plt.legend(loc='best')"
   ]
  },
  {
   "cell_type": "code",
   "execution_count": 222,
   "id": "dd7b8022",
   "metadata": {},
   "outputs": [],
   "source": [
    "from statsmodels.tsa.seasonal import seasonal_decompose"
   ]
  },
  {
   "cell_type": "code",
   "execution_count": 223,
   "id": "2482f7ee",
   "metadata": {},
   "outputs": [
    {
     "data": {
      "text/plain": [
       "<Figure size 720x288 with 0 Axes>"
      ]
     },
     "metadata": {},
     "output_type": "display_data"
    },
    {
     "data": {
      "image/png": "[encoded data removed]",
      "text/plain": [
       "<Figure size 432x288 with 4 Axes>"
      ]
     },
     "metadata": {
      "needs_background": "light"
     },
     "output_type": "display_data"
    }
   ],
   "source": [
    "plt.figure(figsize=(10,4))\n",
    "decompose=seasonal_decompose(data1['Passengers'],period=26)\n",
    "decompose.plot()\n",
    "plt.show()"
   ]
  },
  {
   "cell_type": "code",
   "execution_count": 224,
   "id": "34de9451",
   "metadata": {},
   "outputs": [],
   "source": [
    "from statsmodels.graphics.tsaplots import plot_pacf,plot_acf"
   ]
  },
  {
   "cell_type": "code",
   "execution_count": 225,
   "id": "2c82c97a",
   "metadata": {},
   "outputs": [
    {
     "name": "stderr",
     "output_type": "stream",
     "text": [
      "C:\\ProgramData\\Anaconda3\\lib\\site-packages\\statsmodels\\graphics\\tsaplots.py:348: FutureWarning: The default method 'yw' can produce PACF values outside of the [-1,1] interval. After 0.13, the default will change tounadjusted Yule-Walker ('ywm'). You can use this method now by setting method='ywm'.\n",
      "  warnings.warn(\n"
     ]
    },
    {
     "data": {
      "image/png": "[encoded data removed]",
      "text/plain": [
       "<Figure size 432x288 with 1 Axes>"
      ]
     },
     "metadata": {
      "needs_background": "light"
     },
     "output_type": "display_data"
    },
    {
     "data": {
      "image/png": "[encoded data removed]",
      "text/plain": [
       "<Figure size 432x288 with 1 Axes>"
      ]
     },
     "metadata": {
      "needs_background": "light"
     },
     "output_type": "display_data"
    }
   ],
   "source": [
    "plot_acf(data1['Passengers'],lags=10)\n",
    "plot_pacf(data1['Passengers'],lags=10)\n",
    "plt.show()"
   ]
  },
  {
   "cell_type": "code",
   "execution_count": 226,
   "id": "3547f2a2",
   "metadata": {},
   "outputs": [],
   "source": [
    "def mape(pred,org):\n",
    "    temp = np.abs((pred-org)/org)*100\n",
    "    return np.mean(temp)"
   ]
  },
  {
   "cell_type": "markdown",
   "id": "93e7c8bc",
   "metadata": {},
   "source": [
    "## Simple Exp Smoothing"
   ]
  },
  {
   "cell_type": "code",
   "execution_count": 227,
   "id": "0f01cf4e",
   "metadata": {},
   "outputs": [],
   "source": [
    "from statsmodels.tsa.holtwinters import SimpleExpSmoothing"
   ]
  },
  {
   "cell_type": "code",
   "execution_count": 228,
   "id": "b7adf163",
   "metadata": {},
   "outputs": [],
   "source": [
    "ses=SimpleExpSmoothing(train['Passengers']).fit(smoothing_level=0.3)"
   ]
  },
  {
   "cell_type": "code",
   "execution_count": 229,
   "id": "0231988f",
   "metadata": {},
   "outputs": [],
   "source": [
    "simp_pred=ses.predict(start=test.index[0],end=test.index[-1])"
   ]
  },
  {
   "cell_type": "code",
   "execution_count": 230,
   "id": "4c653fd7",
   "metadata": {},
   "outputs": [
    {
     "data": {
      "text/plain": [
       "15.634314979209421"
      ]
     },
     "execution_count": 230,
     "metadata": {},
     "output_type": "execute_result"
    }
   ],
   "source": [
    "ses_er=mape(simp_pred,test['Passengers'])\n",
    "ses_er"
   ]
  },
  {
   "cell_type": "code",
   "execution_count": 231,
   "id": "b58e21b3",
   "metadata": {},
   "outputs": [
    {
     "data": {
      "text/plain": [
       "72    235.59862\n",
       "73    235.59862\n",
       "74    235.59862\n",
       "75    235.59862\n",
       "76    235.59862\n",
       "77    235.59862\n",
       "78    235.59862\n",
       "79    235.59862\n",
       "80    235.59862\n",
       "81    235.59862\n",
       "82    235.59862\n",
       "83    235.59862\n",
       "dtype: float64"
      ]
     },
     "execution_count": 231,
     "metadata": {},
     "output_type": "execute_result"
    }
   ],
   "source": [
    "simp_pred"
   ]
  },
  {
   "cell_type": "markdown",
   "id": "b0b5151f",
   "metadata": {},
   "source": [
    "## Holts"
   ]
  },
  {
   "cell_type": "code",
   "execution_count": 232,
   "id": "01979870",
   "metadata": {},
   "outputs": [],
   "source": [
    "from statsmodels.tsa.holtwinters import Holt"
   ]
  },
  {
   "cell_type": "code",
   "execution_count": 233,
   "id": "9e02a4d6",
   "metadata": {},
   "outputs": [],
   "source": [
    "hlt=Holt(train['Passengers']).fit(smoothing_level=.1,smoothing_trend=.1)"
   ]
  },
  {
   "cell_type": "code",
   "execution_count": 234,
   "id": "fe87788d",
   "metadata": {},
   "outputs": [],
   "source": [
    "holts_pred=hlt.predict(start=test.index[0],end=test.index[-1])"
   ]
  },
  {
   "cell_type": "code",
   "execution_count": 235,
   "id": "aab35447",
   "metadata": {},
   "outputs": [
    {
     "data": {
      "text/plain": [
       "10.977198428267712"
      ]
     },
     "execution_count": 235,
     "metadata": {},
     "output_type": "execute_result"
    }
   ],
   "source": [
    "hlt_er=mape(holts_pred,test['Passengers'])\n",
    "hlt_er"
   ]
  },
  {
   "cell_type": "markdown",
   "id": "6c45f6fc",
   "metadata": {},
   "source": [
    "## Holts-Winter Additive"
   ]
  },
  {
   "cell_type": "code",
   "execution_count": 236,
   "id": "f31ae1e6",
   "metadata": {},
   "outputs": [],
   "source": [
    "from statsmodels.tsa.holtwinters import ExponentialSmoothing"
   ]
  },
  {
   "cell_type": "code",
   "execution_count": 237,
   "id": "8d9a7ebb",
   "metadata": {},
   "outputs": [],
   "source": [
    "win=ExponentialSmoothing(train['Passengers'],trend='add',seasonal='add',seasonal_periods=26).fit()"
   ]
  },
  {
   "cell_type": "code",
   "execution_count": 238,
   "id": "ea2e4707",
   "metadata": {},
   "outputs": [],
   "source": [
    "win_pred=win.predict(test.index[0],test.index[-1])"
   ]
  },
  {
   "cell_type": "code",
   "execution_count": 239,
   "id": "c80479d4",
   "metadata": {},
   "outputs": [
    {
     "data": {
      "text/plain": [
       "15.907950847338858"
      ]
     },
     "execution_count": 239,
     "metadata": {},
     "output_type": "execute_result"
    }
   ],
   "source": [
    "win_add_er=mape(win_pred,test['Passengers'])\n",
    "win_add_er"
   ]
  },
  {
   "cell_type": "markdown",
   "id": "04324bd9",
   "metadata": {},
   "source": [
    "## Holts-Winter Multipletive"
   ]
  },
  {
   "cell_type": "code",
   "execution_count": 240,
   "id": "b90c0f93",
   "metadata": {},
   "outputs": [],
   "source": [
    "win_mul=ExponentialSmoothing(train['Passengers'],trend='mul',seasonal='mul',seasonal_periods=26).fit()"
   ]
  },
  {
   "cell_type": "code",
   "execution_count": 241,
   "id": "0d1d4d30",
   "metadata": {},
   "outputs": [],
   "source": [
    "win_mul_pred=win_mul.predict(test.index[0],test.index[-1])"
   ]
  },
  {
   "cell_type": "code",
   "execution_count": 242,
   "id": "440e510f",
   "metadata": {},
   "outputs": [],
   "source": [
    "win_mul=mape(win_mul_pred,test['Passengers'])"
   ]
  },
  {
   "cell_type": "code",
   "execution_count": 243,
   "id": "73f6b1e7",
   "metadata": {},
   "outputs": [
    {
     "data": {
      "text/plain": [
       "16.210189092874156"
      ]
     },
     "execution_count": 243,
     "metadata": {},
     "output_type": "execute_result"
    }
   ],
   "source": [
    "win_mul"
   ]
  },
  {
   "cell_type": "markdown",
   "id": "31149857",
   "metadata": {},
   "source": [
    "## ARIMA"
   ]
  },
  {
   "cell_type": "code",
   "execution_count": 244,
   "id": "87305f56",
   "metadata": {},
   "outputs": [],
   "source": [
    "from statsmodels.tsa.arima.model import ARIMA\n",
    "from statsmodels.tsa.stattools import adfuller # with adfuller we can check if the data is stationary or not we can \n",
    "# use hypothisis and check p values lesser than 0.05"
   ]
  },
  {
   "cell_type": "code",
   "execution_count": 245,
   "id": "4cb5d6f7",
   "metadata": {},
   "outputs": [],
   "source": [
    "# grid search ARIMA parameters for a time series\n",
    "import warnings\n",
    "from pandas import read_csv\n",
    "# from statsmodels.tsa.arima_model import ARIMA\n",
    "import statsmodels.api as sm\n",
    "from sklearn.metrics import mean_squared_error\n",
    "from math import sqrt"
   ]
  },
  {
   "cell_type": "code",
   "execution_count": 246,
   "id": "f500bd51",
   "metadata": {},
   "outputs": [
    {
     "data": {
      "text/html": [
       "<div>\n",
       "<style scoped>\n",
       "    .dataframe tbody tr th:only-of-type {\n",
       "        vertical-align: middle;\n",
       "    }\n",
       "\n",
       "    .dataframe tbody tr th {\n",
       "        vertical-align: top;\n",
       "    }\n",
       "\n",
       "    .dataframe thead th {\n",
       "        text-align: right;\n",
       "    }\n",
       "</style>\n",
       "<table border=\"1\" class=\"dataframe\">\n",
       "  <thead>\n",
       "    <tr style=\"text-align: right;\">\n",
       "      <th></th>\n",
       "      <th>Month</th>\n",
       "      <th>Passengers</th>\n",
       "    </tr>\n",
       "  </thead>\n",
       "  <tbody>\n",
       "    <tr>\n",
       "      <th>0</th>\n",
       "      <td>1995-01-01</td>\n",
       "      <td>112.0</td>\n",
       "    </tr>\n",
       "    <tr>\n",
       "      <th>1</th>\n",
       "      <td>1995-02-01</td>\n",
       "      <td>118.0</td>\n",
       "    </tr>\n",
       "    <tr>\n",
       "      <th>2</th>\n",
       "      <td>1995-03-01</td>\n",
       "      <td>132.0</td>\n",
       "    </tr>\n",
       "    <tr>\n",
       "      <th>3</th>\n",
       "      <td>1995-04-01</td>\n",
       "      <td>129.0</td>\n",
       "    </tr>\n",
       "    <tr>\n",
       "      <th>4</th>\n",
       "      <td>1995-05-01</td>\n",
       "      <td>121.0</td>\n",
       "    </tr>\n",
       "    <tr>\n",
       "      <th>...</th>\n",
       "      <td>...</td>\n",
       "      <td>...</td>\n",
       "    </tr>\n",
       "    <tr>\n",
       "      <th>91</th>\n",
       "      <td>2002-08-01</td>\n",
       "      <td>405.0</td>\n",
       "    </tr>\n",
       "    <tr>\n",
       "      <th>92</th>\n",
       "      <td>2002-09-01</td>\n",
       "      <td>355.0</td>\n",
       "    </tr>\n",
       "    <tr>\n",
       "      <th>93</th>\n",
       "      <td>2002-10-01</td>\n",
       "      <td>306.0</td>\n",
       "    </tr>\n",
       "    <tr>\n",
       "      <th>94</th>\n",
       "      <td>2002-11-01</td>\n",
       "      <td>271.0</td>\n",
       "    </tr>\n",
       "    <tr>\n",
       "      <th>95</th>\n",
       "      <td>2002-12-01</td>\n",
       "      <td>306.0</td>\n",
       "    </tr>\n",
       "  </tbody>\n",
       "</table>\n",
       "<p>96 rows × 2 columns</p>\n",
       "</div>"
      ],
      "text/plain": [
       "        Month  Passengers\n",
       "0  1995-01-01       112.0\n",
       "1  1995-02-01       118.0\n",
       "2  1995-03-01       132.0\n",
       "3  1995-04-01       129.0\n",
       "4  1995-05-01       121.0\n",
       "..        ...         ...\n",
       "91 2002-08-01       405.0\n",
       "92 2002-09-01       355.0\n",
       "93 2002-10-01       306.0\n",
       "94 2002-11-01       271.0\n",
       "95 2002-12-01       306.0\n",
       "\n",
       "[96 rows x 2 columns]"
      ]
     },
     "execution_count": 246,
     "metadata": {},
     "output_type": "execute_result"
    }
   ],
   "source": [
    "#splitting data\n",
    "data2=pd.read_excel('Airlines+Data.xlsx',engine='openpyxl')\n",
    "# data2=data2.values\n",
    "data2['Passengers']=data2['Passengers'].astype('float')\n",
    "data2"
   ]
  },
  {
   "cell_type": "code",
   "execution_count": 247,
   "id": "46329d07",
   "metadata": {},
   "outputs": [
    {
     "data": {
      "text/html": [
       "<div>\n",
       "<style scoped>\n",
       "    .dataframe tbody tr th:only-of-type {\n",
       "        vertical-align: middle;\n",
       "    }\n",
       "\n",
       "    .dataframe tbody tr th {\n",
       "        vertical-align: top;\n",
       "    }\n",
       "\n",
       "    .dataframe thead th {\n",
       "        text-align: right;\n",
       "    }\n",
       "</style>\n",
       "<table border=\"1\" class=\"dataframe\">\n",
       "  <thead>\n",
       "    <tr style=\"text-align: right;\">\n",
       "      <th></th>\n",
       "      <th>Month</th>\n",
       "      <th>Passengers</th>\n",
       "    </tr>\n",
       "  </thead>\n",
       "  <tbody>\n",
       "    <tr>\n",
       "      <th>0</th>\n",
       "      <td>1995-01-01</td>\n",
       "      <td>112.0</td>\n",
       "    </tr>\n",
       "    <tr>\n",
       "      <th>1</th>\n",
       "      <td>1995-02-01</td>\n",
       "      <td>118.0</td>\n",
       "    </tr>\n",
       "    <tr>\n",
       "      <th>2</th>\n",
       "      <td>1995-03-01</td>\n",
       "      <td>132.0</td>\n",
       "    </tr>\n",
       "    <tr>\n",
       "      <th>3</th>\n",
       "      <td>1995-04-01</td>\n",
       "      <td>129.0</td>\n",
       "    </tr>\n",
       "    <tr>\n",
       "      <th>4</th>\n",
       "      <td>1995-05-01</td>\n",
       "      <td>121.0</td>\n",
       "    </tr>\n",
       "  </tbody>\n",
       "</table>\n",
       "</div>"
      ],
      "text/plain": [
       "       Month  Passengers\n",
       "0 1995-01-01       112.0\n",
       "1 1995-02-01       118.0\n",
       "2 1995-03-01       132.0\n",
       "3 1995-04-01       129.0\n",
       "4 1995-05-01       121.0"
      ]
     },
     "execution_count": 247,
     "metadata": {},
     "output_type": "execute_result"
    }
   ],
   "source": [
    "data2.head()"
   ]
  },
  {
   "cell_type": "code",
   "execution_count": 248,
   "id": "fe9509f0",
   "metadata": {},
   "outputs": [
    {
     "data": {
      "text/plain": [
       "<AxesSubplot:>"
      ]
     },
     "execution_count": 248,
     "metadata": {},
     "output_type": "execute_result"
    },
    {
     "data": {
      "image/png": "[encoded data removed]",
      "text/plain": [
       "<Figure size 432x288 with 1 Axes>"
      ]
     },
     "metadata": {
      "needs_background": "light"
     },
     "output_type": "display_data"
    }
   ],
   "source": [
    "data2['Passengers'].plot()"
   ]
  },
  {
   "cell_type": "code",
   "execution_count": 249,
   "id": "e06aee00",
   "metadata": {},
   "outputs": [],
   "source": [
    "size=len(data2)-12\n",
    "train=data2[0:size]\n",
    "test=data2[size:]"
   ]
  },
  {
   "cell_type": "code",
   "execution_count": 250,
   "id": "bb5e3bf8",
   "metadata": {},
   "outputs": [
    {
     "name": "stderr",
     "output_type": "stream",
     "text": [
      "C:\\ProgramData\\Anaconda3\\lib\\site-packages\\statsmodels\\graphics\\tsaplots.py:348: FutureWarning: The default method 'yw' can produce PACF values outside of the [-1,1] interval. After 0.13, the default will change tounadjusted Yule-Walker ('ywm'). You can use this method now by setting method='ywm'.\n",
      "  warnings.warn(\n"
     ]
    },
    {
     "data": {
      "image/png": "[encoded data removed]",
      "text/plain": [
       "<Figure size 432x288 with 1 Axes>"
      ]
     },
     "execution_count": 250,
     "metadata": {},
     "output_type": "execute_result"
    },
    {
     "data": {
      "image/png": "[encoded data removed]",
      "text/plain": [
       "<Figure size 432x288 with 1 Axes>"
      ]
     },
     "metadata": {
      "needs_background": "light"
     },
     "output_type": "display_data"
    },
    {
     "data": {
      "image/png": "[encoded data removed]",
      "text/plain": [
       "<Figure size 432x288 with 1 Axes>"
      ]
     },
     "metadata": {
      "needs_background": "light"
     },
     "output_type": "display_data"
    }
   ],
   "source": [
    "plot_acf(data2['Passengers'],lags=26)\n",
    "plot_pacf(data2['Passengers'])"
   ]
  },
  {
   "cell_type": "code",
   "execution_count": 251,
   "id": "f49c63ea",
   "metadata": {},
   "outputs": [
    {
     "data": {
      "text/plain": [
       "(96, 2)"
      ]
     },
     "execution_count": 251,
     "metadata": {},
     "output_type": "execute_result"
    }
   ],
   "source": [
    "data2.shape"
   ]
  },
  {
   "cell_type": "code",
   "execution_count": 252,
   "id": "b45d6a3e",
   "metadata": {},
   "outputs": [],
   "source": [
    "size=len(data2)-36"
   ]
  },
  {
   "cell_type": "code",
   "execution_count": 253,
   "id": "13587cd2",
   "metadata": {},
   "outputs": [
    {
     "data": {
      "text/plain": [
       "(12, 2)"
      ]
     },
     "execution_count": 253,
     "metadata": {},
     "output_type": "execute_result"
    }
   ],
   "source": [
    "train1=data2[0:size]\n",
    "test1=data2[size:]\n",
    "test.shape"
   ]
  },
  {
   "cell_type": "code",
   "execution_count": 254,
   "id": "f6a6beb1",
   "metadata": {},
   "outputs": [
    {
     "data": {
      "text/plain": [
       "60"
      ]
     },
     "execution_count": 254,
     "metadata": {},
     "output_type": "execute_result"
    }
   ],
   "source": [
    "start=test1['Month'].index[0]\n",
    "end=test1['Month'].index[-1]\n",
    "start"
   ]
  },
  {
   "cell_type": "code",
   "execution_count": 255,
   "id": "3a3565c8",
   "metadata": {},
   "outputs": [],
   "source": [
    "from statsmodels.tsa.arima.model import ARIMA\n",
    "from statsmodels.graphics.tsaplots import plot_predict"
   ]
  },
  {
   "cell_type": "code",
   "execution_count": 256,
   "id": "47cfdb3e",
   "metadata": {},
   "outputs": [
    {
     "name": "stderr",
     "output_type": "stream",
     "text": [
      "C:\\ProgramData\\Anaconda3\\lib\\site-packages\\statsmodels\\base\\model.py:604: ConvergenceWarning: Maximum Likelihood optimization failed to converge. Check mle_retvals\n",
      "  warnings.warn(\"Maximum Likelihood optimization failed to \"\n"
     ]
    }
   ],
   "source": [
    "ar=ARIMA(train1['Passengers'],order=(3,0,7))\n",
    "model=ar.fit()"
   ]
  },
  {
   "cell_type": "code",
   "execution_count": 257,
   "id": "dab0e349",
   "metadata": {},
   "outputs": [],
   "source": [
    "pred=model.predict(start=start, end=end)"
   ]
  },
  {
   "cell_type": "code",
   "execution_count": 258,
   "id": "40461087",
   "metadata": {},
   "outputs": [
    {
     "data": {
      "image/png": "[encoded data removed]",
      "text/plain": [
       "<Figure size 432x288 with 1 Axes>"
      ]
     },
     "execution_count": 258,
     "metadata": {},
     "output_type": "execute_result"
    },
    {
     "data": {
      "image/png": "[encoded data removed]",
      "text/plain": [
       "<Figure size 432x288 with 1 Axes>"
      ]
     },
     "metadata": {
      "needs_background": "light"
     },
     "output_type": "display_data"
    }
   ],
   "source": [
    "plot_predict(model,test1['Month'].index[0],test1['Month'].index[-1])"
   ]
  },
  {
   "cell_type": "code",
   "execution_count": 259,
   "id": "7e98329e",
   "metadata": {},
   "outputs": [],
   "source": [
    "from sklearn.metrics import mean_squared_error"
   ]
  },
  {
   "cell_type": "code",
   "execution_count": 260,
   "id": "b73e4ba3",
   "metadata": {},
   "outputs": [],
   "source": [
    "rmse_arima=np.sqrt(mean_squared_error(test1['Passengers'],pred))"
   ]
  },
  {
   "cell_type": "code",
   "execution_count": 261,
   "id": "3614d93f",
   "metadata": {},
   "outputs": [
    {
     "data": {
      "text/plain": [
       "108.23393645749364"
      ]
     },
     "execution_count": 261,
     "metadata": {},
     "output_type": "execute_result"
    }
   ],
   "source": [
    "rmse_arima"
   ]
  },
  {
   "cell_type": "code",
   "execution_count": 262,
   "id": "98e7b640",
   "metadata": {},
   "outputs": [
    {
     "data": {
      "text/plain": [
       "<AxesSubplot:ylabel='Density'>"
      ]
     },
     "execution_count": 262,
     "metadata": {},
     "output_type": "execute_result"
    },
    {
     "data": {
      "image/png": "[encoded data removed]",
      "text/plain": [
       "<Figure size 432x288 with 1 Axes>"
      ]
     },
     "metadata": {
      "needs_background": "light"
     },
     "output_type": "display_data"
    }
   ],
   "source": [
    "model.resid.plot(kind='kde')"
   ]
  },
  {
   "cell_type": "code",
   "execution_count": 263,
   "id": "3bc8afd8",
   "metadata": {},
   "outputs": [
    {
     "name": "stderr",
     "output_type": "stream",
     "text": [
      "C:\\Users\\Ashutosh\\AppData\\Local\\Temp\\ipykernel_4056\\248395449.py:1: SettingWithCopyWarning: \n",
      "A value is trying to be set on a copy of a slice from a DataFrame.\n",
      "Try using .loc[row_indexer,col_indexer] = value instead\n",
      "\n",
      "See the caveats in the documentation: https://pandas.pydata.org/pandas-docs/stable/user_guide/indexing.html#returning-a-view-versus-a-copy\n",
      "  test1['pred']=pred\n"
     ]
    }
   ],
   "source": [
    "test1['pred']=pred"
   ]
  },
  {
   "cell_type": "code",
   "execution_count": 264,
   "id": "f31523b2",
   "metadata": {},
   "outputs": [
    {
     "data": {
      "text/plain": [
       "<AxesSubplot:>"
      ]
     },
     "execution_count": 264,
     "metadata": {},
     "output_type": "execute_result"
    },
    {
     "data": {
      "image/png": "[encoded data removed]",
      "text/plain": [
       "<Figure size 432x288 with 1 Axes>"
      ]
     },
     "metadata": {
      "needs_background": "light"
     },
     "output_type": "display_data"
    }
   ],
   "source": [
    "test1[['Passengers','pred']].plot()"
   ]
  },
  {
   "cell_type": "code",
   "execution_count": 265,
   "id": "ed17920c",
   "metadata": {},
   "outputs": [],
   "source": [
    "from statsmodels.tsa.statespace.sarimax import SARIMAX"
   ]
  },
  {
   "cell_type": "code",
   "execution_count": 266,
   "id": "c527da02",
   "metadata": {},
   "outputs": [],
   "source": [
    "sari=SARIMAX(train1['Passengers'],order=(2,0,7),seasonal_order=(0,1,0,12))\n",
    "model_sarima=sari.fit()"
   ]
  },
  {
   "cell_type": "code",
   "execution_count": 267,
   "id": "d9eb9c2e",
   "metadata": {},
   "outputs": [],
   "source": [
    "pred=model_sarima.predict(start=start,end=end)"
   ]
  },
  {
   "cell_type": "code",
   "execution_count": 268,
   "id": "3a1b083f",
   "metadata": {},
   "outputs": [
    {
     "data": {
      "image/png": "[encoded data removed]",
      "text/plain": [
       "<Figure size 432x288 with 1 Axes>"
      ]
     },
     "execution_count": 268,
     "metadata": {},
     "output_type": "execute_result"
    },
    {
     "data": {
      "image/png": "[encoded data removed]",
      "text/plain": [
       "<Figure size 432x288 with 1 Axes>"
      ]
     },
     "metadata": {
      "needs_background": "light"
     },
     "output_type": "display_data"
    }
   ],
   "source": [
    "plot_predict(model_sarima,start,end)"
   ]
  },
  {
   "cell_type": "code",
   "execution_count": 269,
   "id": "4924df8c",
   "metadata": {},
   "outputs": [
    {
     "name": "stderr",
     "output_type": "stream",
     "text": [
      "C:\\Users\\Ashutosh\\AppData\\Local\\Temp\\ipykernel_4056\\4159305991.py:1: SettingWithCopyWarning: \n",
      "A value is trying to be set on a copy of a slice from a DataFrame.\n",
      "Try using .loc[row_indexer,col_indexer] = value instead\n",
      "\n",
      "See the caveats in the documentation: https://pandas.pydata.org/pandas-docs/stable/user_guide/indexing.html#returning-a-view-versus-a-copy\n",
      "  test1['sari']=pred\n"
     ]
    }
   ],
   "source": [
    "test1['sari']=pred"
   ]
  },
  {
   "cell_type": "code",
   "execution_count": 270,
   "id": "d0a7d33b",
   "metadata": {},
   "outputs": [
    {
     "data": {
      "text/plain": [
       "<AxesSubplot:>"
      ]
     },
     "execution_count": 270,
     "metadata": {},
     "output_type": "execute_result"
    },
    {
     "data": {
      "image/png": "[encoded data removed]",
      "text/plain": [
       "<Figure size 432x288 with 1 Axes>"
      ]
     },
     "metadata": {
      "needs_background": "light"
     },
     "output_type": "display_data"
    }
   ],
   "source": [
    "test1[['Passengers','sari']].plot()"
   ]
  },
  {
   "cell_type": "code",
   "execution_count": 271,
   "id": "02b2c335",
   "metadata": {},
   "outputs": [
    {
     "data": {
      "text/plain": [
       "49.05595178050342"
      ]
     },
     "execution_count": 271,
     "metadata": {},
     "output_type": "execute_result"
    }
   ],
   "source": [
    "rmse_sari=np.sqrt(mean_squared_error(test1['Passengers'],pred))\n",
    "rmse_sari"
   ]
  },
  {
   "cell_type": "markdown",
   "id": "ddaa6ea4",
   "metadata": {},
   "source": [
    "#### as per the line plot we can see the trend is upward and multiplicative seasonality there so the minimum rmse we also got from mulitiplicative additive seasonality"
   ]
  },
  {
   "cell_type": "code",
   "execution_count": 272,
   "id": "84c421f7",
   "metadata": {},
   "outputs": [],
   "source": [
    "error={'models':(['rmse_linear','rmse_expo','rmse_qua','rmse_add_s','rmse_add_s_q','rmse_multi_s','rmse_mult_add_s','simple_smoot','rmse_ARIMA','rmse_SARIMA']),'rmse_score':([rmse_linear,rmse_expo,rmse_qua,rmse_add_s,rmse_add_s_q,rmse_multi_s,rmse_mult_add_s,ses_er,rmse_arima,rmse_sari])}"
   ]
  },
  {
   "cell_type": "code",
   "execution_count": 273,
   "id": "7a72d9a1",
   "metadata": {},
   "outputs": [],
   "source": [
    "models_error=pd.DataFrame(error)"
   ]
  },
  {
   "cell_type": "code",
   "execution_count": 274,
   "id": "3f85fdfa",
   "metadata": {},
   "outputs": [
    {
     "data": {
      "text/html": [
       "<div>\n",
       "<style scoped>\n",
       "    .dataframe tbody tr th:only-of-type {\n",
       "        vertical-align: middle;\n",
       "    }\n",
       "\n",
       "    .dataframe tbody tr th {\n",
       "        vertical-align: top;\n",
       "    }\n",
       "\n",
       "    .dataframe thead th {\n",
       "        text-align: right;\n",
       "    }\n",
       "</style>\n",
       "<table border=\"1\" class=\"dataframe\">\n",
       "  <thead>\n",
       "    <tr style=\"text-align: right;\">\n",
       "      <th></th>\n",
       "      <th>models</th>\n",
       "      <th>rmse_score</th>\n",
       "    </tr>\n",
       "  </thead>\n",
       "  <tbody>\n",
       "    <tr>\n",
       "      <th>0</th>\n",
       "      <td>rmse_linear</td>\n",
       "      <td>17.812300</td>\n",
       "    </tr>\n",
       "    <tr>\n",
       "      <th>1</th>\n",
       "      <td>rmse_expo</td>\n",
       "      <td>0.002000</td>\n",
       "    </tr>\n",
       "    <tr>\n",
       "      <th>2</th>\n",
       "      <td>rmse_qua</td>\n",
       "      <td>3.544000</td>\n",
       "    </tr>\n",
       "    <tr>\n",
       "      <th>3</th>\n",
       "      <td>rmse_add_s</td>\n",
       "      <td>70.292000</td>\n",
       "    </tr>\n",
       "    <tr>\n",
       "      <th>4</th>\n",
       "      <td>rmse_add_s_q</td>\n",
       "      <td>0.661000</td>\n",
       "    </tr>\n",
       "    <tr>\n",
       "      <th>5</th>\n",
       "      <td>rmse_multi_s</td>\n",
       "      <td>208.069000</td>\n",
       "    </tr>\n",
       "    <tr>\n",
       "      <th>6</th>\n",
       "      <td>rmse_mult_add_s</td>\n",
       "      <td>0.007000</td>\n",
       "    </tr>\n",
       "    <tr>\n",
       "      <th>7</th>\n",
       "      <td>simple_smoot</td>\n",
       "      <td>15.634315</td>\n",
       "    </tr>\n",
       "    <tr>\n",
       "      <th>8</th>\n",
       "      <td>rmse_ARIMA</td>\n",
       "      <td>108.233936</td>\n",
       "    </tr>\n",
       "    <tr>\n",
       "      <th>9</th>\n",
       "      <td>rmse_SARIMA</td>\n",
       "      <td>49.055952</td>\n",
       "    </tr>\n",
       "  </tbody>\n",
       "</table>\n",
       "</div>"
      ],
      "text/plain": [
       "            models  rmse_score\n",
       "0      rmse_linear   17.812300\n",
       "1        rmse_expo    0.002000\n",
       "2         rmse_qua    3.544000\n",
       "3       rmse_add_s   70.292000\n",
       "4     rmse_add_s_q    0.661000\n",
       "5     rmse_multi_s  208.069000\n",
       "6  rmse_mult_add_s    0.007000\n",
       "7     simple_smoot   15.634315\n",
       "8       rmse_ARIMA  108.233936\n",
       "9      rmse_SARIMA   49.055952"
      ]
     },
     "execution_count": 274,
     "metadata": {},
     "output_type": "execute_result"
    }
   ],
   "source": [
    "models_error"
   ]
  },
  {
   "cell_type": "code",
   "execution_count": 289,
   "id": "9ffb782d",
   "metadata": {},
   "outputs": [],
   "source": [
    "# now we are using additive seasonality"
   ]
  },
  {
   "cell_type": "code",
   "execution_count": 290,
   "id": "c66e2cc1",
   "metadata": {},
   "outputs": [],
   "source": [
    "pred1=add_s_q.predict(test[['t','sqrt','jan','mar','apr','may','jun','jul','aug','sep','oct','nov','dec']])\n",
    "pred2=add_s_q.predict(val[['t','sqrt','jan','mar','apr','may','jun','jul','aug','sep','oct','nov','dec']])"
   ]
  },
  {
   "cell_type": "code",
   "execution_count": 291,
   "id": "8ae84e01",
   "metadata": {},
   "outputs": [
    {
     "name": "stderr",
     "output_type": "stream",
     "text": [
      "C:\\Users\\Ashutosh\\AppData\\Local\\Temp\\ipykernel_4056\\635587459.py:1: SettingWithCopyWarning: \n",
      "A value is trying to be set on a copy of a slice from a DataFrame.\n",
      "Try using .loc[row_indexer,col_indexer] = value instead\n",
      "\n",
      "See the caveats in the documentation: https://pandas.pydata.org/pandas-docs/stable/user_guide/indexing.html#returning-a-view-versus-a-copy\n",
      "  test['pred']=pred1\n",
      "C:\\Users\\Ashutosh\\AppData\\Local\\Temp\\ipykernel_4056\\635587459.py:2: SettingWithCopyWarning: \n",
      "A value is trying to be set on a copy of a slice from a DataFrame.\n",
      "Try using .loc[row_indexer,col_indexer] = value instead\n",
      "\n",
      "See the caveats in the documentation: https://pandas.pydata.org/pandas-docs/stable/user_guide/indexing.html#returning-a-view-versus-a-copy\n",
      "  val['pred']=pred2\n"
     ]
    }
   ],
   "source": [
    "test['pred']=pred1\n",
    "val['pred']=pred2"
   ]
  },
  {
   "cell_type": "code",
   "execution_count": 292,
   "id": "ef9ebd3a",
   "metadata": {},
   "outputs": [
    {
     "data": {
      "text/html": [
       "<div>\n",
       "<style scoped>\n",
       "    .dataframe tbody tr th:only-of-type {\n",
       "        vertical-align: middle;\n",
       "    }\n",
       "\n",
       "    .dataframe tbody tr th {\n",
       "        vertical-align: top;\n",
       "    }\n",
       "\n",
       "    .dataframe thead th {\n",
       "        text-align: right;\n",
       "    }\n",
       "</style>\n",
       "<table border=\"1\" class=\"dataframe\">\n",
       "  <thead>\n",
       "    <tr style=\"text-align: right;\">\n",
       "      <th></th>\n",
       "      <th>Month</th>\n",
       "      <th>Passengers</th>\n",
       "      <th>t</th>\n",
       "      <th>months</th>\n",
       "      <th>log</th>\n",
       "      <th>sqrt</th>\n",
       "      <th>apr</th>\n",
       "      <th>aug</th>\n",
       "      <th>dec</th>\n",
       "      <th>feb</th>\n",
       "      <th>jan</th>\n",
       "      <th>jul</th>\n",
       "      <th>jun</th>\n",
       "      <th>mar</th>\n",
       "      <th>may</th>\n",
       "      <th>nov</th>\n",
       "      <th>oct</th>\n",
       "      <th>sep</th>\n",
       "      <th>pred</th>\n",
       "    </tr>\n",
       "  </thead>\n",
       "  <tbody>\n",
       "    <tr>\n",
       "      <th>72</th>\n",
       "      <td>Jan-01</td>\n",
       "      <td>242</td>\n",
       "      <td>73</td>\n",
       "      <td>Jan</td>\n",
       "      <td>5.488938</td>\n",
       "      <td>15.556349</td>\n",
       "      <td>0</td>\n",
       "      <td>0</td>\n",
       "      <td>0</td>\n",
       "      <td>0</td>\n",
       "      <td>1</td>\n",
       "      <td>0</td>\n",
       "      <td>0</td>\n",
       "      <td>0</td>\n",
       "      <td>0</td>\n",
       "      <td>0</td>\n",
       "      <td>0</td>\n",
       "      <td>0</td>\n",
       "      <td>244.458055</td>\n",
       "    </tr>\n",
       "    <tr>\n",
       "      <th>73</th>\n",
       "      <td>Feb-01</td>\n",
       "      <td>233</td>\n",
       "      <td>74</td>\n",
       "      <td>Feb</td>\n",
       "      <td>5.451038</td>\n",
       "      <td>15.264338</td>\n",
       "      <td>0</td>\n",
       "      <td>0</td>\n",
       "      <td>0</td>\n",
       "      <td>1</td>\n",
       "      <td>0</td>\n",
       "      <td>0</td>\n",
       "      <td>0</td>\n",
       "      <td>0</td>\n",
       "      <td>0</td>\n",
       "      <td>0</td>\n",
       "      <td>0</td>\n",
       "      <td>0</td>\n",
       "      <td>231.687786</td>\n",
       "    </tr>\n",
       "    <tr>\n",
       "      <th>74</th>\n",
       "      <td>Mar-01</td>\n",
       "      <td>267</td>\n",
       "      <td>75</td>\n",
       "      <td>Mar</td>\n",
       "      <td>5.587249</td>\n",
       "      <td>16.340135</td>\n",
       "      <td>0</td>\n",
       "      <td>0</td>\n",
       "      <td>0</td>\n",
       "      <td>0</td>\n",
       "      <td>0</td>\n",
       "      <td>0</td>\n",
       "      <td>0</td>\n",
       "      <td>1</td>\n",
       "      <td>0</td>\n",
       "      <td>0</td>\n",
       "      <td>0</td>\n",
       "      <td>0</td>\n",
       "      <td>263.212592</td>\n",
       "    </tr>\n",
       "    <tr>\n",
       "      <th>75</th>\n",
       "      <td>Apr-01</td>\n",
       "      <td>269</td>\n",
       "      <td>76</td>\n",
       "      <td>Apr</td>\n",
       "      <td>5.594711</td>\n",
       "      <td>16.401219</td>\n",
       "      <td>1</td>\n",
       "      <td>0</td>\n",
       "      <td>0</td>\n",
       "      <td>0</td>\n",
       "      <td>0</td>\n",
       "      <td>0</td>\n",
       "      <td>0</td>\n",
       "      <td>0</td>\n",
       "      <td>0</td>\n",
       "      <td>0</td>\n",
       "      <td>0</td>\n",
       "      <td>0</td>\n",
       "      <td>268.254720</td>\n",
       "    </tr>\n",
       "    <tr>\n",
       "      <th>76</th>\n",
       "      <td>May-01</td>\n",
       "      <td>270</td>\n",
       "      <td>77</td>\n",
       "      <td>May</td>\n",
       "      <td>5.598422</td>\n",
       "      <td>16.431677</td>\n",
       "      <td>0</td>\n",
       "      <td>0</td>\n",
       "      <td>0</td>\n",
       "      <td>0</td>\n",
       "      <td>0</td>\n",
       "      <td>0</td>\n",
       "      <td>0</td>\n",
       "      <td>0</td>\n",
       "      <td>1</td>\n",
       "      <td>0</td>\n",
       "      <td>0</td>\n",
       "      <td>0</td>\n",
       "      <td>270.273262</td>\n",
       "    </tr>\n",
       "    <tr>\n",
       "      <th>77</th>\n",
       "      <td>Jun-01</td>\n",
       "      <td>315</td>\n",
       "      <td>78</td>\n",
       "      <td>Jun</td>\n",
       "      <td>5.752573</td>\n",
       "      <td>17.748239</td>\n",
       "      <td>0</td>\n",
       "      <td>0</td>\n",
       "      <td>0</td>\n",
       "      <td>0</td>\n",
       "      <td>0</td>\n",
       "      <td>0</td>\n",
       "      <td>1</td>\n",
       "      <td>0</td>\n",
       "      <td>0</td>\n",
       "      <td>0</td>\n",
       "      <td>0</td>\n",
       "      <td>0</td>\n",
       "      <td>313.865440</td>\n",
       "    </tr>\n",
       "    <tr>\n",
       "      <th>78</th>\n",
       "      <td>Jul-01</td>\n",
       "      <td>364</td>\n",
       "      <td>79</td>\n",
       "      <td>Jul</td>\n",
       "      <td>5.897154</td>\n",
       "      <td>19.078784</td>\n",
       "      <td>0</td>\n",
       "      <td>0</td>\n",
       "      <td>0</td>\n",
       "      <td>0</td>\n",
       "      <td>0</td>\n",
       "      <td>1</td>\n",
       "      <td>0</td>\n",
       "      <td>0</td>\n",
       "      <td>0</td>\n",
       "      <td>0</td>\n",
       "      <td>0</td>\n",
       "      <td>0</td>\n",
       "      <td>360.126682</td>\n",
       "    </tr>\n",
       "    <tr>\n",
       "      <th>79</th>\n",
       "      <td>Aug-01</td>\n",
       "      <td>347</td>\n",
       "      <td>80</td>\n",
       "      <td>Aug</td>\n",
       "      <td>5.849325</td>\n",
       "      <td>18.627936</td>\n",
       "      <td>0</td>\n",
       "      <td>1</td>\n",
       "      <td>0</td>\n",
       "      <td>0</td>\n",
       "      <td>0</td>\n",
       "      <td>0</td>\n",
       "      <td>0</td>\n",
       "      <td>0</td>\n",
       "      <td>0</td>\n",
       "      <td>0</td>\n",
       "      <td>0</td>\n",
       "      <td>0</td>\n",
       "      <td>342.108175</td>\n",
       "    </tr>\n",
       "    <tr>\n",
       "      <th>80</th>\n",
       "      <td>Sep-01</td>\n",
       "      <td>312</td>\n",
       "      <td>81</td>\n",
       "      <td>Sep</td>\n",
       "      <td>5.743003</td>\n",
       "      <td>17.663522</td>\n",
       "      <td>0</td>\n",
       "      <td>0</td>\n",
       "      <td>0</td>\n",
       "      <td>0</td>\n",
       "      <td>0</td>\n",
       "      <td>0</td>\n",
       "      <td>0</td>\n",
       "      <td>0</td>\n",
       "      <td>0</td>\n",
       "      <td>0</td>\n",
       "      <td>0</td>\n",
       "      <td>1</td>\n",
       "      <td>310.281773</td>\n",
       "    </tr>\n",
       "    <tr>\n",
       "      <th>81</th>\n",
       "      <td>Oct-01</td>\n",
       "      <td>274</td>\n",
       "      <td>82</td>\n",
       "      <td>Oct</td>\n",
       "      <td>5.613128</td>\n",
       "      <td>16.552945</td>\n",
       "      <td>0</td>\n",
       "      <td>0</td>\n",
       "      <td>0</td>\n",
       "      <td>0</td>\n",
       "      <td>0</td>\n",
       "      <td>0</td>\n",
       "      <td>0</td>\n",
       "      <td>0</td>\n",
       "      <td>0</td>\n",
       "      <td>0</td>\n",
       "      <td>1</td>\n",
       "      <td>0</td>\n",
       "      <td>275.653537</td>\n",
       "    </tr>\n",
       "    <tr>\n",
       "      <th>82</th>\n",
       "      <td>Nov-01</td>\n",
       "      <td>237</td>\n",
       "      <td>83</td>\n",
       "      <td>Nov</td>\n",
       "      <td>5.468060</td>\n",
       "      <td>15.394804</td>\n",
       "      <td>0</td>\n",
       "      <td>0</td>\n",
       "      <td>0</td>\n",
       "      <td>0</td>\n",
       "      <td>0</td>\n",
       "      <td>0</td>\n",
       "      <td>0</td>\n",
       "      <td>0</td>\n",
       "      <td>0</td>\n",
       "      <td>1</td>\n",
       "      <td>0</td>\n",
       "      <td>0</td>\n",
       "      <td>240.331514</td>\n",
       "    </tr>\n",
       "    <tr>\n",
       "      <th>83</th>\n",
       "      <td>Dec-01</td>\n",
       "      <td>278</td>\n",
       "      <td>84</td>\n",
       "      <td>Dec</td>\n",
       "      <td>5.627621</td>\n",
       "      <td>16.673332</td>\n",
       "      <td>0</td>\n",
       "      <td>0</td>\n",
       "      <td>1</td>\n",
       "      <td>0</td>\n",
       "      <td>0</td>\n",
       "      <td>0</td>\n",
       "      <td>0</td>\n",
       "      <td>0</td>\n",
       "      <td>0</td>\n",
       "      <td>0</td>\n",
       "      <td>0</td>\n",
       "      <td>0</td>\n",
       "      <td>279.814980</td>\n",
       "    </tr>\n",
       "  </tbody>\n",
       "</table>\n",
       "</div>"
      ],
      "text/plain": [
       "     Month  Passengers   t months       log       sqrt  apr  aug  dec  feb  \\\n",
       "72  Jan-01         242  73    Jan  5.488938  15.556349    0    0    0    0   \n",
       "73  Feb-01         233  74    Feb  5.451038  15.264338    0    0    0    1   \n",
       "74  Mar-01         267  75    Mar  5.587249  16.340135    0    0    0    0   \n",
       "75  Apr-01         269  76    Apr  5.594711  16.401219    1    0    0    0   \n",
       "76  May-01         270  77    May  5.598422  16.431677    0    0    0    0   \n",
       "77  Jun-01         315  78    Jun  5.752573  17.748239    0    0    0    0   \n",
       "78  Jul-01         364  79    Jul  5.897154  19.078784    0    0    0    0   \n",
       "79  Aug-01         347  80    Aug  5.849325  18.627936    0    1    0    0   \n",
       "80  Sep-01         312  81    Sep  5.743003  17.663522    0    0    0    0   \n",
       "81  Oct-01         274  82    Oct  5.613128  16.552945    0    0    0    0   \n",
       "82  Nov-01         237  83    Nov  5.468060  15.394804    0    0    0    0   \n",
       "83  Dec-01         278  84    Dec  5.627621  16.673332    0    0    1    0   \n",
       "\n",
       "    jan  jul  jun  mar  may  nov  oct  sep        pred  \n",
       "72    1    0    0    0    0    0    0    0  244.458055  \n",
       "73    0    0    0    0    0    0    0    0  231.687786  \n",
       "74    0    0    0    1    0    0    0    0  263.212592  \n",
       "75    0    0    0    0    0    0    0    0  268.254720  \n",
       "76    0    0    0    0    1    0    0    0  270.273262  \n",
       "77    0    0    1    0    0    0    0    0  313.865440  \n",
       "78    0    1    0    0    0    0    0    0  360.126682  \n",
       "79    0    0    0    0    0    0    0    0  342.108175  \n",
       "80    0    0    0    0    0    0    0    1  310.281773  \n",
       "81    0    0    0    0    0    0    1    0  275.653537  \n",
       "82    0    0    0    0    0    1    0    0  240.331514  \n",
       "83    0    0    0    0    0    0    0    0  279.814980  "
      ]
     },
     "execution_count": 292,
     "metadata": {},
     "output_type": "execute_result"
    }
   ],
   "source": [
    "test"
   ]
  },
  {
   "cell_type": "code",
   "execution_count": 293,
   "id": "6ebb7e8c",
   "metadata": {},
   "outputs": [
    {
     "data": {
      "text/plain": [
       "<AxesSubplot:>"
      ]
     },
     "execution_count": 293,
     "metadata": {},
     "output_type": "execute_result"
    },
    {
     "data": {
      "image/png": "[encoded data removed]",
      "text/plain": [
       "<Figure size 432x288 with 1 Axes>"
      ]
     },
     "metadata": {
      "needs_background": "light"
     },
     "output_type": "display_data"
    }
   ],
   "source": [
    "val[['Passengers','pred']].plot()"
   ]
  },
  {
   "cell_type": "code",
   "execution_count": 294,
   "id": "0923a610",
   "metadata": {},
   "outputs": [
    {
     "data": {
      "text/html": [
       "<div>\n",
       "<style scoped>\n",
       "    .dataframe tbody tr th:only-of-type {\n",
       "        vertical-align: middle;\n",
       "    }\n",
       "\n",
       "    .dataframe tbody tr th {\n",
       "        vertical-align: top;\n",
       "    }\n",
       "\n",
       "    .dataframe thead th {\n",
       "        text-align: right;\n",
       "    }\n",
       "</style>\n",
       "<table border=\"1\" class=\"dataframe\">\n",
       "  <thead>\n",
       "    <tr style=\"text-align: right;\">\n",
       "      <th></th>\n",
       "      <th>Month</th>\n",
       "      <th>Passengers</th>\n",
       "      <th>t</th>\n",
       "      <th>months</th>\n",
       "      <th>log</th>\n",
       "      <th>sqrt</th>\n",
       "      <th>apr</th>\n",
       "      <th>aug</th>\n",
       "      <th>dec</th>\n",
       "      <th>feb</th>\n",
       "      <th>jan</th>\n",
       "      <th>jul</th>\n",
       "      <th>jun</th>\n",
       "      <th>mar</th>\n",
       "      <th>may</th>\n",
       "      <th>nov</th>\n",
       "      <th>oct</th>\n",
       "      <th>sep</th>\n",
       "      <th>pred</th>\n",
       "    </tr>\n",
       "  </thead>\n",
       "  <tbody>\n",
       "    <tr>\n",
       "      <th>84</th>\n",
       "      <td>Jan-02</td>\n",
       "      <td>284</td>\n",
       "      <td>85</td>\n",
       "      <td>Jan</td>\n",
       "      <td>5.648974</td>\n",
       "      <td>16.852300</td>\n",
       "      <td>0</td>\n",
       "      <td>0</td>\n",
       "      <td>0</td>\n",
       "      <td>0</td>\n",
       "      <td>1</td>\n",
       "      <td>0</td>\n",
       "      <td>0</td>\n",
       "      <td>0</td>\n",
       "      <td>0</td>\n",
       "      <td>0</td>\n",
       "      <td>0</td>\n",
       "      <td>0</td>\n",
       "      <td>285.556515</td>\n",
       "    </tr>\n",
       "    <tr>\n",
       "      <th>85</th>\n",
       "      <td>Feb-02</td>\n",
       "      <td>277</td>\n",
       "      <td>86</td>\n",
       "      <td>Feb</td>\n",
       "      <td>5.624018</td>\n",
       "      <td>16.643317</td>\n",
       "      <td>0</td>\n",
       "      <td>0</td>\n",
       "      <td>0</td>\n",
       "      <td>1</td>\n",
       "      <td>0</td>\n",
       "      <td>0</td>\n",
       "      <td>0</td>\n",
       "      <td>0</td>\n",
       "      <td>0</td>\n",
       "      <td>0</td>\n",
       "      <td>0</td>\n",
       "      <td>0</td>\n",
       "      <td>276.029185</td>\n",
       "    </tr>\n",
       "    <tr>\n",
       "      <th>86</th>\n",
       "      <td>Mar-02</td>\n",
       "      <td>317</td>\n",
       "      <td>87</td>\n",
       "      <td>Mar</td>\n",
       "      <td>5.758902</td>\n",
       "      <td>17.804494</td>\n",
       "      <td>0</td>\n",
       "      <td>0</td>\n",
       "      <td>0</td>\n",
       "      <td>0</td>\n",
       "      <td>0</td>\n",
       "      <td>0</td>\n",
       "      <td>0</td>\n",
       "      <td>1</td>\n",
       "      <td>0</td>\n",
       "      <td>0</td>\n",
       "      <td>0</td>\n",
       "      <td>0</td>\n",
       "      <td>310.888740</td>\n",
       "    </tr>\n",
       "    <tr>\n",
       "      <th>87</th>\n",
       "      <td>Apr-02</td>\n",
       "      <td>313</td>\n",
       "      <td>88</td>\n",
       "      <td>Apr</td>\n",
       "      <td>5.746203</td>\n",
       "      <td>17.691806</td>\n",
       "      <td>1</td>\n",
       "      <td>0</td>\n",
       "      <td>0</td>\n",
       "      <td>0</td>\n",
       "      <td>0</td>\n",
       "      <td>0</td>\n",
       "      <td>0</td>\n",
       "      <td>0</td>\n",
       "      <td>0</td>\n",
       "      <td>0</td>\n",
       "      <td>0</td>\n",
       "      <td>0</td>\n",
       "      <td>309.143681</td>\n",
       "    </tr>\n",
       "    <tr>\n",
       "      <th>88</th>\n",
       "      <td>May-02</td>\n",
       "      <td>318</td>\n",
       "      <td>89</td>\n",
       "      <td>May</td>\n",
       "      <td>5.762051</td>\n",
       "      <td>17.832555</td>\n",
       "      <td>0</td>\n",
       "      <td>0</td>\n",
       "      <td>0</td>\n",
       "      <td>0</td>\n",
       "      <td>0</td>\n",
       "      <td>0</td>\n",
       "      <td>0</td>\n",
       "      <td>0</td>\n",
       "      <td>1</td>\n",
       "      <td>0</td>\n",
       "      <td>0</td>\n",
       "      <td>0</td>\n",
       "      <td>315.469963</td>\n",
       "    </tr>\n",
       "    <tr>\n",
       "      <th>89</th>\n",
       "      <td>Jun-02</td>\n",
       "      <td>374</td>\n",
       "      <td>90</td>\n",
       "      <td>Jun</td>\n",
       "      <td>5.924256</td>\n",
       "      <td>19.339080</td>\n",
       "      <td>0</td>\n",
       "      <td>0</td>\n",
       "      <td>0</td>\n",
       "      <td>0</td>\n",
       "      <td>0</td>\n",
       "      <td>0</td>\n",
       "      <td>1</td>\n",
       "      <td>0</td>\n",
       "      <td>0</td>\n",
       "      <td>0</td>\n",
       "      <td>0</td>\n",
       "      <td>0</td>\n",
       "      <td>366.481669</td>\n",
       "    </tr>\n",
       "    <tr>\n",
       "      <th>90</th>\n",
       "      <td>Jul-02</td>\n",
       "      <td>413</td>\n",
       "      <td>91</td>\n",
       "      <td>Jul</td>\n",
       "      <td>6.023448</td>\n",
       "      <td>20.322401</td>\n",
       "      <td>0</td>\n",
       "      <td>0</td>\n",
       "      <td>0</td>\n",
       "      <td>0</td>\n",
       "      <td>0</td>\n",
       "      <td>1</td>\n",
       "      <td>0</td>\n",
       "      <td>0</td>\n",
       "      <td>0</td>\n",
       "      <td>0</td>\n",
       "      <td>0</td>\n",
       "      <td>0</td>\n",
       "      <td>399.181129</td>\n",
       "    </tr>\n",
       "    <tr>\n",
       "      <th>91</th>\n",
       "      <td>Aug-02</td>\n",
       "      <td>405</td>\n",
       "      <td>92</td>\n",
       "      <td>Aug</td>\n",
       "      <td>6.003887</td>\n",
       "      <td>20.124612</td>\n",
       "      <td>0</td>\n",
       "      <td>1</td>\n",
       "      <td>0</td>\n",
       "      <td>0</td>\n",
       "      <td>0</td>\n",
       "      <td>0</td>\n",
       "      <td>0</td>\n",
       "      <td>0</td>\n",
       "      <td>0</td>\n",
       "      <td>0</td>\n",
       "      <td>0</td>\n",
       "      <td>0</td>\n",
       "      <td>391.046541</td>\n",
       "    </tr>\n",
       "    <tr>\n",
       "      <th>92</th>\n",
       "      <td>Sep-02</td>\n",
       "      <td>355</td>\n",
       "      <td>93</td>\n",
       "      <td>Sep</td>\n",
       "      <td>5.872118</td>\n",
       "      <td>18.841444</td>\n",
       "      <td>0</td>\n",
       "      <td>0</td>\n",
       "      <td>0</td>\n",
       "      <td>0</td>\n",
       "      <td>0</td>\n",
       "      <td>0</td>\n",
       "      <td>0</td>\n",
       "      <td>0</td>\n",
       "      <td>0</td>\n",
       "      <td>0</td>\n",
       "      <td>0</td>\n",
       "      <td>1</td>\n",
       "      <td>346.770296</td>\n",
       "    </tr>\n",
       "    <tr>\n",
       "      <th>93</th>\n",
       "      <td>Oct-02</td>\n",
       "      <td>306</td>\n",
       "      <td>94</td>\n",
       "      <td>Oct</td>\n",
       "      <td>5.723585</td>\n",
       "      <td>17.492856</td>\n",
       "      <td>0</td>\n",
       "      <td>0</td>\n",
       "      <td>0</td>\n",
       "      <td>0</td>\n",
       "      <td>0</td>\n",
       "      <td>0</td>\n",
       "      <td>0</td>\n",
       "      <td>0</td>\n",
       "      <td>0</td>\n",
       "      <td>0</td>\n",
       "      <td>1</td>\n",
       "      <td>0</td>\n",
       "      <td>302.845835</td>\n",
       "    </tr>\n",
       "    <tr>\n",
       "      <th>94</th>\n",
       "      <td>Nov-02</td>\n",
       "      <td>271</td>\n",
       "      <td>95</td>\n",
       "      <td>Nov</td>\n",
       "      <td>5.602119</td>\n",
       "      <td>16.462078</td>\n",
       "      <td>0</td>\n",
       "      <td>0</td>\n",
       "      <td>0</td>\n",
       "      <td>0</td>\n",
       "      <td>0</td>\n",
       "      <td>0</td>\n",
       "      <td>0</td>\n",
       "      <td>0</td>\n",
       "      <td>0</td>\n",
       "      <td>1</td>\n",
       "      <td>0</td>\n",
       "      <td>0</td>\n",
       "      <td>272.498337</td>\n",
       "    </tr>\n",
       "    <tr>\n",
       "      <th>95</th>\n",
       "      <td>Dec-02</td>\n",
       "      <td>306</td>\n",
       "      <td>96</td>\n",
       "      <td>Dec</td>\n",
       "      <td>5.723585</td>\n",
       "      <td>17.492856</td>\n",
       "      <td>0</td>\n",
       "      <td>0</td>\n",
       "      <td>1</td>\n",
       "      <td>0</td>\n",
       "      <td>0</td>\n",
       "      <td>0</td>\n",
       "      <td>0</td>\n",
       "      <td>0</td>\n",
       "      <td>0</td>\n",
       "      <td>0</td>\n",
       "      <td>0</td>\n",
       "      <td>0</td>\n",
       "      <td>302.305232</td>\n",
       "    </tr>\n",
       "  </tbody>\n",
       "</table>\n",
       "</div>"
      ],
      "text/plain": [
       "     Month  Passengers   t months       log       sqrt  apr  aug  dec  feb  \\\n",
       "84  Jan-02         284  85    Jan  5.648974  16.852300    0    0    0    0   \n",
       "85  Feb-02         277  86    Feb  5.624018  16.643317    0    0    0    1   \n",
       "86  Mar-02         317  87    Mar  5.758902  17.804494    0    0    0    0   \n",
       "87  Apr-02         313  88    Apr  5.746203  17.691806    1    0    0    0   \n",
       "88  May-02         318  89    May  5.762051  17.832555    0    0    0    0   \n",
       "89  Jun-02         374  90    Jun  5.924256  19.339080    0    0    0    0   \n",
       "90  Jul-02         413  91    Jul  6.023448  20.322401    0    0    0    0   \n",
       "91  Aug-02         405  92    Aug  6.003887  20.124612    0    1    0    0   \n",
       "92  Sep-02         355  93    Sep  5.872118  18.841444    0    0    0    0   \n",
       "93  Oct-02         306  94    Oct  5.723585  17.492856    0    0    0    0   \n",
       "94  Nov-02         271  95    Nov  5.602119  16.462078    0    0    0    0   \n",
       "95  Dec-02         306  96    Dec  5.723585  17.492856    0    0    1    0   \n",
       "\n",
       "    jan  jul  jun  mar  may  nov  oct  sep        pred  \n",
       "84    1    0    0    0    0    0    0    0  285.556515  \n",
       "85    0    0    0    0    0    0    0    0  276.029185  \n",
       "86    0    0    0    1    0    0    0    0  310.888740  \n",
       "87    0    0    0    0    0    0    0    0  309.143681  \n",
       "88    0    0    0    0    1    0    0    0  315.469963  \n",
       "89    0    0    1    0    0    0    0    0  366.481669  \n",
       "90    0    1    0    0    0    0    0    0  399.181129  \n",
       "91    0    0    0    0    0    0    0    0  391.046541  \n",
       "92    0    0    0    0    0    0    0    1  346.770296  \n",
       "93    0    0    0    0    0    0    1    0  302.845835  \n",
       "94    0    0    0    0    0    1    0    0  272.498337  \n",
       "95    0    0    0    0    0    0    0    0  302.305232  "
      ]
     },
     "execution_count": 294,
     "metadata": {},
     "output_type": "execute_result"
    }
   ],
   "source": [
    "val"
   ]
  },
  {
   "cell_type": "code",
   "execution_count": 295,
   "id": "31338195",
   "metadata": {},
   "outputs": [
    {
     "name": "stderr",
     "output_type": "stream",
     "text": [
      "C:\\Users\\Ashutosh\\AppData\\Local\\Temp\\ipykernel_4056\\498702089.py:1: FutureWarning: The frame.append method is deprecated and will be removed from pandas in a future version. Use pandas.concat instead.\n",
      "  test1=test.append(val)\n"
     ]
    },
    {
     "data": {
      "text/plain": [
       "(24, 19)"
      ]
     },
     "execution_count": 295,
     "metadata": {},
     "output_type": "execute_result"
    }
   ],
   "source": [
    "test1=test.append(val)\n",
    "test1.shape"
   ]
  },
  {
   "cell_type": "code",
   "execution_count": 296,
   "id": "c21895de",
   "metadata": {},
   "outputs": [
    {
     "data": {
      "text/plain": [
       "<AxesSubplot:>"
      ]
     },
     "execution_count": 296,
     "metadata": {},
     "output_type": "execute_result"
    },
    {
     "data": {
      "image/png": "[encoded data removed]",
      "text/plain": [
       "<Figure size 432x288 with 1 Axes>"
      ]
     },
     "metadata": {
      "needs_background": "light"
     },
     "output_type": "display_data"
    }
   ],
   "source": [
    "test1['pred'].plot()"
   ]
  },
  {
   "cell_type": "code",
   "execution_count": 297,
   "id": "4745d8e8",
   "metadata": {},
   "outputs": [
    {
     "data": {
      "text/html": [
       "<div>\n",
       "<style scoped>\n",
       "    .dataframe tbody tr th:only-of-type {\n",
       "        vertical-align: middle;\n",
       "    }\n",
       "\n",
       "    .dataframe tbody tr th {\n",
       "        vertical-align: top;\n",
       "    }\n",
       "\n",
       "    .dataframe thead th {\n",
       "        text-align: right;\n",
       "    }\n",
       "</style>\n",
       "<table border=\"1\" class=\"dataframe\">\n",
       "  <thead>\n",
       "    <tr style=\"text-align: right;\">\n",
       "      <th></th>\n",
       "      <th>Month</th>\n",
       "      <th>Passengers</th>\n",
       "      <th>t</th>\n",
       "      <th>months</th>\n",
       "      <th>log</th>\n",
       "      <th>sqrt</th>\n",
       "      <th>apr</th>\n",
       "      <th>aug</th>\n",
       "      <th>dec</th>\n",
       "      <th>feb</th>\n",
       "      <th>jan</th>\n",
       "      <th>jul</th>\n",
       "      <th>jun</th>\n",
       "      <th>mar</th>\n",
       "      <th>may</th>\n",
       "      <th>nov</th>\n",
       "      <th>oct</th>\n",
       "      <th>sep</th>\n",
       "      <th>pred</th>\n",
       "    </tr>\n",
       "  </thead>\n",
       "  <tbody>\n",
       "    <tr>\n",
       "      <th>72</th>\n",
       "      <td>Jan-01</td>\n",
       "      <td>242</td>\n",
       "      <td>73</td>\n",
       "      <td>Jan</td>\n",
       "      <td>5.488938</td>\n",
       "      <td>15.556349</td>\n",
       "      <td>0</td>\n",
       "      <td>0</td>\n",
       "      <td>0</td>\n",
       "      <td>0</td>\n",
       "      <td>1</td>\n",
       "      <td>0</td>\n",
       "      <td>0</td>\n",
       "      <td>0</td>\n",
       "      <td>0</td>\n",
       "      <td>0</td>\n",
       "      <td>0</td>\n",
       "      <td>0</td>\n",
       "      <td>244.458055</td>\n",
       "    </tr>\n",
       "    <tr>\n",
       "      <th>73</th>\n",
       "      <td>Feb-01</td>\n",
       "      <td>233</td>\n",
       "      <td>74</td>\n",
       "      <td>Feb</td>\n",
       "      <td>5.451038</td>\n",
       "      <td>15.264338</td>\n",
       "      <td>0</td>\n",
       "      <td>0</td>\n",
       "      <td>0</td>\n",
       "      <td>1</td>\n",
       "      <td>0</td>\n",
       "      <td>0</td>\n",
       "      <td>0</td>\n",
       "      <td>0</td>\n",
       "      <td>0</td>\n",
       "      <td>0</td>\n",
       "      <td>0</td>\n",
       "      <td>0</td>\n",
       "      <td>231.687786</td>\n",
       "    </tr>\n",
       "    <tr>\n",
       "      <th>74</th>\n",
       "      <td>Mar-01</td>\n",
       "      <td>267</td>\n",
       "      <td>75</td>\n",
       "      <td>Mar</td>\n",
       "      <td>5.587249</td>\n",
       "      <td>16.340135</td>\n",
       "      <td>0</td>\n",
       "      <td>0</td>\n",
       "      <td>0</td>\n",
       "      <td>0</td>\n",
       "      <td>0</td>\n",
       "      <td>0</td>\n",
       "      <td>0</td>\n",
       "      <td>1</td>\n",
       "      <td>0</td>\n",
       "      <td>0</td>\n",
       "      <td>0</td>\n",
       "      <td>0</td>\n",
       "      <td>263.212592</td>\n",
       "    </tr>\n",
       "    <tr>\n",
       "      <th>75</th>\n",
       "      <td>Apr-01</td>\n",
       "      <td>269</td>\n",
       "      <td>76</td>\n",
       "      <td>Apr</td>\n",
       "      <td>5.594711</td>\n",
       "      <td>16.401219</td>\n",
       "      <td>1</td>\n",
       "      <td>0</td>\n",
       "      <td>0</td>\n",
       "      <td>0</td>\n",
       "      <td>0</td>\n",
       "      <td>0</td>\n",
       "      <td>0</td>\n",
       "      <td>0</td>\n",
       "      <td>0</td>\n",
       "      <td>0</td>\n",
       "      <td>0</td>\n",
       "      <td>0</td>\n",
       "      <td>268.254720</td>\n",
       "    </tr>\n",
       "    <tr>\n",
       "      <th>76</th>\n",
       "      <td>May-01</td>\n",
       "      <td>270</td>\n",
       "      <td>77</td>\n",
       "      <td>May</td>\n",
       "      <td>5.598422</td>\n",
       "      <td>16.431677</td>\n",
       "      <td>0</td>\n",
       "      <td>0</td>\n",
       "      <td>0</td>\n",
       "      <td>0</td>\n",
       "      <td>0</td>\n",
       "      <td>0</td>\n",
       "      <td>0</td>\n",
       "      <td>0</td>\n",
       "      <td>1</td>\n",
       "      <td>0</td>\n",
       "      <td>0</td>\n",
       "      <td>0</td>\n",
       "      <td>270.273262</td>\n",
       "    </tr>\n",
       "    <tr>\n",
       "      <th>77</th>\n",
       "      <td>Jun-01</td>\n",
       "      <td>315</td>\n",
       "      <td>78</td>\n",
       "      <td>Jun</td>\n",
       "      <td>5.752573</td>\n",
       "      <td>17.748239</td>\n",
       "      <td>0</td>\n",
       "      <td>0</td>\n",
       "      <td>0</td>\n",
       "      <td>0</td>\n",
       "      <td>0</td>\n",
       "      <td>0</td>\n",
       "      <td>1</td>\n",
       "      <td>0</td>\n",
       "      <td>0</td>\n",
       "      <td>0</td>\n",
       "      <td>0</td>\n",
       "      <td>0</td>\n",
       "      <td>313.865440</td>\n",
       "    </tr>\n",
       "    <tr>\n",
       "      <th>78</th>\n",
       "      <td>Jul-01</td>\n",
       "      <td>364</td>\n",
       "      <td>79</td>\n",
       "      <td>Jul</td>\n",
       "      <td>5.897154</td>\n",
       "      <td>19.078784</td>\n",
       "      <td>0</td>\n",
       "      <td>0</td>\n",
       "      <td>0</td>\n",
       "      <td>0</td>\n",
       "      <td>0</td>\n",
       "      <td>1</td>\n",
       "      <td>0</td>\n",
       "      <td>0</td>\n",
       "      <td>0</td>\n",
       "      <td>0</td>\n",
       "      <td>0</td>\n",
       "      <td>0</td>\n",
       "      <td>360.126682</td>\n",
       "    </tr>\n",
       "    <tr>\n",
       "      <th>79</th>\n",
       "      <td>Aug-01</td>\n",
       "      <td>347</td>\n",
       "      <td>80</td>\n",
       "      <td>Aug</td>\n",
       "      <td>5.849325</td>\n",
       "      <td>18.627936</td>\n",
       "      <td>0</td>\n",
       "      <td>1</td>\n",
       "      <td>0</td>\n",
       "      <td>0</td>\n",
       "      <td>0</td>\n",
       "      <td>0</td>\n",
       "      <td>0</td>\n",
       "      <td>0</td>\n",
       "      <td>0</td>\n",
       "      <td>0</td>\n",
       "      <td>0</td>\n",
       "      <td>0</td>\n",
       "      <td>342.108175</td>\n",
       "    </tr>\n",
       "    <tr>\n",
       "      <th>80</th>\n",
       "      <td>Sep-01</td>\n",
       "      <td>312</td>\n",
       "      <td>81</td>\n",
       "      <td>Sep</td>\n",
       "      <td>5.743003</td>\n",
       "      <td>17.663522</td>\n",
       "      <td>0</td>\n",
       "      <td>0</td>\n",
       "      <td>0</td>\n",
       "      <td>0</td>\n",
       "      <td>0</td>\n",
       "      <td>0</td>\n",
       "      <td>0</td>\n",
       "      <td>0</td>\n",
       "      <td>0</td>\n",
       "      <td>0</td>\n",
       "      <td>0</td>\n",
       "      <td>1</td>\n",
       "      <td>310.281773</td>\n",
       "    </tr>\n",
       "    <tr>\n",
       "      <th>81</th>\n",
       "      <td>Oct-01</td>\n",
       "      <td>274</td>\n",
       "      <td>82</td>\n",
       "      <td>Oct</td>\n",
       "      <td>5.613128</td>\n",
       "      <td>16.552945</td>\n",
       "      <td>0</td>\n",
       "      <td>0</td>\n",
       "      <td>0</td>\n",
       "      <td>0</td>\n",
       "      <td>0</td>\n",
       "      <td>0</td>\n",
       "      <td>0</td>\n",
       "      <td>0</td>\n",
       "      <td>0</td>\n",
       "      <td>0</td>\n",
       "      <td>1</td>\n",
       "      <td>0</td>\n",
       "      <td>275.653537</td>\n",
       "    </tr>\n",
       "    <tr>\n",
       "      <th>82</th>\n",
       "      <td>Nov-01</td>\n",
       "      <td>237</td>\n",
       "      <td>83</td>\n",
       "      <td>Nov</td>\n",
       "      <td>5.468060</td>\n",
       "      <td>15.394804</td>\n",
       "      <td>0</td>\n",
       "      <td>0</td>\n",
       "      <td>0</td>\n",
       "      <td>0</td>\n",
       "      <td>0</td>\n",
       "      <td>0</td>\n",
       "      <td>0</td>\n",
       "      <td>0</td>\n",
       "      <td>0</td>\n",
       "      <td>1</td>\n",
       "      <td>0</td>\n",
       "      <td>0</td>\n",
       "      <td>240.331514</td>\n",
       "    </tr>\n",
       "    <tr>\n",
       "      <th>83</th>\n",
       "      <td>Dec-01</td>\n",
       "      <td>278</td>\n",
       "      <td>84</td>\n",
       "      <td>Dec</td>\n",
       "      <td>5.627621</td>\n",
       "      <td>16.673332</td>\n",
       "      <td>0</td>\n",
       "      <td>0</td>\n",
       "      <td>1</td>\n",
       "      <td>0</td>\n",
       "      <td>0</td>\n",
       "      <td>0</td>\n",
       "      <td>0</td>\n",
       "      <td>0</td>\n",
       "      <td>0</td>\n",
       "      <td>0</td>\n",
       "      <td>0</td>\n",
       "      <td>0</td>\n",
       "      <td>279.814980</td>\n",
       "    </tr>\n",
       "    <tr>\n",
       "      <th>84</th>\n",
       "      <td>Jan-02</td>\n",
       "      <td>284</td>\n",
       "      <td>85</td>\n",
       "      <td>Jan</td>\n",
       "      <td>5.648974</td>\n",
       "      <td>16.852300</td>\n",
       "      <td>0</td>\n",
       "      <td>0</td>\n",
       "      <td>0</td>\n",
       "      <td>0</td>\n",
       "      <td>1</td>\n",
       "      <td>0</td>\n",
       "      <td>0</td>\n",
       "      <td>0</td>\n",
       "      <td>0</td>\n",
       "      <td>0</td>\n",
       "      <td>0</td>\n",
       "      <td>0</td>\n",
       "      <td>285.556515</td>\n",
       "    </tr>\n",
       "    <tr>\n",
       "      <th>85</th>\n",
       "      <td>Feb-02</td>\n",
       "      <td>277</td>\n",
       "      <td>86</td>\n",
       "      <td>Feb</td>\n",
       "      <td>5.624018</td>\n",
       "      <td>16.643317</td>\n",
       "      <td>0</td>\n",
       "      <td>0</td>\n",
       "      <td>0</td>\n",
       "      <td>1</td>\n",
       "      <td>0</td>\n",
       "      <td>0</td>\n",
       "      <td>0</td>\n",
       "      <td>0</td>\n",
       "      <td>0</td>\n",
       "      <td>0</td>\n",
       "      <td>0</td>\n",
       "      <td>0</td>\n",
       "      <td>276.029185</td>\n",
       "    </tr>\n",
       "    <tr>\n",
       "      <th>86</th>\n",
       "      <td>Mar-02</td>\n",
       "      <td>317</td>\n",
       "      <td>87</td>\n",
       "      <td>Mar</td>\n",
       "      <td>5.758902</td>\n",
       "      <td>17.804494</td>\n",
       "      <td>0</td>\n",
       "      <td>0</td>\n",
       "      <td>0</td>\n",
       "      <td>0</td>\n",
       "      <td>0</td>\n",
       "      <td>0</td>\n",
       "      <td>0</td>\n",
       "      <td>1</td>\n",
       "      <td>0</td>\n",
       "      <td>0</td>\n",
       "      <td>0</td>\n",
       "      <td>0</td>\n",
       "      <td>310.888740</td>\n",
       "    </tr>\n",
       "    <tr>\n",
       "      <th>87</th>\n",
       "      <td>Apr-02</td>\n",
       "      <td>313</td>\n",
       "      <td>88</td>\n",
       "      <td>Apr</td>\n",
       "      <td>5.746203</td>\n",
       "      <td>17.691806</td>\n",
       "      <td>1</td>\n",
       "      <td>0</td>\n",
       "      <td>0</td>\n",
       "      <td>0</td>\n",
       "      <td>0</td>\n",
       "      <td>0</td>\n",
       "      <td>0</td>\n",
       "      <td>0</td>\n",
       "      <td>0</td>\n",
       "      <td>0</td>\n",
       "      <td>0</td>\n",
       "      <td>0</td>\n",
       "      <td>309.143681</td>\n",
       "    </tr>\n",
       "    <tr>\n",
       "      <th>88</th>\n",
       "      <td>May-02</td>\n",
       "      <td>318</td>\n",
       "      <td>89</td>\n",
       "      <td>May</td>\n",
       "      <td>5.762051</td>\n",
       "      <td>17.832555</td>\n",
       "      <td>0</td>\n",
       "      <td>0</td>\n",
       "      <td>0</td>\n",
       "      <td>0</td>\n",
       "      <td>0</td>\n",
       "      <td>0</td>\n",
       "      <td>0</td>\n",
       "      <td>0</td>\n",
       "      <td>1</td>\n",
       "      <td>0</td>\n",
       "      <td>0</td>\n",
       "      <td>0</td>\n",
       "      <td>315.469963</td>\n",
       "    </tr>\n",
       "    <tr>\n",
       "      <th>89</th>\n",
       "      <td>Jun-02</td>\n",
       "      <td>374</td>\n",
       "      <td>90</td>\n",
       "      <td>Jun</td>\n",
       "      <td>5.924256</td>\n",
       "      <td>19.339080</td>\n",
       "      <td>0</td>\n",
       "      <td>0</td>\n",
       "      <td>0</td>\n",
       "      <td>0</td>\n",
       "      <td>0</td>\n",
       "      <td>0</td>\n",
       "      <td>1</td>\n",
       "      <td>0</td>\n",
       "      <td>0</td>\n",
       "      <td>0</td>\n",
       "      <td>0</td>\n",
       "      <td>0</td>\n",
       "      <td>366.481669</td>\n",
       "    </tr>\n",
       "    <tr>\n",
       "      <th>90</th>\n",
       "      <td>Jul-02</td>\n",
       "      <td>413</td>\n",
       "      <td>91</td>\n",
       "      <td>Jul</td>\n",
       "      <td>6.023448</td>\n",
       "      <td>20.322401</td>\n",
       "      <td>0</td>\n",
       "      <td>0</td>\n",
       "      <td>0</td>\n",
       "      <td>0</td>\n",
       "      <td>0</td>\n",
       "      <td>1</td>\n",
       "      <td>0</td>\n",
       "      <td>0</td>\n",
       "      <td>0</td>\n",
       "      <td>0</td>\n",
       "      <td>0</td>\n",
       "      <td>0</td>\n",
       "      <td>399.181129</td>\n",
       "    </tr>\n",
       "    <tr>\n",
       "      <th>91</th>\n",
       "      <td>Aug-02</td>\n",
       "      <td>405</td>\n",
       "      <td>92</td>\n",
       "      <td>Aug</td>\n",
       "      <td>6.003887</td>\n",
       "      <td>20.124612</td>\n",
       "      <td>0</td>\n",
       "      <td>1</td>\n",
       "      <td>0</td>\n",
       "      <td>0</td>\n",
       "      <td>0</td>\n",
       "      <td>0</td>\n",
       "      <td>0</td>\n",
       "      <td>0</td>\n",
       "      <td>0</td>\n",
       "      <td>0</td>\n",
       "      <td>0</td>\n",
       "      <td>0</td>\n",
       "      <td>391.046541</td>\n",
       "    </tr>\n",
       "    <tr>\n",
       "      <th>92</th>\n",
       "      <td>Sep-02</td>\n",
       "      <td>355</td>\n",
       "      <td>93</td>\n",
       "      <td>Sep</td>\n",
       "      <td>5.872118</td>\n",
       "      <td>18.841444</td>\n",
       "      <td>0</td>\n",
       "      <td>0</td>\n",
       "      <td>0</td>\n",
       "      <td>0</td>\n",
       "      <td>0</td>\n",
       "      <td>0</td>\n",
       "      <td>0</td>\n",
       "      <td>0</td>\n",
       "      <td>0</td>\n",
       "      <td>0</td>\n",
       "      <td>0</td>\n",
       "      <td>1</td>\n",
       "      <td>346.770296</td>\n",
       "    </tr>\n",
       "    <tr>\n",
       "      <th>93</th>\n",
       "      <td>Oct-02</td>\n",
       "      <td>306</td>\n",
       "      <td>94</td>\n",
       "      <td>Oct</td>\n",
       "      <td>5.723585</td>\n",
       "      <td>17.492856</td>\n",
       "      <td>0</td>\n",
       "      <td>0</td>\n",
       "      <td>0</td>\n",
       "      <td>0</td>\n",
       "      <td>0</td>\n",
       "      <td>0</td>\n",
       "      <td>0</td>\n",
       "      <td>0</td>\n",
       "      <td>0</td>\n",
       "      <td>0</td>\n",
       "      <td>1</td>\n",
       "      <td>0</td>\n",
       "      <td>302.845835</td>\n",
       "    </tr>\n",
       "    <tr>\n",
       "      <th>94</th>\n",
       "      <td>Nov-02</td>\n",
       "      <td>271</td>\n",
       "      <td>95</td>\n",
       "      <td>Nov</td>\n",
       "      <td>5.602119</td>\n",
       "      <td>16.462078</td>\n",
       "      <td>0</td>\n",
       "      <td>0</td>\n",
       "      <td>0</td>\n",
       "      <td>0</td>\n",
       "      <td>0</td>\n",
       "      <td>0</td>\n",
       "      <td>0</td>\n",
       "      <td>0</td>\n",
       "      <td>0</td>\n",
       "      <td>1</td>\n",
       "      <td>0</td>\n",
       "      <td>0</td>\n",
       "      <td>272.498337</td>\n",
       "    </tr>\n",
       "    <tr>\n",
       "      <th>95</th>\n",
       "      <td>Dec-02</td>\n",
       "      <td>306</td>\n",
       "      <td>96</td>\n",
       "      <td>Dec</td>\n",
       "      <td>5.723585</td>\n",
       "      <td>17.492856</td>\n",
       "      <td>0</td>\n",
       "      <td>0</td>\n",
       "      <td>1</td>\n",
       "      <td>0</td>\n",
       "      <td>0</td>\n",
       "      <td>0</td>\n",
       "      <td>0</td>\n",
       "      <td>0</td>\n",
       "      <td>0</td>\n",
       "      <td>0</td>\n",
       "      <td>0</td>\n",
       "      <td>0</td>\n",
       "      <td>302.305232</td>\n",
       "    </tr>\n",
       "  </tbody>\n",
       "</table>\n",
       "</div>"
      ],
      "text/plain": [
       "     Month  Passengers   t months       log       sqrt  apr  aug  dec  feb  \\\n",
       "72  Jan-01         242  73    Jan  5.488938  15.556349    0    0    0    0   \n",
       "73  Feb-01         233  74    Feb  5.451038  15.264338    0    0    0    1   \n",
       "74  Mar-01         267  75    Mar  5.587249  16.340135    0    0    0    0   \n",
       "75  Apr-01         269  76    Apr  5.594711  16.401219    1    0    0    0   \n",
       "76  May-01         270  77    May  5.598422  16.431677    0    0    0    0   \n",
       "77  Jun-01         315  78    Jun  5.752573  17.748239    0    0    0    0   \n",
       "78  Jul-01         364  79    Jul  5.897154  19.078784    0    0    0    0   \n",
       "79  Aug-01         347  80    Aug  5.849325  18.627936    0    1    0    0   \n",
       "80  Sep-01         312  81    Sep  5.743003  17.663522    0    0    0    0   \n",
       "81  Oct-01         274  82    Oct  5.613128  16.552945    0    0    0    0   \n",
       "82  Nov-01         237  83    Nov  5.468060  15.394804    0    0    0    0   \n",
       "83  Dec-01         278  84    Dec  5.627621  16.673332    0    0    1    0   \n",
       "84  Jan-02         284  85    Jan  5.648974  16.852300    0    0    0    0   \n",
       "85  Feb-02         277  86    Feb  5.624018  16.643317    0    0    0    1   \n",
       "86  Mar-02         317  87    Mar  5.758902  17.804494    0    0    0    0   \n",
       "87  Apr-02         313  88    Apr  5.746203  17.691806    1    0    0    0   \n",
       "88  May-02         318  89    May  5.762051  17.832555    0    0    0    0   \n",
       "89  Jun-02         374  90    Jun  5.924256  19.339080    0    0    0    0   \n",
       "90  Jul-02         413  91    Jul  6.023448  20.322401    0    0    0    0   \n",
       "91  Aug-02         405  92    Aug  6.003887  20.124612    0    1    0    0   \n",
       "92  Sep-02         355  93    Sep  5.872118  18.841444    0    0    0    0   \n",
       "93  Oct-02         306  94    Oct  5.723585  17.492856    0    0    0    0   \n",
       "94  Nov-02         271  95    Nov  5.602119  16.462078    0    0    0    0   \n",
       "95  Dec-02         306  96    Dec  5.723585  17.492856    0    0    1    0   \n",
       "\n",
       "    jan  jul  jun  mar  may  nov  oct  sep        pred  \n",
       "72    1    0    0    0    0    0    0    0  244.458055  \n",
       "73    0    0    0    0    0    0    0    0  231.687786  \n",
       "74    0    0    0    1    0    0    0    0  263.212592  \n",
       "75    0    0    0    0    0    0    0    0  268.254720  \n",
       "76    0    0    0    0    1    0    0    0  270.273262  \n",
       "77    0    0    1    0    0    0    0    0  313.865440  \n",
       "78    0    1    0    0    0    0    0    0  360.126682  \n",
       "79    0    0    0    0    0    0    0    0  342.108175  \n",
       "80    0    0    0    0    0    0    0    1  310.281773  \n",
       "81    0    0    0    0    0    0    1    0  275.653537  \n",
       "82    0    0    0    0    0    1    0    0  240.331514  \n",
       "83    0    0    0    0    0    0    0    0  279.814980  \n",
       "84    1    0    0    0    0    0    0    0  285.556515  \n",
       "85    0    0    0    0    0    0    0    0  276.029185  \n",
       "86    0    0    0    1    0    0    0    0  310.888740  \n",
       "87    0    0    0    0    0    0    0    0  309.143681  \n",
       "88    0    0    0    0    1    0    0    0  315.469963  \n",
       "89    0    0    1    0    0    0    0    0  366.481669  \n",
       "90    0    1    0    0    0    0    0    0  399.181129  \n",
       "91    0    0    0    0    0    0    0    0  391.046541  \n",
       "92    0    0    0    0    0    0    0    1  346.770296  \n",
       "93    0    0    0    0    0    0    1    0  302.845835  \n",
       "94    0    0    0    0    0    1    0    0  272.498337  \n",
       "95    0    0    0    0    0    0    0    0  302.305232  "
      ]
     },
     "execution_count": 297,
     "metadata": {},
     "output_type": "execute_result"
    }
   ],
   "source": [
    "test1"
   ]
  },
  {
   "cell_type": "code",
   "execution_count": null,
   "id": "ef946cdc",
   "metadata": {},
   "outputs": [],
   "source": []
  }
 ],
 "metadata": {
  "kernelspec": {
   "display_name": "Python 3 (ipykernel)",
   "language": "python",
   "name": "python3"
  },
  "language_info": {
   "codemirror_mode": {
    "name": "ipython",
    "version": 3
   },
   "file_extension": ".py",
   "mimetype": "text/x-python",
   "name": "python",
   "nbconvert_exporter": "python",
   "pygments_lexer": "ipython3",
   "version": "3.9.12"
  }
 },
 "nbformat": 4,
 "nbformat_minor": 5
}
